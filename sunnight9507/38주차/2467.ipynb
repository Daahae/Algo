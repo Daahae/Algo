{
 "cells": [
  {
   "cell_type": "code",
   "execution_count": 57,
   "metadata": {},
   "outputs": [
    {
     "name": "stdout",
     "output_type": "stream",
     "text": [
      "3\n",
      "-3 -1 10\n"
     ]
    }
   ],
   "source": [
    "N = int(input())\n",
    "\n",
    "lst = list(map(int, input().split()))"
   ]
  },
  {
   "cell_type": "code",
   "execution_count": 58,
   "metadata": {},
   "outputs": [
    {
     "name": "stdout",
     "output_type": "stream",
     "text": [
      "-1 -3\n"
     ]
    }
   ],
   "source": [
    "start = 0\n",
    "end = len(lst)-1\n",
    "\n",
    "abs_min = abs(lst[start] + lst[end])\n",
    "min_start = start\n",
    "min_end = end\n",
    "\n",
    "while start < end:\n",
    "    \n",
    "    if lst[start] > 0 or lst[end] < 0: break\n",
    "    abs_result = abs(lst[start] + lst[end])\n",
    "    #print(lst[start],lst[end], abs_result)\n",
    "    \n",
    "    if abs_result < abs_min: \n",
    "        abs_min = abs_result\n",
    "        min_start = start\n",
    "        min_end = end\n",
    "    if lst[start] + lst[end] == 0:\n",
    "        break\n",
    "    elif lst[start] + lst[end] > 0:\n",
    "        end -= 1\n",
    "    else:\n",
    "        start += 1 \n",
    "    \n",
    "    # print(abs_min)\n",
    "        \n",
    "if lst[start] + lst[end] == 0: pass\n",
    "elif lst[start] + lst[end] > 0:\n",
    "    if abs(lst[start] + lst[start + 1]) < abs_min:\n",
    "        abs_min = abs(lst[start] + lst[start + 1])\n",
    "        min_start = start\n",
    "        min_end = start + 1\n",
    "else:\n",
    "    if abs(lst[end] + lst[end - 1]) < abs_min:\n",
    "        abs_min = abs(lst[end] + lst[end - 1])\n",
    "        min_start = end - 1\n",
    "        min_end = end\n",
    "# print(start, end)      \n",
    "# if abs(lst[start-2] + lst[start-1])\n",
    "        \n",
    "print(lst[min_start], lst[min_end])"
   ]
  }
 ],
 "metadata": {
  "kernelspec": {
   "display_name": "Python 3",
   "language": "python",
   "name": "python3"
  },
  "language_info": {
   "codemirror_mode": {
    "name": "ipython",
    "version": 3
   },
   "file_extension": ".py",
   "mimetype": "text/x-python",
   "name": "python",
   "nbconvert_exporter": "python",
   "pygments_lexer": "ipython3",
   "version": "3.7.3"
  }
 },
 "nbformat": 4,
 "nbformat_minor": 2
}

{
 "cells": [
  {
   "cell_type": "code",
   "execution_count": 2,
   "metadata": {},
   "outputs": [],
   "source": [
    "import copy\n",
    "\n",
    "def solution(n):\n",
    "    if n == 1:\n",
    "        return [0]\n",
    "    \n",
    "    lst = [0]\n",
    "    \n",
    "    new_lst = []\n",
    "    while n > 1:\n",
    "        # print(new_lst)\n",
    "        new_lst = copy.deepcopy(lst)\n",
    "\n",
    "        lst += [0]\n",
    "        for i in range(len(new_lst)-1,-1,-1):\n",
    "            if new_lst[i] == 1: lst.append(0)\n",
    "            else: lst.append(1)\n",
    "    \n",
    "        n -= 1\n",
    "    \n",
    "    return lst"
   ]
  },
  {
   "cell_type": "code",
   "execution_count": 4,
   "metadata": {},
   "outputs": [
    {
     "data": {
      "text/plain": [
       "[0, 0, 1, 0, 0, 1, 1]"
      ]
     },
     "execution_count": 4,
     "metadata": {},
     "output_type": "execute_result"
    }
   ],
   "source": [
    "solution(3)"
   ]
  }
 ],
 "metadata": {
  "kernelspec": {
   "display_name": "Python 3",
   "language": "python",
   "name": "python3"
  },
  "language_info": {
   "codemirror_mode": {
    "name": "ipython",
    "version": 3
   },
   "file_extension": ".py",
   "mimetype": "text/x-python",
   "name": "python",
   "nbconvert_exporter": "python",
   "pygments_lexer": "ipython3",
   "version": "3.7.6"
  }
 },
 "nbformat": 4,
 "nbformat_minor": 4
}

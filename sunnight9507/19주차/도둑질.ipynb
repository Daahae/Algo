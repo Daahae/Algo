{
 "cells": [
  {
   "cell_type": "markdown",
   "metadata": {},
   "source": [
    "https://programmers.co.kr/learn/courses/30/lessons/42897"
   ]
  },
  {
   "cell_type": "code",
   "execution_count": 13,
   "metadata": {},
   "outputs": [],
   "source": [
    "def solution(money):\n",
    "    a1 = [0 for i in range(len(money))]\n",
    "    a2 = [0 for i in range(len(money))]\n",
    "    a1[0], a1[1] = money[0], money[0]\n",
    "    a2[0], a2[1] = 0, money[1]\n",
    "    \n",
    "    for i in range(2, len(money)-1):\n",
    "        a1[i] = a1[i-1] if a1[i-1] > a1[i-2] + money[i] else a1[i-2] + money[i]\n",
    "    for i in range(2, len(money)):\n",
    "        a2[i] = a2[i-1] if a2[i-1] > a2[i-2] + money[i] else a2[i-2] + money[i]\n",
    "    \n",
    "    #print(a1)\n",
    "    #print(a2)\n",
    "    return max(a1[len(money)-2], a2[len(money)-1])"
   ]
  },
  {
   "cell_type": "code",
   "execution_count": 17,
   "metadata": {},
   "outputs": [
    {
     "data": {
      "text/plain": [
       "4"
      ]
     },
     "execution_count": 17,
     "metadata": {},
     "output_type": "execute_result"
    }
   ],
   "source": [
    "solution([1, 2, 3, 1])"
   ]
  }
 ],
 "metadata": {
  "kernelspec": {
   "display_name": "Python 3",
   "language": "python",
   "name": "python3"
  },
  "language_info": {
   "codemirror_mode": {
    "name": "ipython",
    "version": 3
   },
   "file_extension": ".py",
   "mimetype": "text/x-python",
   "name": "python",
   "nbconvert_exporter": "python",
   "pygments_lexer": "ipython3",
   "version": "3.7.4"
  }
 },
 "nbformat": 4,
 "nbformat_minor": 2
}

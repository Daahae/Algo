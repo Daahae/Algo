{
 "cells": [
  {
   "cell_type": "markdown",
   "metadata": {},
   "source": [
    "https://programmers.co.kr/learn/courses/30/lessons/42899"
   ]
  },
  {
   "cell_type": "code",
   "execution_count": 84,
   "metadata": {},
   "outputs": [],
   "source": [
    "def solution(K, travel):\n",
    "    answer = 0\n",
    "    \n",
    "    result1 = [[0,0] for i in range(0,10000)]\n",
    "    result2 = [[0,0] for i in range(0,10000)]\n",
    "    \n",
    "    result1[0][0], result1[0][1] = travel[0][0], travel[0][1]\n",
    "    result1[1][0], result1[1][1] = travel[0][2], travel[0][3]\n",
    "    \n",
    "    #print(result1)\n",
    "    #print(result2)\n",
    "    \n",
    "    for i in range(1,len(travel)):\n",
    "        #print(i)\n",
    "        #print()\n",
    "        if i % 2 == 1:\n",
    "            for j in range(0,len(result1)):\n",
    "                if result1[j][0] == 0:\n",
    "                    break\n",
    "                if result1[j][1] == 1:\n",
    "                    continue\n",
    "                if result1[j][0] + travel[i][0] > K:\n",
    "                    result2[j*2][0], result2[j*2][1] = 1,0\n",
    "                else:\n",
    "                    result2[j*2][0], result2[j*2][1] = result1[j][0] + travel[i][0], result1[j][1] + travel[i][1]\n",
    "                if result1[j][0] + travel[i][2] > K:\n",
    "                    result2[j*2 + 1][0], result2[j*2 + 1][1] = 1,0\n",
    "                else:\n",
    "                    result2[j*2 + 1][0], result2[j*2 + 1][1] = result1[j][0] + travel[i][2], result1[j][1] + travel[i][3]\n",
    "            #print(result1)\n",
    "            #print(result2)\n",
    "        else:\n",
    "            for j in range(0,len(result2)):\n",
    "                if result2[j][0] == 0:\n",
    "                    break\n",
    "                if result2[j][0] == 1:\n",
    "                    continue\n",
    "                if result2[j*2][0] + travel[i][0] > K:\n",
    "                    result1[j*2][0], result1[j*2][1] = 1,0\n",
    "                else:\n",
    "                    result1[j*2][0], result1[j*2][1] = result2[j][0] + travel[i][0], result2[j][1] + travel[i][1]\n",
    "                if result2[j][0] + travel[i][2] > K:\n",
    "                    result1[j*2 + 1][0], result1[j*2 + 1][1] = 1,0\n",
    "                else:\n",
    "                    result1[j*2 + 1][0], result1[j*2 + 1][1] = result2[j][0] + travel[i][2], result2[j][1] + travel[i][3]\n",
    "            #print(result1)\n",
    "            #print(result2)\n",
    "    \n",
    "    \n",
    "    if len(travel) % 2 == 0:\n",
    "        result2.sort(reverse = True)\n",
    "        for i in result2:\n",
    "            if i[0] < K:\n",
    "                answer = i[1]\n",
    "                break\n",
    "    else:\n",
    "        result1.sort(reverse = True)\n",
    "        for i in result1:\n",
    "            if i[0] < K:\n",
    "                answer = i[1]\n",
    "                break\n",
    "    \n",
    "    return answer"
   ]
  },
  {
   "cell_type": "code",
   "execution_count": 86,
   "metadata": {},
   "outputs": [
    {
     "data": {
      "text/plain": [
       "5900"
      ]
     },
     "execution_count": 86,
     "metadata": {},
     "output_type": "execute_result"
    }
   ],
   "source": [
    "solution(3000, [[1000, 2000, 300, 700], [1100, 1900, 400, 900], [900, 1800, 400, 700], [1200, 2300, 500, 1200]])"
   ]
  },
  {
   "cell_type": "markdown",
   "metadata": {},
   "source": [
    "### 23.5점"
   ]
  }
 ],
 "metadata": {
  "kernelspec": {
   "display_name": "Python 3",
   "language": "python",
   "name": "python3"
  },
  "language_info": {
   "codemirror_mode": {
    "name": "ipython",
    "version": 3
   },
   "file_extension": ".py",
   "mimetype": "text/x-python",
   "name": "python",
   "nbconvert_exporter": "python",
   "pygments_lexer": "ipython3",
   "version": "3.7.4"
  }
 },
 "nbformat": 4,
 "nbformat_minor": 2
}

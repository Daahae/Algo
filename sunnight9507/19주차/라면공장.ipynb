{
 "cells": [
  {
   "cell_type": "code",
   "execution_count": 44,
   "metadata": {},
   "outputs": [],
   "source": [
    "import heapq\n",
    "\n",
    "def solution(stock, dates, supplies, k):\n",
    "    answer = 0\n",
    "    \n",
    "    date = 0\n",
    "    heap = []\n",
    "    \n",
    "    dates_index = 0\n",
    "    \n",
    "    for i in range(0,k):\n",
    "        if dates_index < len(dates):\n",
    "            if i == dates[dates_index]:\n",
    "                heapq.heappush(heap, -supplies[dates_index])\n",
    "                dates_index += 1\n",
    "        \n",
    "        if stock == 0:\n",
    "            stock += (-heapq.heappop(heap))\n",
    "            answer += 1\n",
    "        \n",
    "        stock -= 1\n",
    "    \n",
    "    return answer"
   ]
  },
  {
   "cell_type": "code",
   "execution_count": 45,
   "metadata": {},
   "outputs": [
    {
     "data": {
      "text/plain": [
       "2"
      ]
     },
     "execution_count": 45,
     "metadata": {},
     "output_type": "execute_result"
    }
   ],
   "source": [
    "solution(4,[4,10,15],[20,5,10],30)"
   ]
  }
 ],
 "metadata": {
  "kernelspec": {
   "display_name": "Python 3",
   "language": "python",
   "name": "python3"
  }
 },
 "nbformat": 4,
 "nbformat_minor": 2
}

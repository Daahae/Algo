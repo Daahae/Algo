{
 "cells": [
  {
   "cell_type": "code",
   "execution_count": 11,
   "metadata": {},
   "outputs": [
    {
     "name": "stdout",
     "output_type": "stream",
     "text": [
      "3\n",
      "4\n",
      "7\n",
      "10\n",
      "4\n",
      "8\n",
      "14\n"
     ]
    }
   ],
   "source": [
    "N = int(input())\n",
    "\n",
    "lst = []\n",
    "\n",
    "for _ in range(N):\n",
    "    lst.append(int(input()))\n",
    "    \n",
    "for i in lst:\n",
    "    cnt = 0\n",
    "    # 3을 한번씩 빼주기\n",
    "    for tmp_num in range(0, (i // 3)+1):\n",
    "        # 2로 나눈 몫 + 1\n",
    "        cnt += ((i - (3 * tmp_num)) // 2) + 1\n",
    "    \n",
    "    print(cnt)"
   ]
  }
 ],
 "metadata": {
  "kernelspec": {
   "display_name": "Python 3",
   "language": "python",
   "name": "python3"
  },
  "language_info": {
   "codemirror_mode": {
    "name": "ipython",
    "version": 3
   },
   "file_extension": ".py",
   "mimetype": "text/x-python",
   "name": "python",
   "nbconvert_exporter": "python",
   "pygments_lexer": "ipython3",
   "version": "3.7.3"
  }
 },
 "nbformat": 4,
 "nbformat_minor": 2
}

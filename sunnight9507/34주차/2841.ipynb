{
 "cells": [
  {
   "cell_type": "code",
   "execution_count": 29,
   "metadata": {},
   "outputs": [
    {
     "name": "stdout",
     "output_type": "stream",
     "text": [
      "3 15\n",
      "1 5\n",
      "1 10\n",
      "1 5\n"
     ]
    }
   ],
   "source": [
    "N, P = list(map(int, input().split()))\n",
    "\n",
    "lst = []\n",
    "\n",
    "for _ in range(N):\n",
    "    lst.append(list(map(int, input().split())))"
   ]
  },
  {
   "cell_type": "code",
   "execution_count": null,
   "metadata": {},
   "outputs": [],
   "source": [
    "3 15\n",
    "\n",
    "1 5\n",
    "\n",
    "1 10\n",
    "\n",
    "1 5"
   ]
  },
  {
   "cell_type": "code",
   "execution_count": 34,
   "metadata": {},
   "outputs": [
    {
     "name": "stdout",
     "output_type": "stream",
     "text": [
      "[[], [], [], [], [], [], []] 0\n",
      "[[], [5], [], [], [], [], []] 1\n",
      "[[], [5, 10], [], [], [], [], []] 2\n",
      "2\n"
     ]
    }
   ],
   "source": [
    "tmp = [[] for i in range(7)]\n",
    "cnt = 0\n",
    "\n",
    "for line, fret in lst:\n",
    "    # print(tmp, cnt)\n",
    "    \n",
    "    # 비어있을 때 push\n",
    "    if tmp[line] == []:\n",
    "        tmp[line].append(fret)\n",
    "        cnt += 1\n",
    "    else:\n",
    "        while(True):\n",
    "            # 현재 누르고 있는 음이면 pass\n",
    "            if fret in tmp[line]:\n",
    "                break\n",
    "            cnt += 1\n",
    "            # 비어있을 때 push\n",
    "            if tmp[line] == []:\n",
    "                tmp[line].append(fret)\n",
    "                break\n",
    "            # 마지막 음이 현재 음보다 낮을 떄 push\n",
    "            elif tmp[line][-1] < fret:\n",
    "                tmp[line].append(fret)\n",
    "            # 마지막 음이 현재 음보다 높을 때\n",
    "            else:\n",
    "                tmp[line].pop()\n",
    "                \n",
    "print(cnt)"
   ]
  },
  {
   "cell_type": "code",
   "execution_count": 38,
   "metadata": {},
   "outputs": [
    {
     "name": "stdout",
     "output_type": "stream",
     "text": [
      "3 15\n",
      "1 5\n",
      "1 10 \n",
      "1 5\n",
      "3\n"
     ]
    }
   ],
   "source": [
    "import sys\n",
    "N, P = list(map(int, input().split()))\n",
    "\n",
    "lst = []\n",
    "\n",
    "for _ in range(N):\n",
    "    lst.append(list(map(int,input().split())))\n",
    "\n",
    "tmp = [[] for i in range(7)]\n",
    "cnt = 0\n",
    "\n",
    "for line, fret in lst:\n",
    "    # print(tmp, cnt)\n",
    "    \n",
    "    # 비어있을 때 push\n",
    "    if tmp[line] == []:\n",
    "        tmp[line].append(fret)\n",
    "        cnt += 1\n",
    "    else:\n",
    "        while(True):\n",
    "            cnt += 1\n",
    "            # 비어있을 때 push\n",
    "            if tmp[line] == []:\n",
    "                tmp[line].append(fret)\n",
    "                break\n",
    "            # 마지막 음이 현재 음보다 낮을 떄 push\n",
    "            elif tmp[line][-1] < fret:\n",
    "                tmp[line].append(fret)\n",
    "            # 현재 누르고 있는 음이면 pass\n",
    "            elif tmp[line][-1] == fret:\n",
    "                cnt -= 1\n",
    "                break\n",
    "            # 마지막 음이 현재 음보다 높을 때\n",
    "            else:\n",
    "                tmp[line].pop()\n",
    "                \n",
    "print(cnt)"
   ]
  },
  {
   "cell_type": "code",
   "execution_count": null,
   "metadata": {},
   "outputs": [],
   "source": [
    "3 15\n",
    "\n",
    "1 5\n",
    "\n",
    "1 10\n",
    "\n",
    "1 5"
   ]
  },
  {
   "cell_type": "code",
   "execution_count": 26,
   "metadata": {},
   "outputs": [
    {
     "data": {
      "text/plain": [
       "9"
      ]
     },
     "execution_count": 26,
     "metadata": {},
     "output_type": "execute_result"
    }
   ],
   "source": [
    "cnt"
   ]
  }
 ],
 "metadata": {
  "kernelspec": {
   "display_name": "Python 3",
   "language": "python",
   "name": "python3"
  },
  "language_info": {
   "codemirror_mode": {
    "name": "ipython",
    "version": 3
   },
   "file_extension": ".py",
   "mimetype": "text/x-python",
   "name": "python",
   "nbconvert_exporter": "python",
   "pygments_lexer": "ipython3",
   "version": "3.7.3"
  }
 },
 "nbformat": 4,
 "nbformat_minor": 2
}

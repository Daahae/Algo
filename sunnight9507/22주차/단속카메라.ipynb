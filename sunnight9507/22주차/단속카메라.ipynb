{
 "cells": [
  {
   "cell_type": "code",
   "execution_count": 41,
   "metadata": {},
   "outputs": [],
   "source": [
    "def solution(routes):\n",
    "    answer = 0\n",
    "    \n",
    "    # 중복제거\n",
    "    routes = list(set(map(tuple, routes)))\n",
    "    \n",
    "    routes.sort()\n",
    "    \n",
    "    #print(routes)\n",
    "    \n",
    "    start = routes[0][0]\n",
    "    end = routes[0][1]\n",
    "    \n",
    "    for i in routes[1:]:\n",
    "        if start <= i[0]:\n",
    "            start = i[0]\n",
    "        if end >= i[1]:\n",
    "            end = i[1]\n",
    "\n",
    "        if start > end:\n",
    "            answer += 1\n",
    "            start = i[0]\n",
    "            end = i[1]   \n",
    "    \n",
    "    return answer + 1"
   ]
  },
  {
   "cell_type": "code",
   "execution_count": 45,
   "metadata": {},
   "outputs": [
    {
     "name": "stdout",
     "output_type": "stream",
     "text": [
      "[(-20, 15), (-18, -13), (-14, -5), (-5, -3)]\n"
     ]
    },
    {
     "data": {
      "text/plain": [
       "2"
      ]
     },
     "execution_count": 45,
     "metadata": {},
     "output_type": "execute_result"
    }
   ],
   "source": [
    "solution([[-20,15], [-14,-5], [-18,-13], [-5,-3]])"
   ]
  },
  {
   "cell_type": "code",
   "execution_count": 43,
   "metadata": {},
   "outputs": [
    {
     "name": "stdout",
     "output_type": "stream",
     "text": [
      "[(-20, -15), (-20, 15), (-18, -13), (-14, -5), (-5, -3)]\n",
      "2\n"
     ]
    }
   ],
   "source": [
    "print(solution([[-20,15], [-20,-15], [-14,-5], [-18,-13], [-5,-3]])) #2"
   ]
  },
  {
   "cell_type": "code",
   "execution_count": 44,
   "metadata": {},
   "outputs": [
    {
     "name": "stdout",
     "output_type": "stream",
     "text": [
      "[(-20, -15), (-18, -13), (-14, -5), (-5, -3)]\n",
      "2\n"
     ]
    }
   ],
   "source": [
    "print(solution([[-20,-15], [-14,-5], [-18,-13], [-5,-3]])) #2"
   ]
  }
 ],
 "metadata": {
  "kernelspec": {
   "display_name": "Python 3",
   "language": "python",
   "name": "python3"
  },
  "language_info": {
   "codemirror_mode": {
    "name": "ipython",
    "version": 3
   },
   "file_extension": ".py",
   "mimetype": "text/x-python",
   "name": "python",
   "nbconvert_exporter": "python",
   "pygments_lexer": "ipython3",
   "version": "3.7.3"
  }
 },
 "nbformat": 4,
 "nbformat_minor": 2
}

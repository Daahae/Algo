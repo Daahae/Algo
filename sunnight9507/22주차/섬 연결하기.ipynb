{
 "cells": [
  {
   "cell_type": "code",
   "execution_count": 29,
   "metadata": {},
   "outputs": [],
   "source": [
    "def solution(n, costs):\n",
    "    answer = 0\n",
    "    \n",
    "    route = [[0 for _ in range(n)] for _ in range(n)]\n",
    "    \n",
    "    result = [99999 for _ in range(n)]\n",
    "    \n",
    "    for i in costs:\n",
    "        route[i[0]][i[1]] = i[2]\n",
    "        route[i[1]][i[0]] = i[2]\n",
    "    \n",
    "    \n",
    "    for i in range(len(result)):\n",
    "        for idx, j in enumerate(route[i]):\n",
    "            if j > 0:\n",
    "                if result[idx] == 99999:\n",
    "                    result[idx] = j\n",
    "                else:\n",
    "                    if result[idx] > result[i] + j:\n",
    "                        result[idx] = result[i] + j\n",
    "      \n",
    "    print(result)\n",
    "    print(route)\n",
    "    \n",
    "    \n",
    "    return sum(result[1:])"
   ]
  },
  {
   "cell_type": "code",
   "execution_count": 30,
   "metadata": {},
   "outputs": [
    {
     "name": "stdout",
     "output_type": "stream",
     "text": [
      "[1, 1, 2, 1]\n",
      "[[0, 1, 2, 0], [1, 0, 5, 1], [2, 5, 0, 8], [0, 1, 8, 0]]\n"
     ]
    },
    {
     "data": {
      "text/plain": [
       "4"
      ]
     },
     "execution_count": 30,
     "metadata": {},
     "output_type": "execute_result"
    }
   ],
   "source": [
    "solution(4,[[0,1,1],[0,2,2],[1,2,5],[1,3,1],[2,3,8]])"
   ]
  }
 ],
 "metadata": {
  "kernelspec": {
   "display_name": "Python 3",
   "language": "python",
   "name": "python3"
  },
  "language_info": {
   "codemirror_mode": {
    "name": "ipython",
    "version": 3
   },
   "file_extension": ".py",
   "mimetype": "text/x-python",
   "name": "python",
   "nbconvert_exporter": "python",
   "pygments_lexer": "ipython3",
   "version": "3.7.3"
  }
 },
 "nbformat": 4,
 "nbformat_minor": 2
}

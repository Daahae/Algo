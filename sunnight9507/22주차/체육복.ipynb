{
 "cells": [
  {
   "cell_type": "code",
   "execution_count": 1,
   "metadata": {},
   "outputs": [],
   "source": [
    "def solution(n, lost, reserve):\n",
    "    \n",
    "    # 같은 번호 삭제\n",
    "    new_reserve = set(reserve) - set(lost)\n",
    "    new_lost = set(lost) - set(reserve)\n",
    "    \n",
    "    # new_reserve가 근처에 있으면 new_lost 빌려주기(삭제)\n",
    "    for i in new_reserve:\n",
    "        if (i-1) in new_lost:\n",
    "            new_lost.remove(i-1)\n",
    "        elif (i+1) in new_lost:\n",
    "            new_lost.remove(i+1)\n",
    "    \n",
    "    # 전체 갯수에서 빌리지 못한 갯수 빼기\n",
    "    return n - len(new_lost)"
   ]
  },
  {
   "cell_type": "code",
   "execution_count": 2,
   "metadata": {
    "scrolled": true
   },
   "outputs": [
    {
     "data": {
      "text/plain": [
       "5"
      ]
     },
     "execution_count": 2,
     "metadata": {},
     "output_type": "execute_result"
    }
   ],
   "source": [
    "solution(5,[2, 4],[1, 3, 5])"
   ]
  }
 ],
 "metadata": {
  "kernelspec": {
   "display_name": "Python 3",
   "language": "python",
   "name": "python3"
  },
  "language_info": {
   "codemirror_mode": {
    "name": "ipython",
    "version": 3
   },
   "file_extension": ".py",
   "mimetype": "text/x-python",
   "name": "python",
   "nbconvert_exporter": "python",
   "pygments_lexer": "ipython3",
   "version": "3.7.3"
  }
 },
 "nbformat": 4,
 "nbformat_minor": 2
}

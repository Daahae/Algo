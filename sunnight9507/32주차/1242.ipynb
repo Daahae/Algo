{
 "cells": [
  {
   "cell_type": "code",
   "execution_count": 130,
   "metadata": {},
   "outputs": [
    {
     "name": "stdout",
     "output_type": "stream",
     "text": [
      "5 2 3\n"
     ]
    }
   ],
   "source": [
    "N, K, M = list(map(int, input().split()))"
   ]
  },
  {
   "cell_type": "markdown",
   "metadata": {},
   "source": [
    "- 재귀 함수\n",
    "\n",
    "1) 자기보다 아래의 값들 지우기\n",
    "\n",
    "2) 자기 위치\n",
    "\n",
    "3) 자기보다 위의 값들 지우기"
   ]
  },
  {
   "cell_type": "code",
   "execution_count": 131,
   "metadata": {},
   "outputs": [],
   "source": [
    "def func(N, K, M,start_num, cnt):\n",
    "\n",
    "    while(True):\n",
    "        if K >= N:\n",
    "            tmp_K = K - ((K-1) // N)*N\n",
    "        else: tmp_K = K            \n",
    "            \n",
    "        print(N, tmp_K, M, start_num, cnt)\n",
    "        if N == 1:\n",
    "            return cnt + 1\n",
    "        \n",
    "        if M % tmp_K == 0 + start_num:\n",
    "            cnt += (M+start_num) // tmp_K\n",
    "            break\n",
    "        else:\n",
    "            next_num = N % tmp_K\n",
    "            # 전체 지워야 할 인원 구하기\n",
    "            cnt += (N+start_num) // tmp_K\n",
    "            N -= (N+start_num) // tmp_K\n",
    "            # 본인보다 앞의 인원 수 지우기\n",
    "            M -= (M-1+start_num) // tmp_K\n",
    "            start_num = next_num\n",
    "    \n",
    "    return cnt       "
   ]
  },
  {
   "cell_type": "code",
   "execution_count": 132,
   "metadata": {
    "scrolled": true
   },
   "outputs": [
    {
     "name": "stdout",
     "output_type": "stream",
     "text": [
      "5 2 3 0 0\n",
      "3 2 2 1 2\n",
      "1 1 1 1 4\n"
     ]
    },
    {
     "data": {
      "text/plain": [
       "5"
      ]
     },
     "execution_count": 132,
     "metadata": {},
     "output_type": "execute_result"
    }
   ],
   "source": [
    "func(N,K,M,0,0)"
   ]
  },
  {
   "cell_type": "code",
   "execution_count": 167,
   "metadata": {},
   "outputs": [
    {
     "name": "stdout",
     "output_type": "stream",
     "text": [
      "10 2 5\n"
     ]
    }
   ],
   "source": [
    "N, K, M = list(map(int, input().split()))"
   ]
  },
  {
   "cell_type": "code",
   "execution_count": 168,
   "metadata": {},
   "outputs": [],
   "source": [
    "def func(N,K,M,tmp_start):\n",
    "    \n",
    "    cnt = 0\n",
    "    \n",
    "    for _ in range(N):\n",
    "        if N == 1:\n",
    "            return cnt + 1\n",
    "        \n",
    "        print(N, K, M, tmp_start, cnt)\n",
    "        \n",
    "        if tmp_start + K > N:\n",
    "            tmp_start = (tmp_start + K) % N\n",
    "        else: tmp_start += K\n",
    "\n",
    "        # 자기보다 전 위치\n",
    "        if tmp_start < M:\n",
    "            N -= 1\n",
    "            M -= 1\n",
    "            tmp_start -= 1\n",
    "            cnt += 1\n",
    "        # 본인 위치\n",
    "        elif tmp_start == M:\n",
    "            return cnt + 1\n",
    "        # 본인 뒤\n",
    "        else:\n",
    "            N -= 1\n",
    "            tmp_start -= 1\n",
    "            cnt += 1"
   ]
  },
  {
   "cell_type": "code",
   "execution_count": 169,
   "metadata": {},
   "outputs": [
    {
     "name": "stdout",
     "output_type": "stream",
     "text": [
      "10 2 5 0 0\n",
      "9 2 4 1 1\n",
      "8 2 3 2 2\n",
      "7 2 3 3 3\n",
      "6 2 3 4 4\n",
      "5 2 3 5 5\n",
      "4 2 2 1 6\n",
      "3 2 2 2 7\n",
      "2 2 1 0 8\n"
     ]
    },
    {
     "data": {
      "text/plain": [
       "10"
      ]
     },
     "execution_count": 169,
     "metadata": {},
     "output_type": "execute_result"
    }
   ],
   "source": [
    "func(N,K,M,0)"
   ]
  }
 ],
 "metadata": {
  "kernelspec": {
   "display_name": "Python 3",
   "language": "python",
   "name": "python3"
  },
  "language_info": {
   "codemirror_mode": {
    "name": "ipython",
    "version": 3
   },
   "file_extension": ".py",
   "mimetype": "text/x-python",
   "name": "python",
   "nbconvert_exporter": "python",
   "pygments_lexer": "ipython3",
   "version": "3.7.3"
  }
 },
 "nbformat": 4,
 "nbformat_minor": 2
}

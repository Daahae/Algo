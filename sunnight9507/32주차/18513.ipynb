{
 "cells": [
  {
   "cell_type": "markdown",
   "metadata": {},
   "source": [
    "#### 메모리 초과\n",
    "\n",
    "- 원위치 -1, +1 인 위치 set에 추가\n",
    "- 값이 있는 위치는 제거\n",
    "- 불행도 * set 갯수"
   ]
  },
  {
   "cell_type": "code",
   "execution_count": 54,
   "metadata": {},
   "outputs": [
    {
     "name": "stdout",
     "output_type": "stream",
     "text": [
      "2 5\n"
     ]
    }
   ],
   "source": [
    "N, K = list(map(int, input().split()))"
   ]
  },
  {
   "cell_type": "code",
   "execution_count": 55,
   "metadata": {},
   "outputs": [
    {
     "name": "stdout",
     "output_type": "stream",
     "text": [
      "0 3\n"
     ]
    }
   ],
   "source": [
    "lst = list(map(int, input().split()))"
   ]
  },
  {
   "cell_type": "code",
   "execution_count": 56,
   "metadata": {},
   "outputs": [
    {
     "name": "stdout",
     "output_type": "stream",
     "text": [
      "[0, 0, 0, 0, 0, -1, 0, 0, -1, 0, 0, 0, 0, 0, 0]\n",
      "[0, 0, 0, 0, 1, -1, 1, 1, -1, 1, 0, 0, 0, 0, 0]\n"
     ]
    }
   ],
   "source": [
    "Num = 100000\n",
    "\n",
    "min_idx = min(lst) + Num\n",
    "max_idx = max(lst) + Num\n",
    "\n",
    "line = [0] * 2 * Num\n",
    "\n",
    "unfortunate = 1\n",
    "cnt = 0\n",
    "# unfortunate_sum = 0\n",
    "\n",
    "for i in lst:\n",
    "    line[i+Num] = -1\n",
    "\n",
    "while(1):\n",
    "    print(line[Num-5:Num+10])    \n",
    "    if cnt == K:\n",
    "        break\n",
    "    \n",
    "    line[min_idx - 1] = unfortunate\n",
    "    cnt += 1\n",
    "    \n",
    "    if cnt == K:\n",
    "        break\n",
    "    \n",
    "    line[max_idx + 1] = unfortunate\n",
    "    cnt += 1 \n",
    "    \n",
    "    for i in range(min_idx, max_idx+1):\n",
    "        if cnt == K:\n",
    "            break\n",
    "        \n",
    "        if line[i] != 0:\n",
    "            if line[i-1] == 0:\n",
    "                line[i-1] = unfortunate\n",
    "                cnt += 1\n",
    "            elif line[i+1] == 0:\n",
    "                line[i+1] = unfortunate\n",
    "                cnt += 1\n",
    "        \n",
    "        \n",
    "    unfortunate += 1    \n",
    "    min_idx -= 1\n",
    "    max_idx += 1"
   ]
  },
  {
   "cell_type": "code",
   "execution_count": 57,
   "metadata": {},
   "outputs": [
    {
     "name": "stdout",
     "output_type": "stream",
     "text": [
      "6\n"
     ]
    }
   ],
   "source": [
    "print(sum(line) + N)"
   ]
  }
 ],
 "metadata": {
  "kernelspec": {
   "display_name": "Python 3",
   "language": "python",
   "name": "python3"
  },
  "language_info": {
   "codemirror_mode": {
    "name": "ipython",
    "version": 3
   },
   "file_extension": ".py",
   "mimetype": "text/x-python",
   "name": "python",
   "nbconvert_exporter": "python",
   "pygments_lexer": "ipython3",
   "version": "3.7.3"
  }
 },
 "nbformat": 4,
 "nbformat_minor": 2
}

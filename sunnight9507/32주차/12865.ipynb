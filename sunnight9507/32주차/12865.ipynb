{
 "cells": [
  {
   "cell_type": "code",
   "execution_count": 46,
   "metadata": {},
   "outputs": [
    {
     "name": "stdout",
     "output_type": "stream",
     "text": [
      "4 7\n",
      "5 1\n",
      "4 2\n",
      "3 3\n",
      "2 4\n"
     ]
    },
    {
     "data": {
      "text/plain": [
       "[[0, 0, 0, 0, 0, 0, 0, 0],\n",
       " [0, 0, 0, 0, 0, 1, 1, 1],\n",
       " [0, 0, 0, 0, 2, 2, 2, 2],\n",
       " [0, 0, 0, 3, 3, 3, 3, 5],\n",
       " [0, 0, 4, 4, 4, 7, 7, 7]]"
      ]
     },
     "execution_count": 46,
     "metadata": {},
     "output_type": "execute_result"
    }
   ],
   "source": [
    "def func(N, K, lst):\n",
    "    \n",
    "    result = [[0 for _ in range(K+1)] for _ in range(N+1)]\n",
    "    \n",
    "    for i in range(1, N+1):\n",
    "        for j in range(K+1):\n",
    "            # 가방에 넣을 수 없을 때\n",
    "            if lst[i-1][0] > j:\n",
    "                result[i][j] = result[i-1][j]\n",
    "            # 가방에 넣을 수 있을 때\n",
    "            else:\n",
    "                # 현재 물건을 제외했을 때 vs 가방에 넣었을 때\n",
    "                result[i][j] = max(result[i-1][j], result[i-1][j-lst[i-1][0]] + lst[i-1][1])\n",
    "                \n",
    "    return result[-1][-1]\n",
    "\n",
    "N, K = list(map(int, input().split()))\n",
    "\n",
    "lst = []\n",
    "\n",
    "for i in range(N):\n",
    "    lst.append(list(map(int, input().split())))\n",
    "    \n",
    "print(func(N, K, lst))"
   ]
  }
 ],
 "metadata": {
  "kernelspec": {
   "display_name": "Python 3",
   "language": "python",
   "name": "python3"
  },
  "language_info": {
   "codemirror_mode": {
    "name": "ipython",
    "version": 3
   },
   "file_extension": ".py",
   "mimetype": "text/x-python",
   "name": "python",
   "nbconvert_exporter": "python",
   "pygments_lexer": "ipython3",
   "version": "3.7.3"
  }
 },
 "nbformat": 4,
 "nbformat_minor": 2
}

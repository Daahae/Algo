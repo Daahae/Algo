{
 "cells": [
  {
   "cell_type": "code",
   "execution_count": 26,
   "metadata": {},
   "outputs": [
    {
     "name": "stdout",
     "output_type": "stream",
     "text": [
      "4 6\n",
      "6 13\n",
      "3 8\n",
      "7 15\n",
      "2 6\n"
     ]
    }
   ],
   "source": [
    "def func(lst, index, K, weight, value):\n",
    "    if len(lst) == index:\n",
    "        return value\n",
    "    \n",
    "    if weight + lst[index][0] > K:        \n",
    "        return func(lst, index + 1,K,weight, value)\n",
    "    \n",
    "    else:\n",
    "        test1 = func(lst, index + 1,K,weight + lst[index][0], value + lst[index][1])\n",
    "        test2 = func(lst, index + 1,K,weight, value)\n",
    "        return max(test1, test2)\n",
    "\n",
    "N, K = list(map(int, input().split()))\n",
    "\n",
    "lst = []\n",
    "\n",
    "for i in range(N):\n",
    "    lst.append(list(map(int, input().split())))"
   ]
  },
  {
   "cell_type": "code",
   "execution_count": 27,
   "metadata": {},
   "outputs": [
    {
     "data": {
      "text/plain": [
       "14"
      ]
     },
     "execution_count": 27,
     "metadata": {},
     "output_type": "execute_result"
    }
   ],
   "source": [
    "func(lst, 0, K, 0,0)"
   ]
  }
 ],
 "metadata": {
  "kernelspec": {
   "display_name": "Python 3",
   "language": "python",
   "name": "python3"
  },
  "language_info": {
   "codemirror_mode": {
    "name": "ipython",
    "version": 3
   },
   "file_extension": ".py",
   "mimetype": "text/x-python",
   "name": "python",
   "nbconvert_exporter": "python",
   "pygments_lexer": "ipython3",
   "version": "3.7.3"
  }
 },
 "nbformat": 4,
 "nbformat_minor": 2
}

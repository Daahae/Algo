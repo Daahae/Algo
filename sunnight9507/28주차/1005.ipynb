{
 "cells": [
  {
   "cell_type": "code",
   "execution_count": 12,
   "metadata": {},
   "outputs": [
    {
     "name": "stdout",
     "output_type": "stream",
     "text": [
      "1\n",
      "4 4\n",
      "10 1 100 10\n",
      "1 2\n",
      "1 3\n",
      "2 4\n",
      "3 4\n"
     ]
    }
   ],
   "source": [
    "T = int(input())\n",
    "for _ in range(T):\n",
    "    N,K = list(map(int, input().split()))\n",
    "    lst = list(map(int, input().split()))\n",
    "    graph = {}\n",
    "    for _ in range(K):\n",
    "        idx,value = list(map(int, input().split()))\n",
    "        if idx in graph:\n",
    "            graph[idx].append(value)\n",
    "        else:\n",
    "            graph[idx] = [value]"
   ]
  },
  {
   "cell_type": "code",
   "execution_count": 16,
   "metadata": {},
   "outputs": [
    {
     "data": {
      "text/plain": [
       "{1: [2, 3], 2: [4], 3: [4]}"
      ]
     },
     "execution_count": 16,
     "metadata": {},
     "output_type": "execute_result"
    }
   ],
   "source": [
    "graph"
   ]
  },
  {
   "cell_type": "code",
   "execution_count": 17,
   "metadata": {},
   "outputs": [
    {
     "data": {
      "text/plain": [
       "[10, 1, 100, 10]"
      ]
     },
     "execution_count": 17,
     "metadata": {},
     "output_type": "execute_result"
    }
   ],
   "source": [
    "lst "
   ]
  },
  {
   "cell_type": "code",
   "execution_count": 62,
   "metadata": {},
   "outputs": [],
   "source": [
    "import numpy as np\n",
    "\n",
    "def func(graph, lst):\n",
    "    result = 0\n",
    "    check = [False] * len(lst)\n",
    "    \n",
    "    queue = []\n",
    "    \n",
    "    queue.append(1)\n",
    "    check[0] = True\n",
    "    \n",
    "    while (sum(check) != len(lst)):\n",
    "        print(check, queue)\n",
    "        \n",
    "        tmp = queue.pop(0)\n",
    "        \n",
    "        if tmp != 0:\n",
    "            result += lst[tmp-1]\n",
    "\n",
    "            queue = [i-tmp for i in queue]\n",
    "\n",
    "            for i in graph[tmp]:\n",
    "                if check[i-1] == False:\n",
    "                    queue.append(i)\n",
    "                    check[i-1] = True\n",
    "\n",
    "            queue.sort()\n",
    "            \n",
    "    result += max(queue)\n",
    "        \n",
    "        \n",
    "    # 모든 지점에 들어갔을 때 queue max 값 return\n",
    "    \n",
    "    return result"
   ]
  },
  {
   "cell_type": "code",
   "execution_count": 63,
   "metadata": {},
   "outputs": [
    {
     "name": "stdout",
     "output_type": "stream",
     "text": [
      "[True, False, False, False] [1]\n",
      "[True, True, True, False] [2, 3]\n"
     ]
    },
    {
     "data": {
      "text/plain": [
       "15"
      ]
     },
     "execution_count": 63,
     "metadata": {},
     "output_type": "execute_result"
    }
   ],
   "source": [
    "func(graph, lst)"
   ]
  }
 ],
 "metadata": {
  "kernelspec": {
   "display_name": "Python 3",
   "language": "python",
   "name": "python3"
  },
  "language_info": {
   "codemirror_mode": {
    "name": "ipython",
    "version": 3
   },
   "file_extension": ".py",
   "mimetype": "text/x-python",
   "name": "python",
   "nbconvert_exporter": "python",
   "pygments_lexer": "ipython3",
   "version": "3.7.3"
  }
 },
 "nbformat": 4,
 "nbformat_minor": 2
}

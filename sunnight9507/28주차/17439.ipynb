{
 "cells": [
  {
   "cell_type": "code",
   "execution_count": 110,
   "metadata": {},
   "outputs": [
    {
     "name": "stdout",
     "output_type": "stream",
     "text": [
      "3 5\n",
      "1 1 5 6 9\n",
      "{(2, 2, 1), (3, 1, 1)}\n",
      "35\n",
      "36\n",
      "35\n"
     ]
    }
   ],
   "source": [
    "from itertools import permutations\n",
    "\n",
    "def func(lst, N, K):\n",
    "    \n",
    "    cnt_lst = set()\n",
    "    \n",
    "    # 가능한 경우 확인\n",
    "    # ex) [3,1,1] / [2,2,1]\n",
    "    for i in set(permutations('1' * (K-N) + '0' * (N-1),K-1)):\n",
    "        cnt = [1] * N\n",
    "        idx = 0\n",
    "        for j in i:\n",
    "            if j == '0':\n",
    "                idx += 1\n",
    "            else:\n",
    "                cnt[idx] += 1\n",
    "\n",
    "        cnt_lst.add(tuple(sorted(cnt, reverse = True)))\n",
    "    \n",
    "    #print(cnt_lst)\n",
    "    \n",
    "    min_result = sum(lst) * K\n",
    "    \n",
    "    for cnt in cnt_lst:\n",
    "        start = 0\n",
    "        result = 0\n",
    "        for idx in range(N):\n",
    "            result += sum(lst[start:start+cnt[idx]]) * cnt[idx]\n",
    "            start += cnt[idx]\n",
    "        \n",
    "        #print(result)\n",
    "        \n",
    "        if result < min_result:\n",
    "            min_result = result\n",
    "        \n",
    "    return min_result\n",
    "\n",
    "N, K = list(map(int, input().split()))\n",
    "lst = list(map(int, input().split()))\n",
    "\n",
    "print(func(lst, N, K))"
   ]
  },
  {
   "cell_type": "code",
   "execution_count": 111,
   "metadata": {},
   "outputs": [
    {
     "name": "stdout",
     "output_type": "stream",
     "text": [
      "2 7\n",
      "1 1 1 1 2 3 9\n",
      "{(6, 1), (5, 2), (4, 3)}\n",
      "63\n",
      "54\n",
      "58\n",
      "54\n"
     ]
    }
   ],
   "source": [
    "N, K = list(map(int, input().split()))\n",
    "lst = list(map(int, input().split()))\n",
    "\n",
    "print(func(lst, N, K))"
   ]
  }
 ],
 "metadata": {
  "kernelspec": {
   "display_name": "Python 3",
   "language": "python",
   "name": "python3"
  },
  "language_info": {
   "codemirror_mode": {
    "name": "ipython",
    "version": 3
   },
   "file_extension": ".py",
   "mimetype": "text/x-python",
   "name": "python",
   "nbconvert_exporter": "python",
   "pygments_lexer": "ipython3",
   "version": "3.7.3"
  }
 },
 "nbformat": 4,
 "nbformat_minor": 2
}

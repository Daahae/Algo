{
 "cells": [
  {
   "cell_type": "code",
   "execution_count": 138,
   "metadata": {},
   "outputs": [],
   "source": [
    "def solution(heights):\n",
    "    \n",
    "    answer = [0 for i in range(len(heights))]\n",
    "    \n",
    "    stack = []\n",
    "    \n",
    "    # heights 거꾸로 시작(index, value)\n",
    "    for idx, height in zip(range(len(heights),0,-1),heights[::-1]):\n",
    "        # 빈 스택이면 추가\n",
    "        if stack == []:\n",
    "            stack.append([idx, height])\n",
    "            continue\n",
    "            \n",
    "        print(stack)\n",
    "            \n",
    "        # top보다 값이 작으면 추가\n",
    "        if stack[-1][1] >= height:\n",
    "            stack.append([idx, height])\n",
    "        # top보다 값이 크면 작은 값이 나올 때까지 아니면 빈 스택이 될 때까지 pop\n",
    "        else:\n",
    "            while stack[-1][1] < height:\n",
    "                tmp = stack.pop()\n",
    "                if stack == []:\n",
    "                    answer[tmp[0]-1] = idx\n",
    "                    break\n",
    "                answer[tmp[0]-1] = idx\n",
    "            stack.append([idx, height])\n",
    "       \n",
    "    return answer"
   ]
  },
  {
   "cell_type": "code",
   "execution_count": 139,
   "metadata": {
    "scrolled": true
   },
   "outputs": [
    {
     "name": "stdout",
     "output_type": "stream",
     "text": [
      "[[5, 4]]\n",
      "[[4, 7]]\n",
      "[[4, 7], [3, 5]]\n",
      "[[2, 9]]\n"
     ]
    },
    {
     "data": {
      "text/plain": [
       "[0, 0, 2, 2, 4]"
      ]
     },
     "execution_count": 139,
     "metadata": {},
     "output_type": "execute_result"
    }
   ],
   "source": [
    "solution([6,9,5,7,4])"
   ]
  },
  {
   "cell_type": "code",
   "execution_count": 140,
   "metadata": {},
   "outputs": [
    {
     "name": "stdout",
     "output_type": "stream",
     "text": [
      "[[7, 2]]\n",
      "[[6, 7]]\n",
      "[[6, 7], [5, 5]]\n",
      "[[6, 7], [5, 5], [4, 3]]\n",
      "[[3, 9]]\n",
      "[[3, 9], [2, 9]]\n"
     ]
    },
    {
     "data": {
      "text/plain": [
       "[0, 0, 0, 3, 3, 3, 6]"
      ]
     },
     "execution_count": 140,
     "metadata": {},
     "output_type": "execute_result"
    }
   ],
   "source": [
    "solution([3,9,9,3,5,7,2])"
   ]
  },
  {
   "cell_type": "code",
   "execution_count": 141,
   "metadata": {
    "scrolled": true
   },
   "outputs": [
    {
     "name": "stdout",
     "output_type": "stream",
     "text": [
      "[[7, 5]]\n",
      "[[6, 6]]\n",
      "[[5, 7]]\n",
      "[[5, 7], [4, 6]]\n",
      "[[5, 7], [4, 6], [3, 3]]\n",
      "[[5, 7], [4, 6], [2, 5]]\n"
     ]
    },
    {
     "data": {
      "text/plain": [
       "[0, 0, 2, 0, 0, 5, 6]"
      ]
     },
     "execution_count": 141,
     "metadata": {},
     "output_type": "execute_result"
    }
   ],
   "source": [
    "solution([1,5,3,6,7,6,5])"
   ]
  },
  {
   "cell_type": "code",
   "execution_count": 142,
   "metadata": {},
   "outputs": [],
   "source": [
    "def solution(h):\n",
    "    ans = [0] * len(h)\n",
    "    for i in range(len(h)-1, 0, -1):\n",
    "        for j in range(i-1, -1, -1):\n",
    "            if h[i] < h[j]:\n",
    "                ans[i] = j+1\n",
    "                break\n",
    "    return ans"
   ]
  }
 ],
 "metadata": {
  "kernelspec": {
   "display_name": "Python 3",
   "language": "python",
   "name": "python3"
  },
  "language_info": {
   "codemirror_mode": {
    "name": "ipython",
    "version": 3
   },
   "file_extension": ".py",
   "mimetype": "text/x-python",
   "name": "python",
   "nbconvert_exporter": "python",
   "pygments_lexer": "ipython3",
   "version": "3.7.4"
  }
 },
 "nbformat": 4,
 "nbformat_minor": 2
}

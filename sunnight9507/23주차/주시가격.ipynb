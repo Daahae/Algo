{
 "cells": [
  {
   "cell_type": "code",
   "execution_count": 7,
   "metadata": {},
   "outputs": [],
   "source": [
    "def solution(prices):\n",
    "    answer = [0] * len(prices)\n",
    "    \n",
    "    idx = [i for i in range(len(prices))]\n",
    "    \n",
    "    stack = []\n",
    "    \n",
    "    # index, price를 하나의 리스트로 만듦\n",
    "    for index, price in zip(idx, prices):\n",
    "        # stack이 비었을 때 추가\n",
    "        if stack == []:\n",
    "            stack.append([index, price])\n",
    "            continue\n",
    "        \n",
    "        # 새로 들어 올 값이 stack의 가장 큰 값보다 크면 추가\n",
    "        if stack[-1][1] <= price:\n",
    "            stack.append([index, price])\n",
    "        # 아닐 경우\n",
    "        else:\n",
    "            while True:\n",
    "                # pop 시킨 후 현재 index에서 자기 index를 빼주기(지금까지 얼마나 기다렸는지)\n",
    "                tmp = stack.pop()\n",
    "                answer[tmp[0]] = index - tmp[0]\n",
    "                \n",
    "                # stack이 비거나 큰 값이 들어오면 break\n",
    "                if stack == []:\n",
    "                    stack.append([index, price])\n",
    "                    break\n",
    "                elif stack[-1][1] <= price:\n",
    "                    stack.append([index, price])\n",
    "                    break\n",
    "            \n",
    "    # stack에 남아 있는 값 확인\n",
    "    for stk in stack:\n",
    "        answer[stk[0]] = len(prices)-1 - stk[0] \n",
    "    \n",
    "    return answer"
   ]
  },
  {
   "cell_type": "code",
   "execution_count": 8,
   "metadata": {},
   "outputs": [
    {
     "data": {
      "text/plain": [
       "[4, 3, 1, 1, 0]"
      ]
     },
     "execution_count": 8,
     "metadata": {},
     "output_type": "execute_result"
    }
   ],
   "source": [
    "solution([1, 2, 3, 2, 3])"
   ]
  }
 ],
 "metadata": {
  "kernelspec": {
   "display_name": "Python 3",
   "language": "python",
   "name": "python3"
  },
  "language_info": {
   "codemirror_mode": {
    "name": "ipython",
    "version": 3
   },
   "file_extension": ".py",
   "mimetype": "text/x-python",
   "name": "python",
   "nbconvert_exporter": "python",
   "pygments_lexer": "ipython3",
   "version": "3.7.4"
  }
 },
 "nbformat": 4,
 "nbformat_minor": 2
}

{
 "cells": [
  {
   "cell_type": "code",
   "execution_count": 38,
   "metadata": {},
   "outputs": [],
   "source": [
    "def solution(priorities, location):\n",
    "    answer = 0\n",
    "    \n",
    "    idx = [i for i in range(0,len(priorities))]\n",
    "    \n",
    "    # 대기열에 큰 수가 있으면 pop and append\n",
    "    while True:        \n",
    "        temp_prities = priorities.pop(0)\n",
    "        temp_idx = idx.pop(0)\n",
    "        \n",
    "        # priorites가 비었으면 마지막 원소이므로 return \n",
    "        if priorities == []:\n",
    "            return answer + 1\n",
    "                \n",
    "        if temp_prities >= max(priorities):\n",
    "            answer += 1\n",
    "            # location과 idx가 일치하면 return\n",
    "            if location == temp_idx:\n",
    "                return answer\n",
    "        else:\n",
    "            priorities.append(temp_prities)\n",
    "            idx.append(temp_idx)\n",
    "        \n",
    "    return answer"
   ]
  },
  {
   "cell_type": "code",
   "execution_count": 39,
   "metadata": {},
   "outputs": [
    {
     "data": {
      "text/plain": [
       "4"
      ]
     },
     "execution_count": 39,
     "metadata": {},
     "output_type": "execute_result"
    }
   ],
   "source": [
    "solution([3,3,4,2],3)"
   ]
  }
 ],
 "metadata": {
  "kernelspec": {
   "display_name": "Python 3",
   "language": "python",
   "name": "python3"
  },
  "language_info": {
   "codemirror_mode": {
    "name": "ipython",
    "version": 3
   },
   "file_extension": ".py",
   "mimetype": "text/x-python",
   "name": "python",
   "nbconvert_exporter": "python",
   "pygments_lexer": "ipython3",
   "version": "3.7.4"
  }
 },
 "nbformat": 4,
 "nbformat_minor": 2
}

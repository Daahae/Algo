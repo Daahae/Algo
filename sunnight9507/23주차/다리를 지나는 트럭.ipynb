{
 "cells": [
  {
   "cell_type": "code",
   "execution_count": 34,
   "metadata": {},
   "outputs": [],
   "source": [
    "# 76.9\n",
    "# test case 2,5,6 시간 초과\n",
    "def solution(bridge_length, weight, truck_weights):\n",
    "    # 오른쪽으로 진행\n",
    "    answer = 0\n",
    "    \n",
    "    bridge_list = [0] * bridge_length\n",
    "    \n",
    "    idx = 0\n",
    "    bridge_list[0] = truck_weights[idx]\n",
    "    idx += 1\n",
    "    \n",
    "    while True:\n",
    "        print(bridge_list)\n",
    "        answer += 1\n",
    "        print(answer)\n",
    "        \n",
    "        if idx == len(truck_weights):\n",
    "            break\n",
    "        \n",
    "        # for문\n",
    "        if sum(bridge_list[:-1]) + truck_weights[idx] <= weight:\n",
    "            for i in range(len(bridge_list)-1,0,-1):\n",
    "                bridge_list[i] = bridge_list[i-1]\n",
    "            bridge_list[0] = truck_weights[idx]\n",
    "            idx += 1\n",
    "        else:\n",
    "            for i in range(len(bridge_list)-1,0,-1):\n",
    "                bridge_list[i] = bridge_list[i-1]\n",
    "            bridge_list[0] = 0\n",
    "    \n",
    "    \n",
    "    \n",
    "    return answer + bridge_length"
   ]
  },
  {
   "cell_type": "code",
   "execution_count": 35,
   "metadata": {},
   "outputs": [
    {
     "name": "stdout",
     "output_type": "stream",
     "text": [
      "[7, 0]\n",
      "1\n",
      "[0, 7]\n",
      "2\n",
      "[4, 0]\n",
      "3\n",
      "[5, 4]\n",
      "4\n",
      "[0, 5]\n",
      "5\n",
      "[6, 0]\n",
      "6\n"
     ]
    },
    {
     "data": {
      "text/plain": [
       "8"
      ]
     },
     "execution_count": 35,
     "metadata": {},
     "output_type": "execute_result"
    }
   ],
   "source": [
    "solution(2,10,[7,4,5,6])"
   ]
  },
  {
   "cell_type": "code",
   "execution_count": 38,
   "metadata": {},
   "outputs": [],
   "source": [
    "# 92.3 \n",
    "# test case 5번 시간초과\n",
    "def solution(bridge_length, weight, truck_weights):\n",
    "    # 왼쪽으로 진행\n",
    "    answer = 0\n",
    "    \n",
    "    bridge_list = [0] * bridge_length\n",
    "    \n",
    "    idx = 0\n",
    "    bridge_list[-1] = truck_weights[idx]\n",
    "    idx += 1\n",
    "    \n",
    "    while True:\n",
    "        \n",
    "        #print(bridge_list)\n",
    "        answer += 1\n",
    "        #print(answer)\n",
    "        \n",
    "        if idx == len(truck_weights):\n",
    "            break\n",
    "        \n",
    "        # append, pop 이용\n",
    "        if sum(bridge_list[1:]) + truck_weights[idx] <= weight:\n",
    "            bridge_list.pop(0)\n",
    "            bridge_list.append(truck_weights[idx])\n",
    "            idx += 1\n",
    "        else:\n",
    "            bridge_list.pop(0)\n",
    "            bridge_list.append(0)\n",
    "    \n",
    "    return answer + bridge_length"
   ]
  },
  {
   "cell_type": "code",
   "execution_count": 39,
   "metadata": {},
   "outputs": [
    {
     "name": "stdout",
     "output_type": "stream",
     "text": [
      "[0, 7]\n",
      "1\n",
      "[7, 0]\n",
      "2\n",
      "[0, 4]\n",
      "3\n",
      "[4, 5]\n",
      "4\n",
      "[5, 0]\n",
      "5\n",
      "[0, 6]\n",
      "6\n"
     ]
    },
    {
     "data": {
      "text/plain": [
       "8"
      ]
     },
     "execution_count": 39,
     "metadata": {},
     "output_type": "execute_result"
    }
   ],
   "source": [
    "solution(2,10,[7,4,5,6])"
   ]
  }
 ],
 "metadata": {
  "kernelspec": {
   "display_name": "Python 3",
   "language": "python",
   "name": "python3"
  },
  "language_info": {
   "codemirror_mode": {
    "name": "ipython",
    "version": 3
   },
   "file_extension": ".py",
   "mimetype": "text/x-python",
   "name": "python",
   "nbconvert_exporter": "python",
   "pygments_lexer": "ipython3",
   "version": "3.7.4"
  }
 },
 "nbformat": 4,
 "nbformat_minor": 2
}

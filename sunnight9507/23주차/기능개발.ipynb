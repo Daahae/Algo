{
 "cells": [
  {
   "cell_type": "code",
   "execution_count": 15,
   "metadata": {},
   "outputs": [],
   "source": [
    "def solution(progresses, speeds):\n",
    "    answer = []\n",
    "    \n",
    "    new_progresses = [0] * len(progresses)\n",
    "    idx = 0\n",
    "    \n",
    "    # 각 progress 별 완료될 때 까지의 시간\n",
    "    for progress, speed in zip(progresses, speeds):\n",
    "        new_progresses[idx] = int(((100 - progress) / speed) + 0.9999) # 0.9999 : 올림\n",
    "        idx += 1\n",
    "        \n",
    "    max_num = new_progresses[0]\n",
    "    count = 1\n",
    "    \n",
    "    # 오른쪽으로 갈 때 오래 걸리는 progress가 있는지 확인\n",
    "    for i in new_progresses[1:]:\n",
    "        if max_num >= i:\n",
    "            count += 1\n",
    "        else:\n",
    "            answer.append(count)\n",
    "            count = 1\n",
    "            max_num = i  \n",
    "    \n",
    "    answer.append(count)\n",
    "    \n",
    "    return answer"
   ]
  },
  {
   "cell_type": "code",
   "execution_count": 16,
   "metadata": {},
   "outputs": [
    {
     "name": "stdout",
     "output_type": "stream",
     "text": [
      "[7, 3, 9]\n"
     ]
    },
    {
     "data": {
      "text/plain": [
       "[2, 1]"
      ]
     },
     "execution_count": 16,
     "metadata": {},
     "output_type": "execute_result"
    }
   ],
   "source": [
    "solution([93,30,55],[1,30,5])"
   ]
  }
 ],
 "metadata": {
  "kernelspec": {
   "display_name": "Python 3",
   "language": "python",
   "name": "python3"
  },
  "language_info": {
   "codemirror_mode": {
    "name": "ipython",
    "version": 3
   },
   "file_extension": ".py",
   "mimetype": "text/x-python",
   "name": "python",
   "nbconvert_exporter": "python",
   "pygments_lexer": "ipython3",
   "version": "3.7.4"
  }
 },
 "nbformat": 4,
 "nbformat_minor": 2
}

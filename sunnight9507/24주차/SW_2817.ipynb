{
 "cells": [
  {
   "cell_type": "code",
   "execution_count": null,
   "metadata": {},
   "outputs": [],
   "source": [
    "def find_num(sum_num, num, lst):\n",
    "    cnt = 0\n",
    "    \n",
    "    # 넘어온 값이 num값과 동일할 경우 return\n",
    "    if sum_num == num:\n",
    "        return 1\n",
    "    \n",
    "    for i in range(len(lst)):        \n",
    "        # 리스트에 값이 있을 경우\n",
    "        if lst:\n",
    "            if sum_num + lst[i] == num:\n",
    "                cnt += 1\n",
    "            elif sum_num + lst[i] > num:\n",
    "                continue\n",
    "            else:\n",
    "                # 문자열 길이를 하나씩 줄이기\n",
    "                cnt += find_num(sum_num + lst[i], num, lst[i+1:])\n",
    "                \n",
    "    return cnt\n",
    "\n",
    "\n",
    "def func(num, lst):\n",
    "    \n",
    "    cnt = 0\n",
    "    \n",
    "    # print(num, lst)\n",
    "    \n",
    "    # 문자 길이를 하나씩 줄이면서 확인\n",
    "    for i in range(len(lst)):\n",
    "        #print(lst[i+1:], cnt)\n",
    "        cnt += find_num(lst[i], num, lst[i+1:])\n",
    "        \n",
    "    # print(lst[i+1:], cnt)\n",
    "    return cnt\n",
    "    \n",
    "\n",
    "if __name__ == \"__main__\":\n",
    "    \n",
    "    len_test = int(input().strip())\n",
    "    \n",
    "    for i in range(len_test):\n",
    "        first_line = list(map(int, input().strip().split()))\n",
    "        second_line = list(map(int, input().strip().split()))\n",
    "        print(\"#{} {}\".format(i+1,func(first_line[1], second_line)))"
   ]
  }
 ],
 "metadata": {
  "kernelspec": {
   "display_name": "Python 3",
   "language": "python",
   "name": "python3"
  },
  "language_info": {
   "codemirror_mode": {
    "name": "ipython",
    "version": 3
   },
   "file_extension": ".py",
   "mimetype": "text/x-python",
   "name": "python",
   "nbconvert_exporter": "python",
   "pygments_lexer": "ipython3",
   "version": "3.7.3"
  }
 },
 "nbformat": 4,
 "nbformat_minor": 2
}

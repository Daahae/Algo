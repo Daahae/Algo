{
 "cells": [
  {
   "cell_type": "code",
   "execution_count": 9,
   "metadata": {},
   "outputs": [
    {
     "name": "stdout",
     "output_type": "stream",
     "text": [
      "4\n",
      "CBBCBAAB\n",
      "CCCBABCB\n",
      "CAAAACAB\n",
      "BACCCCAC\n",
      "AABCBBAC\n",
      "ACAACABC\n",
      "BCCBAABC\n",
      "ABBBCCAA\n",
      "[['C', 'B', 'B', 'C', 'B', 'A', 'A', 'B'], ['C', 'C', 'C', 'B', 'A', 'B', 'C', 'B'], ['C', 'A', 'A', 'A', 'A', 'C', 'A', 'B'], ['B', 'A', 'C', 'C', 'C', 'C', 'A', 'C'], ['A', 'A', 'B', 'C', 'B', 'B', 'A', 'C'], ['A', 'C', 'A', 'A', 'C', 'A', 'B', 'C'], ['B', 'C', 'C', 'B', 'A', 'A', 'B', 'C'], ['A', 'B', 'B', 'B', 'C', 'C', 'A', 'A']]\n",
      "8\n"
     ]
    }
   ],
   "source": [
    "def func(length, lst):\n",
    "    \n",
    "    cnt = 0\n",
    "    \n",
    "    # 가로 기준 확인\n",
    "    for i in range(8):\n",
    "        for j in range(8- length + 1):\n",
    "            # print(lst[i][j:j+length])\n",
    "            # 좌우 대칭 확인\n",
    "            if lst[i][j:j+length] == lst[i][j:j+length][::-1]:\n",
    "                cnt += 1\n",
    "    \n",
    "    # print()\n",
    "    # 세로 기준 확인\n",
    "    # 대각선 기준으로 값 변경\n",
    "    x = lst.copy()\n",
    "    for i in range(8):\n",
    "        for j in range(i+1,8):\n",
    "            x[i][j], x[j][i] = x[j][i], x[i][j]\n",
    "    \n",
    "    for i in range(8):\n",
    "        for j in range(8 - length + 1):\n",
    "            # print(lst[i][j:j+length])\n",
    "            if lst[i][j:j+length] == lst[i][j:j+length][::-1]:\n",
    "                cnt += 1\n",
    "    \n",
    "    return cnt\n",
    "    \n",
    "\n",
    "if __name__ == \"__main__\":\n",
    "    for j in range(10):\n",
    "        length = int(input().strip())\n",
    "        lst = []\n",
    "        for i in range(8):\n",
    "            lst.append(list(input().strip()))\n",
    "            \n",
    "            #print(\"#{0} {1}\".format((i+1), func(lenth, num))\n",
    "        print(\"#{} {}\".format(j+1,func(length, lst)))\n",
    "        \n",
    "        # print(len(lst))"
   ]
  }
 ],
 "metadata": {
  "kernelspec": {
   "display_name": "Python 3",
   "language": "python",
   "name": "python3"
  },
  "language_info": {
   "codemirror_mode": {
    "name": "ipython",
    "version": 3
   },
   "file_extension": ".py",
   "mimetype": "text/x-python",
   "name": "python",
   "nbconvert_exporter": "python",
   "pygments_lexer": "ipython3",
   "version": "3.7.4"
  }
 },
 "nbformat": 4,
 "nbformat_minor": 2
}

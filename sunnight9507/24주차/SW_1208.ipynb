{
 "cells": [
  {
   "cell_type": "code",
   "execution_count": 32,
   "metadata": {},
   "outputs": [
    {
     "name": "stdout",
     "output_type": "stream",
     "text": [
      "1\n",
      "456789 10\n",
      "#1 987645\n"
     ]
    }
   ],
   "source": [
    "# 10개 중 8개 정답\n",
    "# Test 32888 2 오답\n",
    "\n",
    "def Flatten(dump, num):\n",
    "    \n",
    "    for i in range(dump):\n",
    "        if num[num.index(max(num))] - num[num.index(min(num))] <= 1:\n",
    "            return num[num.index(max(num))] - num[num.index(min(num))]\n",
    "        \n",
    "        num[num.index(max(num))] -= 1\n",
    "        num[num.index(min(num))] += 1   \n",
    "    \n",
    "    return num[num.index(max(num))] - num[num.index(min(num))]\n",
    "    \n",
    "if __name__ == \"__main__\":\n",
    "    for i in range(1):\n",
    "        dump = int(input().strip())\n",
    "        num = list(map(int, input().strip().split()))\n",
    "        print(\"#{0} {1}\".format((i+1), Flatten(dump, num)))"
   ]
  }
 ],
 "metadata": {
  "kernelspec": {
   "display_name": "Python 3",
   "language": "python",
   "name": "python3"
  },
  "language_info": {
   "codemirror_mode": {
    "name": "ipython",
    "version": 3
   },
   "file_extension": ".py",
   "mimetype": "text/x-python",
   "name": "python",
   "nbconvert_exporter": "python",
   "pygments_lexer": "ipython3",
   "version": "3.7.4"
  }
 },
 "nbformat": 4,
 "nbformat_minor": 2
}

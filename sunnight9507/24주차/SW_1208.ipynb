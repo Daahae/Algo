{
 "cells": [
  {
   "cell_type": "code",
   "execution_count": 1,
   "metadata": {},
   "outputs": [
    {
     "name": "stdout",
     "output_type": "stream",
     "text": [
      "834\n",
      "42 68 35 1 70 25 79 59 63 65 6 46 82 28 62 92 96 43 28 37 92 5 3 54 93 83 22 17 19 96 48 27 72 39 70 13 68 100 36 95 4 12 23 34 74 65 42 12 54 69 48 45 63 58 38 60 24 42 30 79 17 36 91 43 89 7 41 43 65 49 47 6 91 30 71 51 7 2 94 49 30 24 85 55 57 41 67 77 32 9 45 40 27 24 38 39 19 83 30 42 \n",
      "#1 13\n"
     ]
    }
   ],
   "source": [
    "def Flatten(dump, num):\n",
    "    \n",
    "    for i in range(dump):\n",
    "        if num[num.index(max(num))] - num[num.index(min(num))] <= 1:\n",
    "            return num[num.index(max(num))] - num[num.index(min(num))]\n",
    "        \n",
    "        num[num.index(max(num))] -= 1\n",
    "        num[num.index(min(num))] += 1   \n",
    "    \n",
    "    return num[num.index(max(num))] - num[num.index(min(num))]\n",
    "    \n",
    "if __name__ == \"__main__\":\n",
    "    for i in range(1):\n",
    "        dump = int(input().strip())\n",
    "        num = list(map(int, input().strip().split()))\n",
    "        print(\"#{0} {1}\".format((i+1), Flatten(dump, num)))"
   ]
  }
 ],
 "metadata": {
  "kernelspec": {
   "display_name": "Python 3",
   "language": "python",
   "name": "python3"
  },
  "language_info": {
   "codemirror_mode": {
    "name": "ipython",
    "version": 3
   },
   "file_extension": ".py",
   "mimetype": "text/x-python",
   "name": "python",
   "nbconvert_exporter": "python",
   "pygments_lexer": "ipython3",
   "version": "3.7.4"
  }
 },
 "nbformat": 4,
 "nbformat_minor": 2
}

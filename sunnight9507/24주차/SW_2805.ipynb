{
 "cells": [
  {
   "cell_type": "code",
   "execution_count": null,
   "metadata": {},
   "outputs": [],
   "source": [
    "def func(shape, num):\n",
    "    if shape == 1:\n",
    "        return num[0][0]\n",
    "    \n",
    "    value = 0\n",
    "    \n",
    "    mid_num = int(shape/2)\n",
    "    \n",
    "    under_num = int((shape-2)/2)\n",
    "    \n",
    "    for i in range(shape):\n",
    "        if i < int(shape/2):\n",
    "            value += sum(num[i][mid_num - i:mid_num + i + 1])\n",
    "        elif i == int(shape/2):\n",
    "            value += sum(num[i])\n",
    "        else:\n",
    "            value += sum(num[i][mid_num - under_num:mid_num + under_num + 1])\n",
    "            under_num -= 1\n",
    "    \n",
    "    return value\n",
    "        \n",
    "if __name__ == \"__main__\":\n",
    "    lenth = int(input().strip())\n",
    "    for i in range(lenth):\n",
    "        shape = int(input().strip())\n",
    "        num = []\n",
    "        for j in range(shape):\n",
    "            num.append(list(map(int, str(input().strip()))))\n",
    "        print(\"#{0} {1}\".format((i+1), func(shape, num)))"
   ]
  }
 ],
 "metadata": {
  "kernelspec": {
   "display_name": "Python 3",
   "language": "python",
   "name": "python3"
  },
  "language_info": {
   "codemirror_mode": {
    "name": "ipython",
    "version": 3
   },
   "file_extension": ".py",
   "mimetype": "text/x-python",
   "name": "python",
   "nbconvert_exporter": "python",
   "pygments_lexer": "ipython3",
   "version": "3.7.3"
  }
 },
 "nbformat": 4,
 "nbformat_minor": 2
}

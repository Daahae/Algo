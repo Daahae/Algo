{
 "cells": [
  {
   "cell_type": "code",
   "execution_count": null,
   "metadata": {},
   "outputs": [],
   "source": [
    "def func_sum(lst):\n",
    "    \n",
    "    max_len = 0\n",
    "    \n",
    "    for i in range(100,1,-1):\n",
    "        if max_len: break\n",
    "        for col in range(100):\n",
    "            if max_len: break\n",
    "            for idx in range(100 - i + 1):\n",
    "                if lst[col][idx:idx+i] == lst[col][idx:idx+i][::-1]:\n",
    "                    max_len = i\n",
    "                    break\n",
    "\n",
    "    new_lst = lst.copy()\n",
    "    \n",
    "    for i in range(100):\n",
    "        for j in range(i+1,100):\n",
    "            new_lst[i][j], new_lst[j][i] = new_lst[j][i], new_lst[i][j]\n",
    "    \n",
    "    result = max_len\n",
    "    max_len = 0\n",
    "    \n",
    "    for i in range(100,1,-1):\n",
    "        if max_len: break\n",
    "        for col in range(100):\n",
    "            if max_len: break\n",
    "            for idx in range(100 - i + 1):\n",
    "                if lst[col][idx:idx+i] == lst[col][idx:idx+i][::-1]:\n",
    "                    max_len = i\n",
    "                    break\n",
    "    \n",
    "    if result < max_len:\n",
    "        result = max_len\n",
    "    \n",
    "    return result\n",
    "    \n",
    "if __name__ == \"__main__\":\n",
    "    for j in range(10):\n",
    "        test_num = int(input().strip())\n",
    "        test_lst = []\n",
    "        for i in range(100):\n",
    "            test_lst.append(list(input().strip()))\n",
    "            \n",
    "        print(\"#{0} {1}\".format((j+1), func_sum(test_lst)))"
   ]
  }
 ],
 "metadata": {
  "kernelspec": {
   "display_name": "Python 3",
   "language": "python",
   "name": "python3"
  },
  "language_info": {
   "codemirror_mode": {
    "name": "ipython",
    "version": 3
   },
   "file_extension": ".py",
   "mimetype": "text/x-python",
   "name": "python",
   "nbconvert_exporter": "python",
   "pygments_lexer": "ipython3",
   "version": "3.7.3"
  }
 },
 "nbformat": 4,
 "nbformat_minor": 2
}

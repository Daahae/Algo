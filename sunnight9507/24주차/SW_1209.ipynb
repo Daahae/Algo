{
 "cells": [
  {
   "cell_type": "code",
   "execution_count": 2,
   "metadata": {},
   "outputs": [
    {
     "name": "stdout",
     "output_type": "stream",
     "text": [
      "1\n",
      "1 2 3 4 5\n",
      "1 4 3 5 2\n",
      "2 3 5 4 1\n",
      "4 5 3 2 1\n",
      "5 4 3 2 1\n",
      "#1 25\n"
     ]
    }
   ],
   "source": [
    "def func_sum(lst):\n",
    "    \n",
    "    max_sum = 0\n",
    "    \n",
    "    # 행별로 더하기\n",
    "    sum_col = [0 for i in range(5)]\n",
    "    \n",
    "    # 대각 원소\n",
    "    trace_left = 0\n",
    "    trace_right = 0\n",
    "    \n",
    "    cnt = 0\n",
    "    \n",
    "    for i in lst:\n",
    "        # 행별 연산\n",
    "        for j in range(5):\n",
    "            sum_col[j] += i[j]\n",
    "        \n",
    "        # 대각 원소 합\n",
    "        trace_left += i[cnt]\n",
    "        trace_right += i[len(i) - cnt - 1]\n",
    "        cnt += 1\n",
    "        \n",
    "        if max_sum < sum(i):\n",
    "            max_sum = sum(i)\n",
    "            \n",
    "    if max_sum < max(sum_col):\n",
    "        max_sum = max(sum_col)\n",
    "        \n",
    "    if max_sum < trace_left:\n",
    "        max_sum = trace_left\n",
    "    \n",
    "    if max_sum < trace_right:\n",
    "        max_sum = trace_right\n",
    "    \n",
    "    return max_sum\n",
    "    \n",
    "if __name__ == \"__main__\":\n",
    "    for j in range(1):\n",
    "        test_num = int(input().strip())\n",
    "        test_lst = []\n",
    "        for i in range(5):\n",
    "            test_lst.append(list(map(int, input().strip().split())))\n",
    "            \n",
    "        print(\"#{0} {1}\".format((j+1), func_sum(test_lst)))"
   ]
  },
  {
   "cell_type": "code",
   "execution_count": 27,
   "metadata": {},
   "outputs": [
    {
     "name": "stdout",
     "output_type": "stream",
     "text": [
      "1\n",
      "3 3 3 3 3\n",
      "2 2 2 2 2\n",
      "5 5 1 1 1\n",
      "7 1 7 1 1\n",
      "8 1 1 1 8\n",
      "#1 25\n"
     ]
    }
   ],
   "source": [
    "# numpy 때문에 런타임 에러???\n",
    "\n",
    "import numpy as np\n",
    "\n",
    "def func_sum(lst):\n",
    "    \n",
    "    max_sum = 0\n",
    "    \n",
    "    # 행별로 더하기\n",
    "    sum_col = np.array([0 for i in range(100)])\n",
    "    \n",
    "    # 대각 원소\n",
    "    trace_left = 0\n",
    "    trace_right = 0\n",
    "    \n",
    "    cnt = 0\n",
    "    \n",
    "    for i in lst:\n",
    "        # 행별 연산\n",
    "        sum_col += i\n",
    "        # 대각 원소 합\n",
    "        trace_left += i[cnt]\n",
    "        trace_right += i[len(i) - cnt - 1]\n",
    "        cnt += 1\n",
    "        \n",
    "        if max_sum < sum(i):\n",
    "            max_sum = sum(i)\n",
    "            \n",
    "    if max_sum < max(sum_col):\n",
    "        max_sum = max(sum_col)\n",
    "        \n",
    "    if max_sum < trace_left:\n",
    "        max_sum = trace_left\n",
    "    \n",
    "    if max_sum < trace_right:\n",
    "        max_sum = trace_right\n",
    "    \n",
    "    return max_sum\n",
    "    \n",
    "if __name__ == \"__main__\":\n",
    "    for j in range(1):\n",
    "        test_num = int(input().strip())\n",
    "        test_lst = []\n",
    "        for i in range(10):\n",
    "            test_lst.append(list(map(int, input().strip().split())))\n",
    "            \n",
    "        print(\"#{0} {1}\".format((j+1), func_sum(test_lst)))"
   ]
  }
 ],
 "metadata": {
  "kernelspec": {
   "display_name": "Python 3",
   "language": "python",
   "name": "python3"
  },
  "language_info": {
   "codemirror_mode": {
    "name": "ipython",
    "version": 3
   },
   "file_extension": ".py",
   "mimetype": "text/x-python",
   "name": "python",
   "nbconvert_exporter": "python",
   "pygments_lexer": "ipython3",
   "version": "3.7.4"
  }
 },
 "nbformat": 4,
 "nbformat_minor": 2
}

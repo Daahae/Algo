{
 "cells": [
  {
   "cell_type": "code",
   "execution_count": 1,
   "metadata": {},
   "outputs": [
    {
     "name": "stdout",
     "output_type": "stream",
     "text": [
      "100\n",
      "0 0 225 214 82 73 241 233 179 219 135 62 36 13 6 71 179 77 67 139 31 90 9 37 93 203 150 69 19 137 28 174 32 80 64 54 18 0 158 73 173 20 0 102 107 48 50 161 246 145 225 31 0 153 185 157 44 126 153 233 0 201 83 103 191 0 45 0 131 87 97 105 97 209 157 22 0 29 132 74 2 232 44 203 0 51 0 244 212 212 89 53 50 244 207 144 72 143 0 0 \n",
      "#1 691\n"
     ]
    }
   ],
   "source": [
    "def view(lenth, lst):\n",
    "    count = 0\n",
    "    for i in range(2, lenth - 2):\n",
    "        height = lst[i]\n",
    "        \n",
    "        # 양 옆 4개의 건물 중 가장 높은 건물의 높이\n",
    "        max_height = max(max(lst[i-2:i]), max(lst[i+1:i+3])) \n",
    "        \n",
    "        if height <= max_height:\n",
    "            continue\n",
    "        \n",
    "        count += (height - max_height)\n",
    "    return count\n",
    "\n",
    "if __name__ == \"__main__\":\n",
    "    for i in range(1):\n",
    "        lenth = int(input().strip())\n",
    "        lst = list(map(int, input().strip().split()))\n",
    "        print(\"#{0} {1}\".format(i+1, view(lenth, lst)))"
   ]
  }
 ],
 "metadata": {
  "kernelspec": {
   "display_name": "Python 3",
   "language": "python",
   "name": "python3"
  },
  "language_info": {
   "codemirror_mode": {
    "name": "ipython",
    "version": 3
   },
   "file_extension": ".py",
   "mimetype": "text/x-python",
   "name": "python",
   "nbconvert_exporter": "python",
   "pygments_lexer": "ipython3",
   "version": "3.7.4"
  }
 },
 "nbformat": 4,
 "nbformat_minor": 2
}

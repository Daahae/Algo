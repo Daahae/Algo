{
 "cells": [
  {
   "cell_type": "code",
   "execution_count": 32,
   "metadata": {},
   "outputs": [
    {
     "name": "stdout",
     "output_type": "stream",
     "text": [
      "1\n",
      "456789 10\n",
      "#1 987645\n"
     ]
    }
   ],
   "source": [
    "# 10개 중 8개 정답\n",
    "# Test 32888 2 오답\n",
    "\n",
    "def func(num, count):\n",
    "    max_num = sorted(num, reverse=True)\n",
    "    \n",
    "    idx = 0\n",
    "    cnt = 0\n",
    "    \n",
    "    while max_num != num or idx >= len(num)-1: # 최댓값이면 break\n",
    "        \n",
    "        if num[idx] >= max(num[idx+1:]):\n",
    "            idx += 1\n",
    "        else:\n",
    "            # 문자열 변경\n",
    "            for i in range(len(num)-1,idx,-1):\n",
    "                if num[i] == max(num[idx+1:]):\n",
    "                    max_idx = i\n",
    "                    break         \n",
    "            \n",
    "            num[idx], num[max_idx] = num[max_idx], num[idx]\n",
    "            cnt += 1\n",
    "        \n",
    "        # 변경 횟수가 count와 동일할 때 return\n",
    "        if cnt == count:\n",
    "            return int(''.join(num))      \n",
    "    \n",
    "    # 전체 횟수에서 변경 횟수을 뺀 값이 홀수 이면 마지막 두 값만 변경\n",
    "    if (count - cnt)%2 == 0:\n",
    "        return int(''.join(num))\n",
    "    else:\n",
    "        num[-1], num[-2] = num[-2], num[-1]\n",
    "        return int(''.join(num)) \n",
    "    \n",
    "if __name__ == \"__main__\":\n",
    "    lenth = int(input().strip())\n",
    "    for i in range(lenth):\n",
    "        num = list(map(int, input().strip().split()))\n",
    "        print(\"#{0} {1}\".format((i+1), func(list(str(num[0])), num[1])))"
   ]
  }
 ],
 "metadata": {
  "kernelspec": {
   "display_name": "Python 3",
   "language": "python",
   "name": "python3"
  },
  "language_info": {
   "codemirror_mode": {
    "name": "ipython",
    "version": 3
   },
   "file_extension": ".py",
   "mimetype": "text/x-python",
   "name": "python",
   "nbconvert_exporter": "python",
   "pygments_lexer": "ipython3",
   "version": "3.7.4"
  }
 },
 "nbformat": 4,
 "nbformat_minor": 2
}

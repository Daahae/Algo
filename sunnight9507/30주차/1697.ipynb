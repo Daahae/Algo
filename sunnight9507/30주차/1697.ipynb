{
 "cells": [
  {
   "cell_type": "code",
   "execution_count": 4,
   "metadata": {},
   "outputs": [
    {
     "name": "stdout",
     "output_type": "stream",
     "text": [
      "5 100\n",
      "{5}\n",
      "{10, 4, 6}\n",
      "{3, 20, 5, 7, 8, 9, 11, 12}\n",
      "{2, 4, 6, 7, 8, 9, 10, 11, 12, 13, 14, 16, 18, 19, 21, 22, 24, 40}\n",
      "{1, 3, 4, 5, 6, 7, 8, 9, 10, 11, 12, 13, 14, 15, 16, 17, 18, 19, 20, 21, 22, 23, 24, 25, 26, 28, 32, 36, 38, 39, 41, 42, 44, 48, 80}\n",
      "{0, 2, 3, 4, 5, 6, 7, 8, 9, 10, 11, 12, 13, 14, 15, 16, 17, 18, 19, 20, 21, 22, 23, 24, 25, 26, 27, 28, 29, 30, 31, 32, 33, 34, 35, 36, 37, 38, 39, 40, 41, 42, 43, 44, 45, 46, 47, 48, 49, 50, 52, 56, 64, 72, 76, 78, 79, 81, 82, 84, 88, 96, 160}\n"
     ]
    },
    {
     "data": {
      "text/plain": [
       "6"
      ]
     },
     "execution_count": 4,
     "metadata": {},
     "output_type": "execute_result"
    }
   ],
   "source": [
    "def func(end, cnt, lst):\n",
    "    if end in lst:\n",
    "        return cnt\n",
    "    \n",
    "    print(lst)\n",
    "    cnt += 1\n",
    "    \n",
    "    plus_one = set([i+1 for i in lst])\n",
    "    minus_one = set([i-1 for i in lst])\n",
    "    twice = set([i*2 for i in lst])\n",
    "    \n",
    "    plus_one.update(minus_one)\n",
    "    plus_one.update(twice)\n",
    "    \n",
    "    return func(end, cnt, plus_one)\n",
    "    \n",
    "start, end = list(map(int, input().split()))\n",
    "\n",
    "func(end, 0, set([start]))"
   ]
  }
 ],
 "metadata": {
  "kernelspec": {
   "display_name": "Python 3",
   "language": "python",
   "name": "python3"
  },
  "language_info": {
   "codemirror_mode": {
    "name": "ipython",
    "version": 3
   },
   "file_extension": ".py",
   "mimetype": "text/x-python",
   "name": "python",
   "nbconvert_exporter": "python",
   "pygments_lexer": "ipython3",
   "version": "3.7.3"
  }
 },
 "nbformat": 4,
 "nbformat_minor": 2
}

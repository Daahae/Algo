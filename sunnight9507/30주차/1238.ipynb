{
 "cells": [
  {
   "cell_type": "code",
   "execution_count": 2,
   "metadata": {},
   "outputs": [
    {
     "name": "stdout",
     "output_type": "stream",
     "text": [
      "4 8 2\n",
      "1 2 4\n",
      "1 3 2\n",
      "1 4 7\n",
      "2 1 1\n",
      "2 3 5\n",
      "3 1 2\n",
      "3 4 4\n",
      "4 2 3\n"
     ]
    }
   ],
   "source": [
    "N, len_route, party = list(map(int, input().split()))\n",
    "\n",
    "route = [[] for _ in range(N+1)]\n",
    "\n",
    "for i in range(len_route):\n",
    "    a,b,c = list(map(int, input().split()))\n",
    "    route[a].append([b,c])"
   ]
  },
  {
   "cell_type": "code",
   "execution_count": 41,
   "metadata": {},
   "outputs": [],
   "source": [
    "import heapq\n",
    "\n",
    "def func(route, N, start, end):\n",
    "    queue = []\n",
    "    \n",
    "    route_lenth = [1e9] * (N+1)\n",
    "    route_lenth[start] = 0\n",
    "    heapq.heappush(queue, [start, 0])\n",
    "    \n",
    "    while queue:\n",
    "        s, tmp_time = heapq.heappop(queue)\n",
    "        \n",
    "        for e, time in route[s]:\n",
    "            if route_lenth[e] > time + tmp_time:\n",
    "                route_lenth[e] = time + tmp_time\n",
    "                heapq.heappush(queue, [e, tmp_time + time])\n",
    "                \n",
    "    return route_lenth[end]"
   ]
  },
  {
   "cell_type": "code",
   "execution_count": 44,
   "metadata": {},
   "outputs": [
    {
     "name": "stdout",
     "output_type": "stream",
     "text": [
      "1 5\n",
      "2 5\n",
      "3 9\n",
      "4 10\n",
      "10\n"
     ]
    }
   ],
   "source": [
    "max_route = 0\n",
    "for i in range(1,N+1):\n",
    "    if i == party:\n",
    "        pass\n",
    "    else:\n",
    "        go = func(route, N, i, party)\n",
    "        back = func(route, N, party, i)\n",
    "        if max_route < go + back:\n",
    "            max_route = go + back\n",
    "    print(i,max_route)\n",
    "print(max_route)"
   ]
  }
 ],
 "metadata": {
  "kernelspec": {
   "display_name": "Python 3",
   "language": "python",
   "name": "python3"
  },
  "language_info": {
   "codemirror_mode": {
    "name": "ipython",
    "version": 3
   },
   "file_extension": ".py",
   "mimetype": "text/x-python",
   "name": "python",
   "nbconvert_exporter": "python",
   "pygments_lexer": "ipython3",
   "version": "3.7.3"
  }
 },
 "nbformat": 4,
 "nbformat_minor": 2
}

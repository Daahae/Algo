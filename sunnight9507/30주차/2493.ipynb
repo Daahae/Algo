{
 "cells": [
  {
   "cell_type": "code",
   "execution_count": 31,
   "metadata": {},
   "outputs": [
    {
     "name": "stdout",
     "output_type": "stream",
     "text": [
      "3\n",
      "1 1 1\n",
      "0 1 2\n"
     ]
    }
   ],
   "source": [
    "N = int(input())\n",
    "lst = list(map(int, input().split()))\n",
    "\n",
    "stack = [[lst[0],0]]\n",
    "result = [0] * N\n",
    "idx = 0\n",
    "\n",
    "for i in range(1,N):\n",
    "    # print(stack)\n",
    "    cnt = 0\n",
    "    while len(stack):\n",
    "        if stack[-1][0] < lst[i]:\n",
    "            stack.pop()\n",
    "        else:\n",
    "            break\n",
    "    \n",
    "    if len(stack) == 0:\n",
    "        result[i] = 0\n",
    "    else:\n",
    "        result[i] = stack[-1][1] + 1\n",
    "    \n",
    "    stack.append([lst[i], i])\n",
    "\n",
    "print(*result)"
   ]
  }
 ],
 "metadata": {
  "kernelspec": {
   "display_name": "Python 3",
   "language": "python",
   "name": "python3"
  },
  "language_info": {
   "codemirror_mode": {
    "name": "ipython",
    "version": 3
   },
   "file_extension": ".py",
   "mimetype": "text/x-python",
   "name": "python",
   "nbconvert_exporter": "python",
   "pygments_lexer": "ipython3",
   "version": "3.7.3"
  }
 },
 "nbformat": 4,
 "nbformat_minor": 2
}

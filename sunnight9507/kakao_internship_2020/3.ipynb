{
 "cells": [
  {
   "cell_type": "code",
   "execution_count": 113,
   "metadata": {},
   "outputs": [],
   "source": [
    "def down(gems, idx):\n",
    "    lst = []\n",
    "    unique_gems = set(gems)\n",
    "    \n",
    "    for i in range(idx, 0, -1):\n",
    "        if gems[i] in lst: pass\n",
    "        else: lst.append(gems[i])\n",
    "            \n",
    "        if len(lst) == len(unique_gems):\n",
    "            return (True, i)\n",
    "    \n",
    "    return (False, 0)\n",
    "\n",
    "def up(gems, idx):\n",
    "    lst = []\n",
    "    unique_gems = set(gems)\n",
    "    \n",
    "    for i in range(idx,len(gems)):\n",
    "        if gems[i] in lst: pass\n",
    "        else: lst.append(gems[i])\n",
    "            \n",
    "        if len(lst) == len(unique_gems):\n",
    "            return (True, i)\n",
    "    \n",
    "    return (False, len(gems))\n",
    "\n",
    "def solution(gems):\n",
    "    answer = [0,len(gems)]\n",
    "    \n",
    "    unique_gems = set(gems)\n",
    "    \n",
    "    #print(set(gems))\n",
    "    \n",
    "    min_gems = ''\n",
    "    min_count = 100000\n",
    "    \n",
    "    for i in unique_gems:\n",
    "        if min_count >= gems.count(i):\n",
    "            min_gems = i\n",
    "            min_count = gems.count(i)\n",
    "            \n",
    "    print(min_gems)\n",
    "    \n",
    "    \n",
    "    for i in range(len(gems)):\n",
    "        if gems[i] == min_gems:\n",
    "            \n",
    "            check_down, down_idx = down(gems, i)\n",
    "            check_up, up_idx = up(gems, i)\n",
    "            \n",
    "            down_len = i - down_idx\n",
    "            up_len = up_idx - i\n",
    "            \n",
    "            if check_down and check_up:\n",
    "                if down_len <= up_len:\n",
    "                    if down_len < answer[1]-answer[0]:\n",
    "                        answer = [down_idx, i]\n",
    "                    elif down_len == answer[1]-answer[0] and down_idx < answer[0]:\n",
    "                        answer = [down_idx, i]\n",
    "                else:\n",
    "                    if up_len < answer[1]-answer[0]:\n",
    "                        answer = [i, up_idx]\n",
    "                    elif up_len == answer[1]-answer[0] and i < answer[0]:\n",
    "                        answer = [i, up_idx]\n",
    "            elif check_down:\n",
    "                if down_len < answer[1]-answer[0]:\n",
    "                        answer = [down_idx, i]\n",
    "                elif down_len == answer[1]-answer[0] and down_idx < answer[0]:\n",
    "                    answer = [down_idx, i]\n",
    "            elif check_up:\n",
    "                if up_len < answer[1]-answer[0]:\n",
    "                        answer = [i, up_idx]\n",
    "                elif up_len == answer[1]-answer[0] and i < answer[0]:\n",
    "                    answer = [i, up_idx]\n",
    "            \n",
    "    return [answer[0]+1, answer[1]+1]"
   ]
  },
  {
   "cell_type": "code",
   "execution_count": 118,
   "metadata": {},
   "outputs": [
    {
     "name": "stdout",
     "output_type": "stream",
     "text": [
      "ZZZ\n"
     ]
    },
    {
     "data": {
      "text/plain": [
       "[1, 5]"
      ]
     },
     "execution_count": 118,
     "metadata": {},
     "output_type": "execute_result"
    }
   ],
   "source": [
    "solution([\"ZZZ\", \"YYY\", \"NNNN\", \"YYY\", \"BBB\"])"
   ]
  },
  {
   "cell_type": "code",
   "execution_count": 33,
   "metadata": {},
   "outputs": [
    {
     "name": "stdout",
     "output_type": "stream",
     "text": [
      "0 ZZZ\n",
      "1 NNNN\n",
      "2 YYY\n",
      "3 BBB\n"
     ]
    }
   ],
   "source": [
    "for i,j in enumerate(list(set([\"ZZZ\", \"YYY\", \"NNNN\", \"YYY\", \"BBB\"]))):\n",
    "    print(i,j)"
   ]
  },
  {
   "cell_type": "code",
   "execution_count": null,
   "metadata": {},
   "outputs": [],
   "source": []
  },
  {
   "cell_type": "code",
   "execution_count": null,
   "metadata": {},
   "outputs": [],
   "source": []
  },
  {
   "cell_type": "code",
   "execution_count": null,
   "metadata": {},
   "outputs": [],
   "source": []
  },
  {
   "cell_type": "code",
   "execution_count": 57,
   "metadata": {},
   "outputs": [],
   "source": [
    "def solution(gems):\n",
    "\n",
    "    unique_gems = list(set(gems))\n",
    "    \n",
    "    dict_lst = {}\n",
    "    \n",
    "    for i,j in enumerate(unique_gems):\n",
    "        dict_lst[j] = i\n",
    "    # print(unique_gems)\n",
    "    \n",
    "    len_gems = len(unique_gems)\n",
    "    \n",
    "    lst = [-1 for _ in range(len_gems)]\n",
    "    \n",
    "    result = [0,len(gems)-1, len(gems)-1]\n",
    "    start = 0\n",
    "    end = len(gems)-1\n",
    "    len_lst = end - start\n",
    "    \n",
    "    check = True\n",
    "    \n",
    "    for i in range(len(gems)):\n",
    "        lst[dict_lst[gems[i]]] = i\n",
    "        \n",
    "        min_lst = min(lst)\n",
    "        if -1 == min_lst:\n",
    "            pass\n",
    "        else:\n",
    "            if i - min_lst < len_lst:\n",
    "                start = min_lst\n",
    "                end = i\n",
    "                len_lst = end - start\n",
    "                \n",
    "        \n",
    "         #print(lst)\n",
    "    \n",
    "    if i - min_lst < len_lst:\n",
    "        start = min_lst\n",
    "        end = i\n",
    "        len_lst = end - start\n",
    "    #print(result)\n",
    "        \n",
    "    return [start+1, end+1]"
   ]
  },
  {
   "cell_type": "code",
   "execution_count": 58,
   "metadata": {},
   "outputs": [
    {
     "data": {
      "text/plain": [
       "[1, 1]"
      ]
     },
     "execution_count": 58,
     "metadata": {},
     "output_type": "execute_result"
    }
   ],
   "source": [
    "solution([\"XYZ\", \"XYZ\", \"XYZ\"])"
   ]
  }
 ],
 "metadata": {
  "kernelspec": {
   "display_name": "Python 3",
   "language": "python",
   "name": "python3"
  },
  "language_info": {
   "codemirror_mode": {
    "name": "ipython",
    "version": 3
   },
   "file_extension": ".py",
   "mimetype": "text/x-python",
   "name": "python",
   "nbconvert_exporter": "python",
   "pygments_lexer": "ipython3",
   "version": "3.7.3"
  }
 },
 "nbformat": 4,
 "nbformat_minor": 2
}

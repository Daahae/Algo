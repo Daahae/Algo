{
 "cells": [
  {
   "cell_type": "code",
   "execution_count": 98,
   "metadata": {},
   "outputs": [],
   "source": [
    "from itertools import permutations\n",
    "\n",
    "def calc(a,b,c):\n",
    "    if b == '-': return a - c\n",
    "    elif b == '+': return a + c\n",
    "    else: return a * c\n",
    "\n",
    "def solution(expression):\n",
    "    answer = 0\n",
    "    \n",
    "    lst = []\n",
    "    string = ''\n",
    "    sign = []\n",
    "    \n",
    "    for i in expression:\n",
    "        if i in ['*','+','-']:\n",
    "            lst.append(int(string))\n",
    "            string = ''\n",
    "            lst.append(i)\n",
    "        else:\n",
    "            string += i\n",
    "    lst.append(int(string))\n",
    "            \n",
    "    if '-' in lst: sign.append('-')\n",
    "    if '+' in lst: sign.append('+')\n",
    "    if '*' in lst: sign.append('*')\n",
    "        \n",
    "    #print(sign)\n",
    "    \n",
    "    #print(lst)\n",
    "    \n",
    "    sign_lst = list(permutations(sign,len(sign)))\n",
    "    \n",
    "    result_lst = []\n",
    "    \n",
    "    for sign in sign_lst:\n",
    "        # print(sign)\n",
    "        tmp_lst = lst.copy()\n",
    "        for tmp_sign in sign:\n",
    "            #print(tmp_sign, tmp_lst)\n",
    "            new_lst = []\n",
    "            i = 0\n",
    "            while(i < len(tmp_lst)):\n",
    "                # print(new_lst)\n",
    "                if tmp_lst[i] == tmp_sign:\n",
    "                    tmp = new_lst.pop()\n",
    "                    new_lst.append(calc(tmp, tmp_lst[i], tmp_lst[i+1]))\n",
    "                    i += 1\n",
    "                else:\n",
    "                    new_lst.append(tmp_lst[i])\n",
    "                i += 1    \n",
    "            tmp_lst = new_lst.copy()\n",
    "            \n",
    "        result_lst.append(tmp_lst)\n",
    "        \n",
    "    answer = abs(result_lst[0][0])\n",
    "    \n",
    "    for i in result_lst[1:]:\n",
    "        if answer < abs(i[0]): answer = abs(i[0])\n",
    "    \n",
    "    \n",
    "    \n",
    "    return answer"
   ]
  },
  {
   "cell_type": "code",
   "execution_count": 99,
   "metadata": {},
   "outputs": [
    {
     "data": {
      "text/plain": [
       "60420"
      ]
     },
     "execution_count": 99,
     "metadata": {},
     "output_type": "execute_result"
    }
   ],
   "source": [
    "solution(\"100-200*300-500+20\")"
   ]
  },
  {
   "cell_type": "code",
   "execution_count": null,
   "metadata": {},
   "outputs": [],
   "source": [
    "\"100-200*300-500+20\"\t60420"
   ]
  }
 ],
 "metadata": {
  "kernelspec": {
   "display_name": "Python 3",
   "language": "python",
   "name": "python3"
  },
  "language_info": {
   "codemirror_mode": {
    "name": "ipython",
    "version": 3
   },
   "file_extension": ".py",
   "mimetype": "text/x-python",
   "name": "python",
   "nbconvert_exporter": "python",
   "pygments_lexer": "ipython3",
   "version": "3.7.3"
  }
 },
 "nbformat": 4,
 "nbformat_minor": 2
}

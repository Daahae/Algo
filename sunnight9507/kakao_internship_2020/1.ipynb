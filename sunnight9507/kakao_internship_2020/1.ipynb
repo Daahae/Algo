{
 "cells": [
  {
   "cell_type": "code",
   "execution_count": 16,
   "metadata": {},
   "outputs": [],
   "source": [
    "def change(num):\n",
    "    if num == '1': return (0,0)\n",
    "    elif num == '2': return (0,1)\n",
    "    elif num == '3': return (0,2)\n",
    "    elif num == '4': return (1,0)\n",
    "    elif num == '5': return (1,1)\n",
    "    elif num == '6': return (1,2)\n",
    "    elif num == '7': return (2,0)\n",
    "    elif num == '8': return (2,1)\n",
    "    elif num == '9': return (2,2)\n",
    "    elif num == '*': return (3,0)\n",
    "    elif num == '0': return (3,1)\n",
    "    elif num == '#': return (3,2)\n",
    "    else: return (5,5)  \n",
    "\n",
    "def solution(numbers, hand):\n",
    "    answer = ''\n",
    "    \n",
    "    l = change('*')\n",
    "    r = change('#')\n",
    "    \n",
    "    for i in numbers:\n",
    "        # print(answer, l, r)\n",
    "        if i in [1,4,7]:\n",
    "            answer += 'L'\n",
    "            l = change(str(i))\n",
    "        elif i in [3,6,9]:\n",
    "            answer += 'R'\n",
    "            r = change(str(i))\n",
    "        else:\n",
    "            a, b = change(str(i))\n",
    "            l_step = abs(l[0] - a) + abs(l[1] - b)\n",
    "            r_step = abs(r[0] - a) + abs(r[1] - b)\n",
    "            \n",
    "            if l_step == r_step:\n",
    "                if hand == 'right':\n",
    "                    answer += 'R'\n",
    "                    r = change(str(i))\n",
    "                else:\n",
    "                    answer += 'L'\n",
    "                    l = change(str(i))\n",
    "            elif l_step < r_step:\n",
    "                answer += 'L'\n",
    "                l = change(str(i))\n",
    "            else:\n",
    "                answer += 'R'\n",
    "                r = change(str(i))\n",
    "    \n",
    "    return answer"
   ]
  },
  {
   "cell_type": "code",
   "execution_count": 17,
   "metadata": {},
   "outputs": [
    {
     "name": "stdout",
     "output_type": "stream",
     "text": [
      " (3, 0) (3, 2)\n",
      "L (0, 0) (3, 2)\n",
      "LR (0, 0) (0, 2)\n",
      "LRL (1, 0) (0, 2)\n",
      "LRLL (1, 1) (0, 2)\n",
      "LRLLL (2, 1) (0, 2)\n",
      "LRLLLR (2, 1) (0, 1)\n",
      "LRLLLRL (0, 0) (0, 1)\n",
      "LRLLLRLL (1, 0) (0, 1)\n",
      "LRLLLRLLR (1, 0) (1, 1)\n",
      "LRLLLRLLRR (1, 0) (2, 2)\n"
     ]
    },
    {
     "data": {
      "text/plain": [
       "'LRLLLRLLRRL'"
      ]
     },
     "execution_count": 17,
     "metadata": {},
     "output_type": "execute_result"
    }
   ],
   "source": [
    "solution([1, 3, 4, 5, 8, 2, 1, 4, 5, 9, 5],\"right\")"
   ]
  },
  {
   "cell_type": "code",
   "execution_count": 7,
   "metadata": {},
   "outputs": [],
   "source": [
    "\"LRLLLRLLRRL\""
   ]
  },
  {
   "cell_type": "code",
   "execution_count": 8,
   "metadata": {},
   "outputs": [
    {
     "data": {
      "text/plain": [
       "(1, 2)"
      ]
     },
     "execution_count": 8,
     "metadata": {},
     "output_type": "execute_result"
    }
   ],
   "source": [
    "a"
   ]
  },
  {
   "cell_type": "code",
   "execution_count": 9,
   "metadata": {},
   "outputs": [],
   "source": [
    "b = (2,3)"
   ]
  },
  {
   "cell_type": "code",
   "execution_count": 11,
   "metadata": {},
   "outputs": [
    {
     "data": {
      "text/plain": [
       "2"
      ]
     },
     "execution_count": 11,
     "metadata": {},
     "output_type": "execute_result"
    }
   ],
   "source": [
    "abs(1 - 3)"
   ]
  },
  {
   "cell_type": "code",
   "execution_count": null,
   "metadata": {},
   "outputs": [],
   "source": []
  }
 ],
 "metadata": {
  "kernelspec": {
   "display_name": "Python 3",
   "language": "python",
   "name": "python3"
  },
  "language_info": {
   "codemirror_mode": {
    "name": "ipython",
    "version": 3
   },
   "file_extension": ".py",
   "mimetype": "text/x-python",
   "name": "python",
   "nbconvert_exporter": "python",
   "pygments_lexer": "ipython3",
   "version": "3.7.3"
  }
 },
 "nbformat": 4,
 "nbformat_minor": 2
}

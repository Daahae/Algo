{
 "cells": [
  {
   "cell_type": "code",
   "execution_count": 10,
   "metadata": {},
   "outputs": [
    {
     "name": "stdout",
     "output_type": "stream",
     "text": [
      "1\n",
      "5\n",
      "5 1 10 2 4\n",
      "3 5 7 1 6\n",
      "[[0, 5, 4, 20, 14, 25], [0, 3, 10, 12, 21, 26]]\n",
      "26\n"
     ]
    }
   ],
   "source": [
    "for t in range(int(input())):\n",
    "    n = int(input())\n",
    "    dp = [[ 0 for j in range(n+1)] for i in range(2)]\n",
    "    st = [list(map(int, input().split())) for i in range(2)]\n",
    "    dp[0][1] = st[0][0]\n",
    "    dp[1][1] = st[1][0]\n",
    "    for i in range(2, n+1):\n",
    "        dp[0][i] = max(dp[1][i-1], dp[1][i-2]) + st[0][i-1]\n",
    "        dp[1][i] = max(dp[0][i-1], dp[0][i-2]) + st[1][i-1]\n",
    "        \n",
    "    #print(dp)\n",
    "    print(max(dp[0][n], dp[1][n]))\n"
   ]
  },
  {
   "cell_type": "markdown",
   "metadata": {},
   "source": [
    "# 1) 리스트의 합이 0이면 return\n",
    "\n",
    "2) 가장 큰 값 찾고 주변 0으로\n",
    "\n",
    "3) 반복"
   ]
  },
  {
   "cell_type": "markdown",
   "metadata": {},
   "source": [
    "5 0 10 0 07\n",
    "\n",
    "0 5 0 0 6"
   ]
  }
 ],
 "metadata": {
  "kernelspec": {
   "display_name": "Python 3",
   "language": "python",
   "name": "python3"
  },
  "language_info": {
   "codemirror_mode": {
    "name": "ipython",
    "version": 3
   },
   "file_extension": ".py",
   "mimetype": "text/x-python",
   "name": "python",
   "nbconvert_exporter": "python",
   "pygments_lexer": "ipython3",
   "version": "3.7.3"
  }
 },
 "nbformat": 4,
 "nbformat_minor": 2
}

{
 "cells": [
  {
   "cell_type": "code",
   "execution_count": 15,
   "metadata": {},
   "outputs": [
    {
     "name": "stdout",
     "output_type": "stream",
     "text": [
      "3 100\n",
      "5\n",
      "3\n",
      "2\n",
      "[0, 10001, 1, 1, 2, 1, 2, 2, 2, 3, 2, 3, 3, 3, 4, 3, 4, 4, 4, 5, 4, 5, 5, 5, 6, 5, 6, 6, 6, 7, 6, 7, 7, 7, 8, 7, 8, 8, 8, 9, 8, 9, 9, 9, 10, 9, 10, 10, 10, 11, 10, 11, 11, 11, 12, 11, 12, 12, 12, 13, 12, 13, 13, 13, 14, 13, 14, 14, 14, 15, 14, 15, 15, 15, 16, 15, 16, 16, 16, 17, 16, 17, 17, 17, 18, 17, 18, 18, 18, 19, 18, 19, 19, 19, 20, 19, 20, 20, 20, 21, 20]\n",
      "20\n"
     ]
    }
   ],
   "source": [
    "n, k = map(int, input().split())\n",
    "v = [int(input()) for _ in range(n)]\n",
    "\n",
    "def coin():\n",
    "    dp = [0] * (k+1)\n",
    "    \n",
    "    for i in range(1, k+1):\n",
    "        min_coins = 10001\n",
    "        for j in range(n):\n",
    "            if v[j] <= i and min_coins > dp[i-v[j]] + 1:\n",
    "                min_coins = dp[i-v[j]] + 1\n",
    "        dp[i] = min_coins\n",
    "        \n",
    "    print(dp)\n",
    "    \n",
    "    return dp[k]\n",
    "\n",
    "\n",
    "r = coin()\n",
    "if r == 10001:\n",
    "    print(-1)\n",
    "else:\n",
    "    print(r)"
   ]
  },
  {
   "cell_type": "code",
   "execution_count": 12,
   "metadata": {
    "scrolled": true
   },
   "outputs": [
    {
     "name": "stdout",
     "output_type": "stream",
     "text": [
      "10 1999\n",
      "90\n",
      "70\n",
      "500\n",
      "30\n",
      "43\n",
      "2\n",
      "33\n",
      "444\n",
      "90\n",
      "7\n",
      "7\n"
     ]
    }
   ],
   "source": [
    "def min_money_count(result_money_list, money_list,count):\n",
    "    if 0 in result_money_list:\n",
    "        print(count)\n",
    "        return\n",
    "    \n",
    "    cnt = 1\n",
    "    for i in result_money_list:\n",
    "        if i >= 0:\n",
    "            cnt = 0\n",
    "            break\n",
    "    if cnt == 1:\n",
    "        print(-1)\n",
    "        return\n",
    "    \n",
    "    new_money_list = []\n",
    "    \n",
    "    for i in money_list:\n",
    "        for j in result_money_list:\n",
    "            if j-i >= 0:\n",
    "                new_money_list.append(j - i)\n",
    "    \n",
    "    new_money_list = list(set(new_money_list))\n",
    "    \n",
    "    if(len(new_money_list) > 500):\n",
    "        new_money_list.sort()\n",
    "        new_money_list = new_money_list[:500]\n",
    "    \n",
    "    count += 1\n",
    "    \n",
    "    min_money_count(new_money_list, money_list, count)\n",
    "\n",
    "    \n",
    "N, goal_money = list(map(int, input().split()))\n",
    "\n",
    "money_list = []\n",
    "for i in range(N):\n",
    "    money_list.append(int(input()))\n",
    "    \n",
    "result_money_list = []\n",
    "for i in money_list:\n",
    "    result_money_list.append(goal_money - i)\n",
    "    \n",
    "count = 1\n",
    "    \n",
    "min_money_count(result_money_list, money_list, count)"
   ]
  }
 ],
 "metadata": {
  "kernelspec": {
   "display_name": "Python 3",
   "language": "python",
   "name": "python3"
  },
  "language_info": {
   "codemirror_mode": {
    "name": "ipython",
    "version": 3
   },
   "file_extension": ".py",
   "mimetype": "text/x-python",
   "name": "python",
   "nbconvert_exporter": "python",
   "pygments_lexer": "ipython3",
   "version": "3.7.3"
  }
 },
 "nbformat": 4,
 "nbformat_minor": 2
}

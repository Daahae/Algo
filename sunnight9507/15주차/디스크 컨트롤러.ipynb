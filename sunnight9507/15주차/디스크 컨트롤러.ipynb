{
 "cells": [
  {
   "cell_type": "code",
   "execution_count": 21,
   "metadata": {},
   "outputs": [],
   "source": [
    "def solution(jobs):\n",
    "    N = len(jobs)\n",
    "    answer = 0\n",
    "    jobs.sort(key=lambda x : (x[0], x[1]))\n",
    "    \n",
    "    start, time = jobs.pop(0)\n",
    "    \n",
    "    end = time + start\n",
    "    \n",
    "    answer += time\n",
    "    \n",
    "    while jobs:\n",
    "        index_next = 0\n",
    "        for i in range(1, len(jobs)):\n",
    "            if jobs[i][0] > end:\n",
    "                break\n",
    "            else:\n",
    "                if jobs[i][1] < jobs[index_next][1]:\n",
    "                    index_next = i\n",
    "        next_work = jobs.pop(index_next)\n",
    "        \n",
    "        if next_work[0] <= end:\n",
    "            answer += next_work[1] + (end - next_work[0])\n",
    "            end += next_work[1]\n",
    "        else:\n",
    "            answer += next_work[1]\n",
    "            end = sum(next_work)\n",
    "\n",
    "    return answer // N"
   ]
  },
  {
   "cell_type": "code",
   "execution_count": 22,
   "metadata": {},
   "outputs": [
    {
     "data": {
      "text/plain": [
       "2"
      ]
     },
     "execution_count": 22,
     "metadata": {},
     "output_type": "execute_result"
    }
   ],
   "source": [
    "solution([[0, 3], [10, 1], [3, 1],[2,1]])"
   ]
  },
  {
   "cell_type": "code",
   "execution_count": null,
   "metadata": {},
   "outputs": [],
   "source": []
  },
  {
   "cell_type": "code",
   "execution_count": null,
   "metadata": {},
   "outputs": [],
   "source": []
  },
  {
   "cell_type": "code",
   "execution_count": null,
   "metadata": {},
   "outputs": [],
   "source": []
  },
  {
   "cell_type": "code",
   "execution_count": null,
   "metadata": {},
   "outputs": [],
   "source": [
    "def solution(jobs):\n",
    "    before = -1\n",
    "    current = 0\n",
    "    wait = []\n",
    "    n = len(jobs)\n",
    "    answer = 0\n",
    "    count = 0\n",
    "    while count < n:\n",
    "        for a in jobs:\n",
    "            if before < a[0] <= current:\n",
    "                answer += (current - a[0])\n",
    "                heapq.heappush(wait, a[1])\n",
    "        if len(wait) > 0:\n",
    "            answer += len(wait)*wait[0]\n",
    "            before = current\n",
    "            current += heapq.heappop(wait)\n",
    "            count += 1\n",
    "        else:\n",
    "            current += 1\n",
    "    return answer//n"
   ]
  }
 ],
 "metadata": {
  "kernelspec": {
   "display_name": "Python 3",
   "language": "python",
   "name": "python3"
  },
  "language_info": {
   "codemirror_mode": {
    "name": "ipython",
    "version": 3
   },
   "file_extension": ".py",
   "mimetype": "text/x-python",
   "name": "python",
   "nbconvert_exporter": "python",
   "pygments_lexer": "ipython3",
   "version": "3.7.3"
  }
 },
 "nbformat": 4,
 "nbformat_minor": 2
}

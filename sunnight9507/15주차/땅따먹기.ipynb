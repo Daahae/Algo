{
 "cells": [
  {
   "cell_type": "code",
   "execution_count": 39,
   "metadata": {},
   "outputs": [],
   "source": [
    "def solution2(land):\n",
    "    answer = 0\n",
    "    N = len(land)\n",
    " \n",
    "    for i in range(0,N-1):\n",
    " \n",
    "        land[i+1][0] += max(land[i][1],land[i][2],land[i][3])\n",
    "        land[i+1][1] += max(land[i][0],land[i][2],land[i][3])\n",
    "        land[i+1][2] += max(land[i][0],land[i][1],land[i][3])\n",
    "        land[i+1][3] += max(land[i][0],land[i][1],land[i][2])\n",
    "   \n",
    "\n",
    "    answer = max(land[N-1])  \n",
    "    \n",
    "    return answer"
   ]
  },
  {
   "cell_type": "code",
   "execution_count": 40,
   "metadata": {},
   "outputs": [
    {
     "data": {
      "text/plain": [
       "16"
      ]
     },
     "execution_count": 40,
     "metadata": {},
     "output_type": "execute_result"
    }
   ],
   "source": [
    "solution([[1,2,3,5],[5,6,7,8],[4,3,2,1]])"
   ]
  }
 ],
 "metadata": {
  "kernelspec": {
   "display_name": "Python 3",
   "language": "python",
   "name": "python3"
  },
  "language_info": {
   "codemirror_mode": {
    "name": "ipython",
    "version": 3
   },
   "file_extension": ".py",
   "mimetype": "text/x-python",
   "name": "python",
   "nbconvert_exporter": "python",
   "pygments_lexer": "ipython3",
   "version": "3.7.3"
  }
 },
 "nbformat": 4,
 "nbformat_minor": 2
}

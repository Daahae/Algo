{
 "cells": [
  {
   "cell_type": "code",
   "execution_count": 50,
   "metadata": {},
   "outputs": [],
   "source": [
    "# 69점...\n",
    "\n",
    "def rotation(key):\n",
    "    new_key = [[0] * len(key) for _ in range(len(key))]\n",
    "\n",
    "    for i in range(len(key)):\n",
    "        for j in range(len(key)):\n",
    "            new_key[j][len(key)-1-i] = key[i][j]\n",
    "            \n",
    "    return new_key\n",
    "        \n",
    "def solution(key, lock):\n",
    "    # 비교\n",
    "    if check(key, lock):\n",
    "        return True\n",
    "    \n",
    "    # 90도 회전\n",
    "    key = rotation(key)\n",
    "    # 비교\n",
    "    if check(key, lock):\n",
    "        return True\n",
    "    \n",
    "    # 90도 회전\n",
    "    key = rotation(key)\n",
    "    # 비교\n",
    "    if check(key, lock):\n",
    "        return True\n",
    "    \n",
    "    # 90도 회전\n",
    "    key = rotation(key)\n",
    "    # 비교\n",
    "    if check(key, lock):\n",
    "        return True\n",
    "\n",
    "    return False"
   ]
  },
  {
   "cell_type": "code",
   "execution_count": 43,
   "metadata": {},
   "outputs": [],
   "source": [
    "key = [[0, 0, 0], [1, 0, 0], [0, 1, 1]]\n",
    "\n",
    "lock = [[1, 1, 1], [1, 1, 0], [1, 0, 1]]"
   ]
  },
  {
   "cell_type": "code",
   "execution_count": 48,
   "metadata": {},
   "outputs": [
    {
     "data": {
      "text/plain": [
       "True"
      ]
     },
     "execution_count": 48,
     "metadata": {},
     "output_type": "execute_result"
    }
   ],
   "source": [
    "solution(key, lock)"
   ]
  },
  {
   "cell_type": "code",
   "execution_count": 47,
   "metadata": {},
   "outputs": [],
   "source": [
    "def check(key, lock):\n",
    "    start_idx = 0 - len(key) + 1\n",
    "    end_idx = len(lock)\n",
    "    for i in range(start_idx, end_idx):\n",
    "        for j in range(start_idx, end_idx):\n",
    "            for x in range(len(key)):\n",
    "                for y in range(len(key)):\n",
    "                    if x+i < 0 or y+j < 0 or x+i >= len(key) or y+j >= len(key):\n",
    "                        pass\n",
    "                    else:\n",
    "                        if key[x+i][y+j] != lock[x][y]:\n",
    "                            return False\n",
    "                        \n",
    "            return True"
   ]
  }
 ],
 "metadata": {
  "kernelspec": {
   "display_name": "Python 3",
   "language": "python",
   "name": "python3"
  },
  "language_info": {
   "codemirror_mode": {
    "name": "ipython",
    "version": 3
   },
   "file_extension": ".py",
   "mimetype": "text/x-python",
   "name": "python",
   "nbconvert_exporter": "python",
   "pygments_lexer": "ipython3",
   "version": "3.7.3"
  }
 },
 "nbformat": 4,
 "nbformat_minor": 2
}

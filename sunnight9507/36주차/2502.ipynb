{
 "cells": [
  {
   "cell_type": "code",
   "execution_count": 45,
   "metadata": {},
   "outputs": [
    {
     "name": "stdout",
     "output_type": "stream",
     "text": [
      "6 41\n"
     ]
    }
   ],
   "source": [
    "D, K = list(map(int, input().split()))"
   ]
  },
  {
   "cell_type": "code",
   "execution_count": 46,
   "metadata": {},
   "outputs": [
    {
     "name": "stdout",
     "output_type": "stream",
     "text": [
      "2\n",
      "7\n"
     ]
    }
   ],
   "source": [
    "D_lst = [[0,0]]\n",
    "\n",
    "D_lst.append([1,0])\n",
    "D_lst.append([0,1])\n",
    "\n",
    "# lst 만들기\n",
    "for i in range(3,31):\n",
    "    D_lst.append([D_lst[i-1][0] + D_lst[i-2][0],D_lst[i-1][1] + D_lst[i-2][1]])\n",
    "\n",
    "A, B = D_lst[D]\n",
    "\n",
    "# 첫째날 갯수는 1부터 시작\n",
    "cnt_A = 1\n",
    "while(True):\n",
    "    # 둘째날 갯수가 int면 break\n",
    "    if (K - A * cnt_A) % B == 0:\n",
    "        break;\n",
    "    cnt_A += 1\n",
    "\n",
    "print(cnt_A)\n",
    "print((K - A * cnt_A ) // B)"
   ]
  }
 ],
 "metadata": {
  "kernelspec": {
   "display_name": "Python 3",
   "language": "python",
   "name": "python3"
  },
  "language_info": {
   "codemirror_mode": {
    "name": "ipython",
    "version": 3
   },
   "file_extension": ".py",
   "mimetype": "text/x-python",
   "name": "python",
   "nbconvert_exporter": "python",
   "pygments_lexer": "ipython3",
   "version": "3.7.3"
  }
 },
 "nbformat": 4,
 "nbformat_minor": 2
}

{
 "cells": [
  {
   "cell_type": "code",
   "execution_count": 19,
   "metadata": {},
   "outputs": [
    {
     "name": "stdout",
     "output_type": "stream",
     "text": [
      "2 3\n",
      "1 0 10\n"
     ]
    },
    {
     "data": {
      "text/plain": [
       "1"
      ]
     },
     "execution_count": 19,
     "metadata": {},
     "output_type": "execute_result"
    }
   ],
   "source": [
    "def func(lst):\n",
    "    \n",
    "    cnt = 0\n",
    "    \n",
    "    for i in range(0, len(lst)):\n",
    "        left_max = max(lst[:i+1])\n",
    "        right_max = max(lst[i:])\n",
    "        \n",
    "        if lst[i] >= min(left_max, right_max):\n",
    "            continue\n",
    "        else:\n",
    "            cnt += min(left_max, right_max) - lst[i]\n",
    "        \n",
    "    return cnt\n",
    "\n",
    "M = list(map(int, input().split()))\n",
    "\n",
    "lst = list(map(int, input().split()))\n",
    "\n",
    "func(lst)"
   ]
  }
 ],
 "metadata": {
  "kernelspec": {
   "display_name": "Python 3",
   "language": "python",
   "name": "python3"
  },
  "language_info": {
   "codemirror_mode": {
    "name": "ipython",
    "version": 3
   },
   "file_extension": ".py",
   "mimetype": "text/x-python",
   "name": "python",
   "nbconvert_exporter": "python",
   "pygments_lexer": "ipython3",
   "version": "3.7.3"
  }
 },
 "nbformat": 4,
 "nbformat_minor": 2
}

{
 "cells": [
  {
   "cell_type": "code",
   "execution_count": 2,
   "metadata": {},
   "outputs": [
    {
     "name": "stdout",
     "output_type": "stream",
     "text": [
      "7\n",
      "-10 -3\n",
      "-4 2\n",
      "-2 1\n",
      "1 4\n",
      "3 7\n",
      "6 8\n",
      "9 10\n",
      "4\n",
      "3 5\n",
      "2\n",
      "1 6\n",
      "4\n",
      "2 3\n",
      "1\n",
      "4 7\n",
      "-1\n"
     ]
    }
   ],
   "source": [
    "def func(lst, hash_lst):\n",
    "    \n",
    "    check = [0] * len(hash_lst)\n",
    "    \n",
    "    start = lst[0] - 1 \n",
    "    end = lst[1] - 1\n",
    "    \n",
    "    # print(start, end)\n",
    "    \n",
    "    cnt = 0\n",
    "    \n",
    "    queue = [start]\n",
    "    # print(queue)\n",
    "    while queue:\n",
    "        tmp_queue = []\n",
    "        for i in queue:\n",
    "            if check[i] == 0:\n",
    "                for j in hash_lst[i]:\n",
    "                    tmp_queue.append(j)               \n",
    "                check[i] = 1\n",
    "                \n",
    "        queue = tmp_queue.copy()\n",
    "        cnt += 1\n",
    "        # print(end, queue)\n",
    "        if end in queue:\n",
    "            return cnt\n",
    "    \n",
    "    return -1\n",
    "\n",
    "N = int(input())\n",
    "\n",
    "lst = []\n",
    "\n",
    "for i in range(N):\n",
    "    lst.append(list(map(int, input().split())))\n",
    "\n",
    "hash_lst = []\n",
    "\n",
    "\n",
    "# 시간 초과 이유...\n",
    "for i in range(N):\n",
    "    tmp = []\n",
    "    for j in range(N):\n",
    "        if i == j:\n",
    "            continue\n",
    "        if lst[i][0] <= lst[j][0] <= lst[i][1]:\n",
    "            tmp.append(j)\n",
    "        elif lst[i][0] <= lst[j][1] <= lst[i][1]:\n",
    "            tmp.append(j)\n",
    "        elif lst[j][0] <= lst[i][0] <= lst[j][1]:\n",
    "            tmp.append(j)\n",
    "    hash_lst.append(tmp)            \n",
    "\n",
    "# print(hash_lst)\n",
    "    \n",
    "M = int(input())\n",
    "\n",
    "for i in range(M):\n",
    "    print(func(list(map(int, input().split())), hash_lst))"
   ]
  },
  {
   "cell_type": "code",
   "execution_count": 68,
   "metadata": {},
   "outputs": [],
   "source": [
    "7\n",
    "-10 -3\n",
    "-4 2\n",
    "-2 1\n",
    "1 4\n",
    "3 7\n",
    "6 8\n",
    "9 10\n",
    "4\n",
    "3 5\n",
    "1 6\n",
    "2 3\n",
    "4 7"
   ]
  }
 ],
 "metadata": {
  "kernelspec": {
   "display_name": "Python 3",
   "language": "python",
   "name": "python3"
  },
  "language_info": {
   "codemirror_mode": {
    "name": "ipython",
    "version": 3
   },
   "file_extension": ".py",
   "mimetype": "text/x-python",
   "name": "python",
   "nbconvert_exporter": "python",
   "pygments_lexer": "ipython3",
   "version": "3.7.3"
  }
 },
 "nbformat": 4,
 "nbformat_minor": 2
}

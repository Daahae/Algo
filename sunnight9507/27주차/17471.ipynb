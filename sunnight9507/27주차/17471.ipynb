{
 "cells": [
  {
   "cell_type": "code",
   "execution_count": 28,
   "metadata": {},
   "outputs": [
    {
     "name": "stdout",
     "output_type": "stream",
     "text": [
      "6\n",
      "5 2 3 4 1 2\n",
      "2 2 4\n",
      "4 1 3 6 5\n",
      "2 4 2\n",
      "2 1 3\n",
      "1 2\n",
      "1 2\n"
     ]
    },
    {
     "data": {
      "text/plain": [
       "0"
      ]
     },
     "execution_count": 28,
     "metadata": {},
     "output_type": "execute_result"
    }
   ],
   "source": [
    "def func(lst, num_lst):\n",
    "    # 가능한 경우의 수 확인\n",
    "    \n",
    "    # \n",
    "    \n",
    "    # => 낮은 인구 수 계속 확장    \n",
    "    \n",
    "    return 0\n",
    "\n",
    "N = int(input())\n",
    "\n",
    "N_num = list(map(int, input().split()))\n",
    "\n",
    "lst = []\n",
    "\n",
    "for i in range(N):\n",
    "    tmp = list(map(int, input().split()))\n",
    "    if tmp:\n",
    "        lst.append(tmp[1:])\n",
    "    else:\n",
    "        lst.append([0])\n",
    "\n",
    "func(lst, N_num)"
   ]
  },
  {
   "cell_type": "code",
   "execution_count": 29,
   "metadata": {},
   "outputs": [
    {
     "data": {
      "text/plain": [
       "[[2, 4], [1, 3, 6, 5], [4, 2], [1, 3], [2], [2]]"
      ]
     },
     "execution_count": 29,
     "metadata": {},
     "output_type": "execute_result"
    }
   ],
   "source": [
    "lst"
   ]
  },
  {
   "cell_type": "code",
   "execution_count": 30,
   "metadata": {},
   "outputs": [
    {
     "data": {
      "text/plain": [
       "[5, 2, 3, 4, 1, 2]"
      ]
     },
     "execution_count": 30,
     "metadata": {},
     "output_type": "execute_result"
    }
   ],
   "source": [
    "N_num"
   ]
  }
 ],
 "metadata": {
  "kernelspec": {
   "display_name": "Python 3",
   "language": "python",
   "name": "python3"
  },
  "language_info": {
   "codemirror_mode": {
    "name": "ipython",
    "version": 3
   },
   "file_extension": ".py",
   "mimetype": "text/x-python",
   "name": "python",
   "nbconvert_exporter": "python",
   "pygments_lexer": "ipython3",
   "version": "3.7.3"
  }
 },
 "nbformat": 4,
 "nbformat_minor": 2
}

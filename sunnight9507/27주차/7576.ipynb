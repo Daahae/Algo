{
 "cells": [
  {
   "cell_type": "code",
   "execution_count": 73,
   "metadata": {},
   "outputs": [
    {
     "name": "stdout",
     "output_type": "stream",
     "text": [
      "6 4\n",
      "1 -1 0 0 0 0\n",
      "0 -1 0 0 0 0\n",
      "0 0 0 0 -1 0\n",
      "0 0 0 0 -1 1\n",
      "6\n"
     ]
    }
   ],
   "source": [
    "def func(lst, Queue):\n",
    "    \n",
    "    check = [[False] * len(lst[i]) for i in range(len(lst))]\n",
    "    \n",
    "    idx = [[0,1],[0,-1],[1,0],[-1,0]]\n",
    "    \n",
    "    cnt = 0 \n",
    "    \n",
    "    while Queue:\n",
    "        #print(cnt)\n",
    "        #print(Queue)\n",
    "        new_queue = []\n",
    "        # Queue : 익은 토마토의 인덱스\n",
    "        for queue in Queue:\n",
    "            x = queue[0]\n",
    "            y = queue[1]\n",
    "            check[x][y] = True\n",
    "\n",
    "            for i in idx:\n",
    "                n_x = x + i[0]\n",
    "                n_y = y + i[1]\n",
    "\n",
    "                if (0 <= n_x < len(lst) and 0 <= n_y < len(lst[0])):\n",
    "                    if lst[n_x][n_y] == 0 and check[n_x][n_y] == False:\n",
    "                        lst[n_x][n_y] = 1\n",
    "                        new_queue.append([n_x, n_y])\n",
    "\n",
    "                    check[n_x][n_y] = True\n",
    "        \n",
    "        # 새로 익은 토마토가 존재할 경우\n",
    "        if new_queue:\n",
    "            cnt += 1\n",
    "            Queue = new_queue.copy()\n",
    "        else:\n",
    "            break\n",
    "    \n",
    "    # 방문하지 않은 곳 -1\n",
    "    for i in check:\n",
    "        if False in i:\n",
    "            return -1\n",
    "    \n",
    "    return cnt\n",
    "\n",
    "M = list(map(int, input().split()))\n",
    "\n",
    "lst = []\n",
    "Queue = []\n",
    "\n",
    "for i in range(M[1]):\n",
    "    lst.append(list(map(int, input().split())))\n",
    "    \n",
    "for i in range(len(lst)):\n",
    "    for j in range(len(lst[i])):\n",
    "        if lst[i][j] == 1:\n",
    "            Queue.append([i,j])\n",
    "\n",
    "print(func(lst, Queue))"
   ]
  }
 ],
 "metadata": {
  "kernelspec": {
   "display_name": "Python 3",
   "language": "python",
   "name": "python3"
  },
  "language_info": {
   "codemirror_mode": {
    "name": "ipython",
    "version": 3
   },
   "file_extension": ".py",
   "mimetype": "text/x-python",
   "name": "python",
   "nbconvert_exporter": "python",
   "pygments_lexer": "ipython3",
   "version": "3.7.3"
  }
 },
 "nbformat": 4,
 "nbformat_minor": 2
}

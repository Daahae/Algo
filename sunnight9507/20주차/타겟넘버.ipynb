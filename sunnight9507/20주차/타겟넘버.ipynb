{
 "cells": [
  {
   "cell_type": "code",
   "execution_count": 15,
   "metadata": {},
   "outputs": [],
   "source": [
    "def solution(numbers, target):\n",
    "    cnt = 0\n",
    "\n",
    "    def operator(numbers, target, idx=0):\n",
    "        if idx < len(numbers):\n",
    "            numbers[idx] *= 1\n",
    "            operator(numbers, target, idx+1)\n",
    "\n",
    "            numbers[idx] *= -1\n",
    "            operator(numbers, target, idx+1)\n",
    "\n",
    "        elif sum(numbers) == target:\n",
    "            nonlocal cnt\n",
    "            cnt += 1\n",
    "\n",
    "    operator(numbers, target)\n",
    "\n",
    "    return cnt"
   ]
  },
  {
   "cell_type": "code",
   "execution_count": 11,
   "metadata": {},
   "outputs": [
    {
     "data": {
      "text/plain": [
       "5"
      ]
     },
     "execution_count": 11,
     "metadata": {},
     "output_type": "execute_result"
    }
   ],
   "source": [
    "solution([1, 1, 1, 1, 1],3)"
   ]
  }
 ],
 "metadata": {
  "kernelspec": {
   "display_name": "Python 3",
   "language": "python",
   "name": "python3"
  },
  "language_info": {
   "codemirror_mode": {
    "name": "ipython",
    "version": 3
   },
   "file_extension": ".py",
   "mimetype": "text/x-python",
   "name": "python",
   "nbconvert_exporter": "python",
   "pygments_lexer": "ipython3",
   "version": "3.7.4"
  }
 },
 "nbformat": 4,
 "nbformat_minor": 2
}

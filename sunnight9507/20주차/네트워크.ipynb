{
 "cells": [
  {
   "cell_type": "code",
   "execution_count": 116,
   "metadata": {},
   "outputs": [],
   "source": [
    "#### 50점\n",
    "\n",
    "def solution(tickets):    \n",
    "    \n",
    "    def route(tickets, start):\n",
    "        rt = []\n",
    "    \n",
    "        if len(tickets) == 1:\n",
    "            rt.append(tickets[0][0])\n",
    "            rt.append(tickets[0][1])\n",
    "            return rt\n",
    "        \n",
    "        rt.append(start[1])\n",
    "        \n",
    "        for i in tickets:\n",
    "            if start[1] in i[0]:\n",
    "                new_tickets = tickets.copy()\n",
    "                new_tickets.remove(i)\n",
    "                rt = rt + route(new_tickets, i)\n",
    "    \n",
    "        return rt\n",
    "    \n",
    "    answer = []\n",
    "    \n",
    "    for i in tickets:\n",
    "        if \"ICN\" in i[0]:\n",
    "            new_tickets = tickets.copy()\n",
    "            new_tickets.remove(i)\n",
    "            answer.append(route(new_tickets, i))\n",
    "            #print(answer)\n",
    "    \n",
    "    result = []\n",
    "    \n",
    "    for i in answer:\n",
    "        result.append([\"ICN\"] + i[:len(tickets)])\n",
    "      \n",
    "    #print(result)\n",
    "    \n",
    "    result.sort()\n",
    "    \n",
    "    #print(result)\n",
    "    \n",
    "    return result[0]"
   ]
  },
  {
   "cell_type": "code",
   "execution_count": 117,
   "metadata": {},
   "outputs": [
    {
     "data": {
      "text/plain": [
       "['ICN', 'ATL', 'ICN', 'SFO', 'ATL', 'SFO']"
      ]
     },
     "execution_count": 117,
     "metadata": {},
     "output_type": "execute_result"
    }
   ],
   "source": [
    "solution([[\"ICN\", \"SFO\"], [\"ICN\", \"ATL\"], [\"SFO\", \"ATL\"], [\"ATL\", \"ICN\"], [\"ATL\",\"SFO\"]])"
   ]
  },
  {
   "cell_type": "code",
   "execution_count": 118,
   "metadata": {},
   "outputs": [
    {
     "data": {
      "text/plain": [
       "['ICN', 'JFK', 'HND', 'IAD']"
      ]
     },
     "execution_count": 118,
     "metadata": {},
     "output_type": "execute_result"
    }
   ],
   "source": [
    "solution([[\"ICN\", \"JFK\"], [\"HND\", \"IAD\"], [\"JFK\", \"HND\"]])"
   ]
  }
 ],
 "metadata": {
  "kernelspec": {
   "display_name": "Python 3",
   "language": "python",
   "name": "python3"
  },
  "language_info": {
   "codemirror_mode": {
    "name": "ipython",
    "version": 3
   },
   "file_extension": ".py",
   "mimetype": "text/x-python",
   "name": "python",
   "nbconvert_exporter": "python",
   "pygments_lexer": "ipython3",
   "version": "3.7.4"
  }
 },
 "nbformat": 4,
 "nbformat_minor": 2
}

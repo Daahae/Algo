{
 "cells": [
  {
   "cell_type": "code",
   "execution_count": 10,
   "metadata": {},
   "outputs": [
    {
     "name": "stdout",
     "output_type": "stream",
     "text": [
      "1\n",
      "10 40 100 300\n",
      "0 0 2 9 1 5 0 0 0 0 0 0\n",
      "#1 110\n"
     ]
    }
   ],
   "source": [
    "def find_price(test_case, lst, month):\n",
    "    if month >= 12:\n",
    "        return 0\n",
    "    \n",
    "    # 1일 이용권\n",
    "    res1 = test_case[0]*lst[month] + find_price(test_case, lst, month + 1)\n",
    "    # 1달 이용권\n",
    "    res2 = test_case[1] + find_price(test_case, lst, month + 1)\n",
    "    # 3달 이용권\n",
    "    res3 = test_case[2] + find_price(test_case, lst, month + 3)\n",
    "    \n",
    "    return min(res1, res2, res3)\n",
    "\n",
    "if __name__ == \"__main__\":\n",
    "    len_test = int(input().strip())\n",
    "    for i in range(len_test):\n",
    "        test_case = list(map(int, input().strip().split()))\n",
    "        lst = list(map(int, input().strip().split()))\n",
    "        result = min(test_case[-1], find_price(test_case, lst,0))\n",
    "        print(\"#{} {}\".format(i+1, result))"
   ]
  }
 ],
 "metadata": {
  "kernelspec": {
   "display_name": "Python 3",
   "language": "python",
   "name": "python3"
  },
  "language_info": {
   "codemirror_mode": {
    "name": "ipython",
    "version": 3
   },
   "file_extension": ".py",
   "mimetype": "text/x-python",
   "name": "python",
   "nbconvert_exporter": "python",
   "pygments_lexer": "ipython3",
   "version": "3.7.3"
  }
 },
 "nbformat": 4,
 "nbformat_minor": 2
}

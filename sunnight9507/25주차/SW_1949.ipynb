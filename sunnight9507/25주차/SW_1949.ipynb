{
 "cells": [
  {
   "cell_type": "code",
   "execution_count": null,
   "metadata": {},
   "outputs": [],
   "source": [
    "# 50개 중 5개 정딥\n",
    "def find_route(lst, i, j, max_value, test_case):\n",
    "    \n",
    "    # list 인덱스 초과\n",
    "    if i < 0 or i == test_case[0] or j < 0 or j == test_case[0]:\n",
    "        return 0\n",
    "    \n",
    "    # 높이가 1일 때\n",
    "    if lst[i][j] == 1:\n",
    "        if test_case[1] and lst[i][j] - test_case[1] < max_value:\n",
    "            return 2\n",
    "        return 1\n",
    "        \n",
    "    # 이전 값보다 높을 경우\n",
    "    if max_value <= lst[i][j]: \n",
    "        # 깎을 수 없는 경우\n",
    "        if test_case[1] == 0:        \n",
    "            return 0\n",
    "        # 지형을 깎을 수 있는 경우\n",
    "        elif lst[i][j] - test_case[1] < max_value:\n",
    "            new_testcase = test_case.copy()\n",
    "            new_testcase[1] = 0\n",
    "            max_value -= 1\n",
    "            return 1 + max(find_route(lst, i+1, j, max_value, new_testcase), find_route(lst, i-1, j, max_value, new_testcase), find_route(lst, i, j+1, max_value, new_testcase), find_route(lst, i, j-1, max_value, new_testcase))        \n",
    "    else: \n",
    "        return 1 + max(find_route(lst, i+1, j, lst[i][j], test_case), find_route(lst, i-1, j, lst[i][j], test_case), find_route(lst, i, j+1, lst[i][j], test_case), find_route(lst, i, j-1, lst[i][j], test_case))\n",
    "\n",
    "def func(test_case, lst):\n",
    "    \n",
    "    max_value = max(max(lst))\n",
    "    max_lst = []\n",
    "    max_route = 0\n",
    "        \n",
    "    for i in range(test_case[0]):\n",
    "        for j in range(test_case[0]):\n",
    "            # max 값 부터 시작\n",
    "            if lst[i][j] == max_value:\n",
    "                route = find_route(lst, i, j, lst[i][j], test_case)\n",
    "                if route > max_route:\n",
    "                    max_route = route\n",
    "                    \n",
    "    return max_route\n",
    "    \n",
    "\n",
    "if __name__ == \"__main__\":\n",
    "    len_test = int(input().strip())\n",
    "    for i in range(len_test):\n",
    "        test_case = list(map(int, input().strip().split()))\n",
    "        lst = []        \n",
    "        for j in range(test_case[0]):\n",
    "            lst.append(list(map(int, input().strip().split())))\n",
    "        result = func(test_case, lst)\n",
    "        \n",
    "        print(\"#{} {}\".format(i+1, result))"
   ]
  }
 ],
 "metadata": {
  "kernelspec": {
   "display_name": "Python 3",
   "language": "python",
   "name": "python3"
  },
  "language_info": {
   "codemirror_mode": {
    "name": "ipython",
    "version": 3
   },
   "file_extension": ".py",
   "mimetype": "text/x-python",
   "name": "python",
   "nbconvert_exporter": "python",
   "pygments_lexer": "ipython3",
   "version": "3.7.3"
  }
 },
 "nbformat": 4,
 "nbformat_minor": 2
}

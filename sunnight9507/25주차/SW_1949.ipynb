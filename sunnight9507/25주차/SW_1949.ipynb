{
 "cells": [
  {
   "cell_type": "code",
   "execution_count": 11,
   "metadata": {},
   "outputs": [
    {
     "name": "stdout",
     "output_type": "stream",
     "text": [
      "1\n",
      "5 1\n",
      "9 3 2 3 2\n",
      "6 3 1 7 5\n",
      "3 4 8 9 9\n",
      "2 3 7 7 7\n",
      "7 6 5 5 8\n",
      "#1 6\n"
     ]
    }
   ],
   "source": [
    "def find_route(x,y,cnt,max_value,n,k):\n",
    "    \n",
    "    result = cnt\n",
    "    \n",
    "    lst_x = [1,0,0,-1]\n",
    "    lst_y = [0,1,-1,0]\n",
    "    \n",
    "    visited[x][y] = 1\n",
    "    for i in range(4):\n",
    "        new_x = x + lst_x[i]\n",
    "        new_y = y + lst_y[i]\n",
    "        # 인덱스 밖의 값들 또는 방문했던 곳\n",
    "        if new_x < 0 or new_y < 0 or new_x >= n or new_y >= n or visited[new_x][new_y] == 1:\n",
    "            continue\n",
    "        \n",
    "        # 깎지 않고 내려갈 수 있는 경우\n",
    "        if lst[new_x][new_y] < max_value and visited[new_x][new_y] == 0:\n",
    "            result = max(result, find_route(new_x, new_y, cnt+1, lst[new_x][new_y], n, k))\n",
    "        # 깎아야 내려갈 수 있는 경우\n",
    "        elif lst[new_x][new_y] >= max_value and visited[new_x][new_y] == 0 and lst[new_x][new_y] - k < max_value:\n",
    "            tmp = lst[new_x][new_y]\n",
    "            lst[new_x][new_y] = lst[x][y] - 1\n",
    "            result = max(result, find_route(new_x, new_y, cnt+1, lst[new_x][new_y], n, 0))\n",
    "            lst[new_x][new_y] = tmp\n",
    "        \n",
    "    visited[x][y] = 0\n",
    "\n",
    "    return result\n",
    "\n",
    "if __name__ == \"__main__\":\n",
    "    len_test = int(input().strip())\n",
    "    for idx in range(len_test):\n",
    "        test_case = list(map(int, input().strip().split()))\n",
    "        lst = []        \n",
    "        for j in range(test_case[0]):\n",
    "            lst.append(list(map(int, input().strip().split())))\n",
    "        \n",
    "        n = test_case[0]\n",
    "        max_lst = []\n",
    "        \n",
    "        # 높은 봉우리 확인\n",
    "        max_value = 0\n",
    "        for i in range(n):\n",
    "            for j in range(n):\n",
    "                max_value = max(max_value, lst[i][j])\n",
    "        \n",
    "        for x in range(n):\n",
    "            for y in range(n):\n",
    "                if lst[x][y] == max_value:\n",
    "                    max_lst.append([x,y])\n",
    "                    \n",
    "        visited = [[0]*test_case[0] for i in range(test_case[0])]\n",
    "        \n",
    "        res = 0\n",
    "        \n",
    "        for x,y in max_lst:\n",
    "            res = max(res,find_route(x,y,1,max_value,test_case[0],test_case[1]))\n",
    "            \n",
    "        print(\"#{} {}\".format(idx+1, res))"
   ]
  }
 ],
 "metadata": {
  "kernelspec": {
   "display_name": "Python 3",
   "language": "python",
   "name": "python3"
  },
  "language_info": {
   "codemirror_mode": {
    "name": "ipython",
    "version": 3
   },
   "file_extension": ".py",
   "mimetype": "text/x-python",
   "name": "python",
   "nbconvert_exporter": "python",
   "pygments_lexer": "ipython3",
   "version": "3.7.3"
  }
 },
 "nbformat": 4,
 "nbformat_minor": 2
}

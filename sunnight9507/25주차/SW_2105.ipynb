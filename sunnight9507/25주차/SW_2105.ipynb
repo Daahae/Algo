{
 "cells": [
  {
   "cell_type": "code",
   "execution_count": 33,
   "metadata": {},
   "outputs": [
    {
     "name": "stdout",
     "output_type": "stream",
     "text": [
      "1\n",
      "4\n",
      "9 8 9 8\n",
      "4 6 9 4\n",
      "8 7 7 8\n",
      "4 5 3 5\n",
      "#1 6\n"
     ]
    }
   ],
   "source": [
    "# 50개 중 48개 정답\n",
    "\n",
    "def dfs(lst,start, x, y, move_idx, tmp_lst, finish):\n",
    "    # 처음인 곳으로 왔을 때 왔던 카페의 합 return\n",
    "    if start == [x,y]:\n",
    "        return len(tmp_lst)\n",
    "    \n",
    "    # 인덱스 아웃\n",
    "    if x < 0 or y < 0 or x >= len(lst) or y >= len(lst):\n",
    "        return 0    \n",
    "    \n",
    "    # 같은 숫자 카페\n",
    "    if lst[x][y] in tmp_lst:\n",
    "        return 0\n",
    "    \n",
    "    tmp_lst.append(lst[x][y])\n",
    "    \n",
    "    mv_idx = [[-1,-1],[-1,1],[1,1],[1,-1]]\n",
    "    \n",
    "    idx = mv_idx.index(move_idx)\n",
    "    \n",
    "    # 3가지 방향 돌고 마지막 하나의 방향만 남았을 떄\n",
    "    if finish == 0:\n",
    "        return dfs(lst, start, x + mv_idx[idx][0], y + mv_idx[idx][1], mv_idx[idx], tmp_lst.copy(),0)\n",
    "    elif idx == 3:\n",
    "        return max(dfs(lst, start, x + mv_idx[idx][0], y + mv_idx[idx][1], mv_idx[idx], tmp_lst.copy(), 1),\n",
    "                   dfs(lst, start, x + mv_idx[(idx + 1)%4][0], y + mv_idx[(idx + 1)%4][1], mv_idx[(idx + 1)%4], tmp_lst.copy(), 0))\n",
    "    else:\n",
    "        return max(dfs(lst, start, x + mv_idx[idx][0], y + mv_idx[idx][1], mv_idx[idx], tmp_lst.copy(), 1),\n",
    "                   dfs(lst, start, x + mv_idx[(idx + 1)%4][0], y + mv_idx[(idx + 1)%4][1], mv_idx[(idx + 1)%4], tmp_lst.copy(), 1))\n",
    "\n",
    "if __name__ == \"__main__\":\n",
    "    len_test = int(input().strip())\n",
    "    for num in range(len_test):\n",
    "        test_shpe = int(input().strip())\n",
    "        lst = []\n",
    "        for i in range(test_shpe):\n",
    "            lst.append(list(map(int, input().strip().split())))\n",
    "        result = 0\n",
    "\n",
    "        for i in range(1, len(lst)):\n",
    "            for j in range(1, len(lst)):\n",
    "                if i != j:\n",
    "                    result = max(result, dfs(lst,[i,j], i-1, j-1, [-1, -1], [lst[i][j]], 1))\n",
    "        \n",
    "        print(\"#{} {}\".format(num+1, result if result else -1))"
   ]
  },
  {
   "cell_type": "code",
   "execution_count": 22,
   "metadata": {},
   "outputs": [
    {
     "data": {
      "text/html": [
       "<div>\n",
       "<style scoped>\n",
       "    .dataframe tbody tr th:only-of-type {\n",
       "        vertical-align: middle;\n",
       "    }\n",
       "\n",
       "    .dataframe tbody tr th {\n",
       "        vertical-align: top;\n",
       "    }\n",
       "\n",
       "    .dataframe thead th {\n",
       "        text-align: right;\n",
       "    }\n",
       "</style>\n",
       "<table border=\"1\" class=\"dataframe\">\n",
       "  <thead>\n",
       "    <tr style=\"text-align: right;\">\n",
       "      <th></th>\n",
       "      <th>0</th>\n",
       "      <th>1</th>\n",
       "      <th>2</th>\n",
       "      <th>3</th>\n",
       "    </tr>\n",
       "  </thead>\n",
       "  <tbody>\n",
       "    <tr>\n",
       "      <td>0</td>\n",
       "      <td>9</td>\n",
       "      <td>8</td>\n",
       "      <td>9</td>\n",
       "      <td>8</td>\n",
       "    </tr>\n",
       "    <tr>\n",
       "      <td>1</td>\n",
       "      <td>4</td>\n",
       "      <td>6</td>\n",
       "      <td>9</td>\n",
       "      <td>4</td>\n",
       "    </tr>\n",
       "    <tr>\n",
       "      <td>2</td>\n",
       "      <td>8</td>\n",
       "      <td>7</td>\n",
       "      <td>7</td>\n",
       "      <td>8</td>\n",
       "    </tr>\n",
       "    <tr>\n",
       "      <td>3</td>\n",
       "      <td>4</td>\n",
       "      <td>5</td>\n",
       "      <td>3</td>\n",
       "      <td>5</td>\n",
       "    </tr>\n",
       "  </tbody>\n",
       "</table>\n",
       "</div>"
      ],
      "text/plain": [
       "   0  1  2  3\n",
       "0  9  8  9  8\n",
       "1  4  6  9  4\n",
       "2  8  7  7  8\n",
       "3  4  5  3  5"
      ]
     },
     "execution_count": 22,
     "metadata": {},
     "output_type": "execute_result"
    }
   ],
   "source": [
    "import pandas as pd\n",
    "pd.DataFrame(lst)"
   ]
  }
 ],
 "metadata": {
  "kernelspec": {
   "display_name": "Python 3",
   "language": "python",
   "name": "python3"
  },
  "language_info": {
   "codemirror_mode": {
    "name": "ipython",
    "version": 3
   },
   "file_extension": ".py",
   "mimetype": "text/x-python",
   "name": "python",
   "nbconvert_exporter": "python",
   "pygments_lexer": "ipython3",
   "version": "3.7.4"
  }
 },
 "nbformat": 4,
 "nbformat_minor": 2
}

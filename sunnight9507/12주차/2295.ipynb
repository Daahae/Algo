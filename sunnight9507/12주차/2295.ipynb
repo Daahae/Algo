{
 "cells": [
  {
   "cell_type": "code",
   "execution_count": 46,
   "metadata": {},
   "outputs": [
    {
     "name": "stdout",
     "output_type": "stream",
     "text": [
      "5\n",
      "2\n",
      "3\n",
      "4\n",
      "10\n",
      "15\n",
      "15\n"
     ]
    }
   ],
   "source": [
    "N = int(input())\n",
    "\n",
    "list = []\n",
    "list_x_y = set([])\n",
    "list_x_y_z = set([])\n",
    "\n",
    "for i in range(N):\n",
    "    list.append(int(input()))\n",
    "\n",
    "for i in list:\n",
    "    for j in list:\n",
    "        list_x_y.add(i+j)\n",
    "    \n",
    "for i in list:\n",
    "    for j in list:\n",
    "        if j - i in list_x_y:\n",
    "            list_x_y_z.add(j)\n",
    "            \n",
    "print(max(list_x_y_z))"
   ]
  },
  {
   "cell_type": "code",
   "execution_count": 45,
   "metadata": {},
   "outputs": [
    {
     "data": {
      "text/plain": [
       "{10, 18}"
      ]
     },
     "execution_count": 45,
     "metadata": {},
     "output_type": "execute_result"
    }
   ],
   "source": [
    "list_x_y_z"
   ]
  },
  {
   "cell_type": "code",
   "execution_count": 43,
   "metadata": {},
   "outputs": [
    {
     "data": {
      "text/plain": [
       "True"
      ]
     },
     "execution_count": 43,
     "metadata": {},
     "output_type": "execute_result"
    }
   ],
   "source": []
  },
  {
   "cell_type": "code",
   "execution_count": 40,
   "metadata": {},
   "outputs": [
    {
     "name": "stdout",
     "output_type": "stream",
     "text": [
      "5\n",
      "2\n",
      "3\n",
      "5\n",
      "10\n",
      "18\n",
      "18\n"
     ]
    }
   ],
   "source": [
    "N = int(input())\n",
    "\n",
    "list = []\n",
    "list_x_y = set([])\n",
    "list_k = set([])\n",
    "\n",
    "for i in range(N):\n",
    "    list.append(int(input()))\n",
    "\n",
    "for i in list:\n",
    "    for j in list:\n",
    "        list_x_y.add(i+j)\n",
    "    \n",
    "\n",
    "def func(list_x_y, list):\n",
    "    for i in list_x_y:\n",
    "        for j in list:\n",
    "            for k in list:\n",
    "                if i == j-k:\n",
    "                    list_k.add(j)\n",
    "    \n",
    "    print(max(list_k))\n",
    "func(list_x_y, list)\n",
    "\n",
    "\n",
    "#print(max(set(list) & list_x_y_z))"
   ]
  },
  {
   "cell_type": "code",
   "execution_count": null,
   "metadata": {},
   "outputs": [],
   "source": []
  }
 ],
 "metadata": {
  "kernelspec": {
   "display_name": "Python 3",
   "language": "python",
   "name": "python3"
  },
  "language_info": {
   "codemirror_mode": {
    "name": "ipython",
    "version": 3
   },
   "file_extension": ".py",
   "mimetype": "text/x-python",
   "name": "python",
   "nbconvert_exporter": "python",
   "pygments_lexer": "ipython3",
   "version": "3.7.3"
  }
 },
 "nbformat": 4,
 "nbformat_minor": 2
}

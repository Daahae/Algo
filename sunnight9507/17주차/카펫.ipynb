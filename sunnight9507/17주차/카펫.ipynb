{
 "cells": [
  {
   "cell_type": "code",
   "execution_count": 19,
   "metadata": {},
   "outputs": [],
   "source": [
    "def solution(brown, red):\n",
    "    answer = []\n",
    "    \n",
    "    total = (red + brown)\n",
    "    \n",
    "    for i in range(1,int((red + brown)**0.5)+1):\n",
    "        if (total) % i == 0:\n",
    "            answer.append([int(total / i), i])\n",
    "    \n",
    "    #print(answer)\n",
    "    \n",
    "    for i in answer:\n",
    "        if red == (i[0]-2) * (i[1]-2):\n",
    "            return i"
   ]
  },
  {
   "cell_type": "code",
   "execution_count": 20,
   "metadata": {},
   "outputs": [
    {
     "name": "stdout",
     "output_type": "stream",
     "text": [
      "[[100, 1], [50, 2], [25, 4], [20, 5], [10, 10]]\n"
     ]
    },
    {
     "data": {
      "text/plain": [
       "[10, 10]"
      ]
     },
     "execution_count": 20,
     "metadata": {},
     "output_type": "execute_result"
    }
   ],
   "source": [
    "solution(36,64)"
   ]
  },
  {
   "cell_type": "code",
   "execution_count": null,
   "metadata": {},
   "outputs": [],
   "source": []
  }
 ],
 "metadata": {
  "kernelspec": {
   "display_name": "Python 3",
   "language": "python",
   "name": "python3"
  },
  "language_info": {
   "codemirror_mode": {
    "name": "ipython",
    "version": 3
   },
   "file_extension": ".py",
   "mimetype": "text/x-python",
   "name": "python",
   "nbconvert_exporter": "python",
   "pygments_lexer": "ipython3",
   "version": "3.7.3"
  }
 },
 "nbformat": 4,
 "nbformat_minor": 2
}

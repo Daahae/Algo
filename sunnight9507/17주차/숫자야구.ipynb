{
 "cells": [
  {
   "cell_type": "code",
   "execution_count": 40,
   "metadata": {},
   "outputs": [],
   "source": [
    "from itertools import permutations \n",
    "\n",
    "def solution(baseball):\n",
    "    \n",
    "    def find_strike_ball(a, b):\n",
    "        strike = 0\n",
    "        ball = 0\n",
    "        for i in range(0,3):\n",
    "            if a[i] == b[i]:\n",
    "                strike += 1\n",
    "            elif a[i] in b:\n",
    "                ball += 1\n",
    "        return [strike, ball]\n",
    "    \n",
    "    \n",
    "    answer = 0\n",
    "    \n",
    "    num = list(map(''.join, permutations([str(i) for i in range(1,10)], 3)))\n",
    "    \n",
    "    baseball.sort(key = lambda x : x[1], reverse = True)\n",
    "    \n",
    "    for i in baseball:\n",
    "        new_num = []\n",
    "        for j in num:\n",
    "            result = find_strike_ball(str(i[0]),str(j))\n",
    "            if i[1:] == result:\n",
    "                new_num.append(j)\n",
    "        num = new_num    \n",
    "    \n",
    "    return len(num)"
   ]
  },
  {
   "cell_type": "code",
   "execution_count": 41,
   "metadata": {},
   "outputs": [
    {
     "data": {
      "text/plain": [
       "2"
      ]
     },
     "execution_count": 41,
     "metadata": {},
     "output_type": "execute_result"
    }
   ],
   "source": [
    "solution([[123, 1, 1], [356, 1, 0], [327, 2, 0], [489, 0, 1]])"
   ]
  }
 ],
 "metadata": {
  "kernelspec": {
   "display_name": "Python 3",
   "language": "python",
   "name": "python3"
  },
  "language_info": {
   "codemirror_mode": {
    "name": "ipython",
    "version": 3
   },
   "file_extension": ".py",
   "mimetype": "text/x-python",
   "name": "python",
   "nbconvert_exporter": "python",
   "pygments_lexer": "ipython3",
   "version": "3.7.4"
  }
 },
 "nbformat": 4,
 "nbformat_minor": 2
}

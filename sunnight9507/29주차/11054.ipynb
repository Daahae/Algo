{
 "cells": [
  {
   "cell_type": "code",
   "execution_count": 12,
   "metadata": {},
   "outputs": [
    {
     "name": "stdout",
     "output_type": "stream",
     "text": [
      "[1, 2, 2, 1, 3, 3, 4, 5, 2, 1]\n",
      "[1, 5, 2, 1, 4, 3, 3, 3, 2, 1]\n"
     ]
    },
    {
     "data": {
      "text/plain": [
       "7"
      ]
     },
     "execution_count": 12,
     "metadata": {},
     "output_type": "execute_result"
    }
   ],
   "source": [
    "def func(lst, N):\n",
    "\n",
    "    up = [0 for i in range(N)]\n",
    "    down = [0 for i in range(N)]\n",
    "\n",
    "    max_len = 0\n",
    "\n",
    "    # 이전 값들 중 본인 보다 작은 값 더하기 1\n",
    "    for i in range(N):\n",
    "        for j in range(i):\n",
    "            # 이전 값들 중 현재 값보다 작은 값들 확인\n",
    "            if lst[i] > lst[j] and up[i] < up[j]:\n",
    "                up[i] = up[j]\n",
    "        up[i] += 1 \n",
    "\n",
    "    for i in range(N-1,-1,-1):\n",
    "        for j in range(N-1,i-1,-1):\n",
    "            if lst[i] > lst[j] and down[i] < down[j]:\n",
    "                down[i] = down[j]\n",
    "        down[i] += 1\n",
    "    \n",
    "    print(up)\n",
    "    print(down)\n",
    "    \n",
    "    max_len = 0\n",
    "    \n",
    "    for u,d in zip(up,down):\n",
    "        if max_len < u+d: max_len = u+d   \n",
    "    \n",
    "    return max_len - 1\n",
    "\n",
    "func(lst, N)"
   ]
  },
  {
   "cell_type": "code",
   "execution_count": 2,
   "metadata": {},
   "outputs": [
    {
     "name": "stdout",
     "output_type": "stream",
     "text": [
      "10\n",
      "1 5 2 1 4 3 4 5 2 1\n"
     ]
    },
    {
     "data": {
      "text/plain": [
       "5"
      ]
     },
     "execution_count": 2,
     "metadata": {},
     "output_type": "execute_result"
    }
   ],
   "source": [
    "N = int(input())\n",
    "lst = list(map(int, input().split()))"
   ]
  }
 ],
 "metadata": {
  "kernelspec": {
   "display_name": "Python 3",
   "language": "python",
   "name": "python3"
  },
  "language_info": {
   "codemirror_mode": {
    "name": "ipython",
    "version": 3
   },
   "file_extension": ".py",
   "mimetype": "text/x-python",
   "name": "python",
   "nbconvert_exporter": "python",
   "pygments_lexer": "ipython3",
   "version": "3.7.3"
  }
 },
 "nbformat": 4,
 "nbformat_minor": 2
}

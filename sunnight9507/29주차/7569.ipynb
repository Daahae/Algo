{
 "cells": [
  {
   "cell_type": "code",
   "execution_count": 217,
   "metadata": {},
   "outputs": [
    {
     "name": "stdout",
     "output_type": "stream",
     "text": [
      "5 3 2\n",
      "0 0 0 0 0\n",
      "0 0 0 0 0\n",
      "0 0 0 0 0\n",
      "0 0 0 0 0\n",
      "0 0 1 0 0\n",
      "0 0 0 0 0\n",
      "4\n"
     ]
    }
   ],
   "source": [
    "def func(lst, Queue, M):\n",
    "\n",
    "    idx = [[0,1,0],[0,-1,0],[1,0,0],[-1,0,0],[0,0,1],[0,0,-1]]\n",
    "    \n",
    "    cnt = 0 \n",
    "    \n",
    "    while Queue:\n",
    "        new_queue = []\n",
    "\n",
    "        for queue in Queue:\n",
    "            x = queue[0]\n",
    "            y = queue[1]\n",
    "            z = queue[2]\n",
    "            check[z][y][x] = 1\n",
    "\n",
    "            for i in idx:\n",
    "                n_x = x + i[0]\n",
    "                n_y = y + i[1]\n",
    "                n_z = z + i[2]\n",
    "\n",
    "                if ((0 <= n_x < M[0]) and (0 <= n_y < M[1]) and (0 <= n_z < M[2]) and (lst[n_z][n_y][n_x] == 0)):\n",
    "                    # print([n_x,n_y,n_z], lst[n_z][n_y][n_x], check[n_z][n_y][n_x])\n",
    "                    lst[n_z][n_y][n_x] = lst[z][y][x] + 1\n",
    "                    new_queue.append([n_x,n_y,n_z])\n",
    "        # print(check)\n",
    "        # print(new_queue)\n",
    "        # 새로 익은 토마토가 존재할 경우\n",
    "        if new_queue:\n",
    "            cnt += 1\n",
    "            Queue = new_queue.copy()\n",
    "        else:\n",
    "            break\n",
    "    \n",
    "    max_num = 0\n",
    "    \n",
    "    for i in lst:\n",
    "        for j in i:\n",
    "            if max_num < max(j): max_num = max(j)\n",
    "            if 0 in j:\n",
    "                return -1\n",
    "\n",
    "    return max_num - 1\n",
    "\n",
    "M = list(map(int, input().split()))\n",
    "\n",
    "lst = []\n",
    "Queue = []\n",
    "\n",
    "for i in range(M[2]):\n",
    "    tmp = []\n",
    "    for j in range(M[1]):\n",
    "        tmp.append(list(map(int, input().split())))\n",
    "    lst.append(tmp)\n",
    "\n",
    "# 1인 인덱스 Queue에 추가\n",
    "Queue = []\n",
    "for i in range(len(lst)):\n",
    "    for j in range(len(lst[i])):\n",
    "        for k in range(len(lst[i][j])):\n",
    "            if lst[i][j][k] == 1:\n",
    "                Queue.append([k,j,i])\n",
    "\n",
    "print(func(lst.copy(), Queue, M))"
   ]
  },
  {
   "cell_type": "code",
   "execution_count": 218,
   "metadata": {},
   "outputs": [
    {
     "name": "stdout",
     "output_type": "stream",
     "text": [
      "4 3 2\n",
      "1 1 1 1\n",
      "1 1 1 1\n",
      "1 1 1 1\n",
      "1 1 1 1\n",
      "-1 -1 -1 -1\n",
      "1 1 1 -1\n",
      "0\n"
     ]
    }
   ],
   "source": [
    "M = list(map(int, input().split()))\n",
    "\n",
    "lst = []\n",
    "Queue = []\n",
    "\n",
    "for i in range(M[2]):\n",
    "    tmp = []\n",
    "    for j in range(M[1]):\n",
    "        tmp.append(list(map(int, input().split())))\n",
    "    lst.append(tmp)\n",
    "\n",
    "# 1인 인덱스 Queue에 추가\n",
    "Queue = []\n",
    "for i in range(len(lst)):\n",
    "    for j in range(len(lst[i])):\n",
    "        for k in range(len(lst[i][j])):\n",
    "            if lst[i][j][k] == 1:\n",
    "                Queue.append([k,j,i])\n",
    "\n",
    "print(func(lst.copy(), Queue, M))"
   ]
  }
 ],
 "metadata": {
  "kernelspec": {
   "display_name": "Python 3",
   "language": "python",
   "name": "python3"
  },
  "language_info": {
   "codemirror_mode": {
    "name": "ipython",
    "version": 3
   },
   "file_extension": ".py",
   "mimetype": "text/x-python",
   "name": "python",
   "nbconvert_exporter": "python",
   "pygments_lexer": "ipython3",
   "version": "3.7.3"
  }
 },
 "nbformat": 4,
 "nbformat_minor": 2
}

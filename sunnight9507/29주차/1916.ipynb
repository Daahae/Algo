{
 "cells": [
  {
   "cell_type": "code",
   "execution_count": 22,
   "metadata": {
    "scrolled": true
   },
   "outputs": [
    {
     "name": "stdout",
     "output_type": "stream",
     "text": [
      "5\n",
      "8\n",
      "1 2 2\n",
      "1 3 3\n",
      "1 4 1\n",
      "1 5 10\n",
      "2 4 2\n",
      "3 4 1\n",
      "3 5 1\n",
      "4 5 3\n",
      "1 5\n",
      "4\n"
     ]
    }
   ],
   "source": [
    "import heapq\n",
    "\n",
    "# 다익스트라 알고리즘\n",
    "def func(Bus, Bus_N, start_station, end_station):\n",
    "    \n",
    "    queue = []\n",
    "    \n",
    "    Bus_sum = [1e9] * (Bus_N+1)\n",
    "    Bus_sum[start_station] = 0\n",
    "    heapq.heappush(queue, [start_station, 0])\n",
    "    \n",
    "    while queue:\n",
    "        start, tmp_time = heapq.heappop(queue)\n",
    "        \n",
    "        for end, time in Bus[start]:\n",
    "            if Bus_sum[end] > tmp_time + time: \n",
    "                Bus_sum[end] = tmp_time + time\n",
    "                heapq.heappush(queue, [end, tmp_time + time])\n",
    "\n",
    "    return Bus_sum[end_station]\n",
    "\n",
    "Bus_N = int(input())\n",
    "N = int(input())\n",
    "\n",
    "Bus = [[] for _ in range(Bus_N+1)]\n",
    "\n",
    "for _ in range(N):\n",
    "    a,b,c = list(map(int, input().split()))\n",
    "    Bus[a].append([b,c])\n",
    "        \n",
    "start_station, end_station = list(map(int, input().split()))\n",
    "\n",
    "print(func(Bus, Bus_N, start_station, end_station))"
   ]
  },
  {
   "cell_type": "code",
   "execution_count": 19,
   "metadata": {},
   "outputs": [
    {
     "name": "stdout",
     "output_type": "stream",
     "text": [
      "0\n"
     ]
    }
   ],
   "source": [
    "5\n",
    "8\n",
    "1 2 2\n",
    "1 3 3\n",
    "1 4 1\n",
    "1 5 10\n",
    "2 4 2\n",
    "3 4 1\n",
    "3 5 1\n",
    "4 5 3\n",
    "1 5\n",
    "4"
   ]
  },
  {
   "cell_type": "code",
   "execution_count": 21,
   "metadata": {},
   "outputs": [
    {
     "data": {
      "text/plain": [
       "[[],\n",
       " [[2, 2], [3, 3], [4, 1], [5, 10]],\n",
       " [[4, 2]],\n",
       " [[4, 1], [5, 1]],\n",
       " [[5, 3]],\n",
       " []]"
      ]
     },
     "execution_count": 21,
     "metadata": {},
     "output_type": "execute_result"
    }
   ],
   "source": [
    "Bus"
   ]
  }
 ],
 "metadata": {
  "kernelspec": {
   "display_name": "Python 3",
   "language": "python",
   "name": "python3"
  },
  "language_info": {
   "codemirror_mode": {
    "name": "ipython",
    "version": 3
   },
   "file_extension": ".py",
   "mimetype": "text/x-python",
   "name": "python",
   "nbconvert_exporter": "python",
   "pygments_lexer": "ipython3",
   "version": "3.7.3"
  }
 },
 "nbformat": 4,
 "nbformat_minor": 2
}

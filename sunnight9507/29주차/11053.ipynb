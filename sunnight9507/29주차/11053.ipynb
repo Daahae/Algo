{
 "cells": [
  {
   "cell_type": "code",
   "execution_count": 20,
   "metadata": {},
   "outputs": [
    {
     "name": "stdout",
     "output_type": "stream",
     "text": [
      "10\n",
      "1 5 2 1 4 3 4 5 2 1\n"
     ]
    },
    {
     "data": {
      "text/plain": [
       "5"
      ]
     },
     "execution_count": 20,
     "metadata": {},
     "output_type": "execute_result"
    }
   ],
   "source": [
    "def func(lst, N):\n",
    "\n",
    "    up = [0 for i in range(N)]\n",
    "    down = [0 for i in range(N)]\n",
    "\n",
    "    max_len = 0\n",
    "\n",
    "    # 이전 값들 중 본인 보다 작은 값 더하기 1\n",
    "    for i in range(N):\n",
    "        for j in range(i):\n",
    "            # 이전 값들 중 현재 값보다 작은 값들 확인\n",
    "            if lst[i] > lst[j] and up[i] < up[j]:\n",
    "                up[i] = up[j]\n",
    "        up[i] += 1 \n",
    "    \n",
    "    return max(up)\n",
    "\n",
    "\n",
    "N = int(input())\n",
    "lst = list(map(int, input().split()))\n",
    "\n",
    "func(lst, N)"
   ]
  }
 ],
 "metadata": {
  "kernelspec": {
   "display_name": "Python 3",
   "language": "python",
   "name": "python3"
  },
  "language_info": {
   "codemirror_mode": {
    "name": "ipython",
    "version": 3
   },
   "file_extension": ".py",
   "mimetype": "text/x-python",
   "name": "python",
   "nbconvert_exporter": "python",
   "pygments_lexer": "ipython3",
   "version": "3.7.3"
  }
 },
 "nbformat": 4,
 "nbformat_minor": 2
}

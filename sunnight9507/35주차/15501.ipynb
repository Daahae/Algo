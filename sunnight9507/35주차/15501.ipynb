{
 "cells": [
  {
   "cell_type": "code",
   "execution_count": 21,
   "metadata": {},
   "outputs": [
    {
     "name": "stdout",
     "output_type": "stream",
     "text": [
      "5\n",
      "1 2 3 4 5\n",
      "4 3 2 1 5\n"
     ]
    }
   ],
   "source": [
    "N = int(input())\n",
    "\n",
    "start = input().replace(' ','')\n",
    "end = input().replace(' ','')"
   ]
  },
  {
   "cell_type": "code",
   "execution_count": 33,
   "metadata": {},
   "outputs": [],
   "source": [
    "def func(N, start, end):\n",
    "    tmp = set([start])\n",
    "    lst = set([start])\n",
    "\n",
    "    for _ in range(N):\n",
    "        # print(lst)\n",
    "        if end in lst:\n",
    "            return 'good puzzle'\n",
    "        new_tmp = set([])\n",
    "\n",
    "        for i in tmp:\n",
    "            new_tmp.add(i[1:] + i[0])\n",
    "            new_tmp.add(i[::-1])\n",
    "            \n",
    "        tmp = new_tmp - lst    \n",
    "        \n",
    "        lst.update(tmp)\n",
    "\n",
    "    return 'bad puzzle'"
   ]
  },
  {
   "cell_type": "code",
   "execution_count": 35,
   "metadata": {},
   "outputs": [
    {
     "name": "stdout",
     "output_type": "stream",
     "text": [
      "{'12345'}\n",
      "{'54321', '12345', '23451'}\n",
      "{'12345', '15432', '23451', '54321', '43215', '34512'}\n",
      "good puzzle\n"
     ]
    }
   ],
   "source": [
    "print(func(N, start, end))"
   ]
  }
 ],
 "metadata": {
  "kernelspec": {
   "display_name": "Python 3",
   "language": "python",
   "name": "python3"
  },
  "language_info": {
   "codemirror_mode": {
    "name": "ipython",
    "version": 3
   },
   "file_extension": ".py",
   "mimetype": "text/x-python",
   "name": "python",
   "nbconvert_exporter": "python",
   "pygments_lexer": "ipython3",
   "version": "3.7.3"
  }
 },
 "nbformat": 4,
 "nbformat_minor": 2
}

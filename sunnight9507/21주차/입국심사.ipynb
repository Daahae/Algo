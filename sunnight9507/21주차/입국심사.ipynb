{
 "cells": [
  {
   "cell_type": "code",
   "execution_count": 3,
   "metadata": {},
   "outputs": [],
   "source": [
    "def solution(n, times):\n",
    "    \n",
    "    max_num = max(times)*n\n",
    "    answer = max_num\n",
    "    min_num = 0    \n",
    "    sum_n = 0\n",
    "    \n",
    "    while(max_num > min_num):\n",
    "        sum_n = 0\n",
    "        mid = (max_num + min_num) // 2\n",
    "        print(max_num, mid, min_num)\n",
    "        for i in times:\n",
    "            sum_n += (mid // i)\n",
    "                 \n",
    "        if sum_n >= n:\n",
    "            max_num = mid \n",
    "        elif sum_n < n:\n",
    "            min_num = mid + 1\n",
    "    \n",
    "    return min_num"
   ]
  },
  {
   "cell_type": "code",
   "execution_count": 4,
   "metadata": {},
   "outputs": [
    {
     "name": "stdout",
     "output_type": "stream",
     "text": [
      "60 30 0\n",
      "30 15 0\n",
      "30 23 16\n",
      "30 27 24\n",
      "30 29 28\n",
      "29 28 28\n"
     ]
    },
    {
     "data": {
      "text/plain": [
       "28"
      ]
     },
     "execution_count": 4,
     "metadata": {},
     "output_type": "execute_result"
    }
   ],
   "source": [
    "solution(6,[7, 10])"
   ]
  }
 ],
 "metadata": {
  "kernelspec": {
   "display_name": "Python 3",
   "language": "python",
   "name": "python3"
  },
  "language_info": {
   "codemirror_mode": {
    "name": "ipython",
    "version": 3
   },
   "file_extension": ".py",
   "mimetype": "text/x-python",
   "name": "python",
   "nbconvert_exporter": "python",
   "pygments_lexer": "ipython3",
   "version": "3.7.4"
  }
 },
 "nbformat": 4,
 "nbformat_minor": 2
}

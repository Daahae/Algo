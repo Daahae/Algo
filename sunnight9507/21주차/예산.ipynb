{
 "cells": [
  {
   "cell_type": "code",
   "execution_count": 27,
   "metadata": {},
   "outputs": [],
   "source": [
    "def solution(budgets, M):\n",
    "    \n",
    "    budgets.sort()\n",
    "    \n",
    "    len_budgets = len(budgets)\n",
    "    \n",
    "    sum_budgets = 0\n",
    "    \n",
    "    answer = 0\n",
    "    \n",
    "    if sum(budgets) < M:\n",
    "        return budgets[-1]\n",
    "    \n",
    "    for budget in budgets:\n",
    "        if sum_budgets + (len_budgets * budget) <= M:\n",
    "            sum_budgets += budget\n",
    "            len_budgets -= 1\n",
    "        \n",
    "        else:\n",
    "            answer = (M - sum_budgets) // len_budgets\n",
    "\n",
    "    return answer"
   ]
  },
  {
   "cell_type": "code",
   "execution_count": 28,
   "metadata": {},
   "outputs": [
    {
     "data": {
      "text/plain": [
       "10"
      ]
     },
     "execution_count": 28,
     "metadata": {},
     "output_type": "execute_result"
    }
   ],
   "source": [
    "solution([1,2,3,4,5,6,7,8,9,10], 56)"
   ]
  }
 ],
 "metadata": {
  "kernelspec": {
   "display_name": "Python 3",
   "language": "python",
   "name": "python3"
  },
  "language_info": {
   "codemirror_mode": {
    "name": "ipython",
    "version": 3
   },
   "file_extension": ".py",
   "mimetype": "text/x-python",
   "name": "python",
   "nbconvert_exporter": "python",
   "pygments_lexer": "ipython3",
   "version": "3.7.4"
  }
 },
 "nbformat": 4,
 "nbformat_minor": 2
}

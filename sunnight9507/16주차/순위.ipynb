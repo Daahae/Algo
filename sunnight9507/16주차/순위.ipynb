{
 "cells": [
  {
   "cell_type": "code",
   "execution_count": 23,
   "metadata": {},
   "outputs": [],
   "source": [
    "def solution(n, results):\n",
    "    answer=0\n",
    "    win={}\n",
    "    lose={}\n",
    "    \n",
    "    for i in range(1,n+1):\n",
    "        win[i]=set()\n",
    "        lose[i]=set()    \n",
    "    results.sort()\n",
    "   \n",
    "    for i in range(1,n+1):\n",
    "        for result in results:\n",
    "            if result[0]==i:\n",
    "                win[i].add(result[1])\n",
    "            if result[1]==i:\n",
    "                lose[i].add(result[0])        \n",
    "                \n",
    "        for j in win[i]:\n",
    "            lose[j].update(lose[i])\n",
    "        for j in lose[i]:\n",
    "            win[j].update(win[i])\n",
    "    \n",
    "    for i in range(1,n+1):\n",
    "        if len(win[i])+len(lose[i])==n-1:\n",
    "            answer+=1\n",
    "    return answer"
   ]
  },
  {
   "cell_type": "code",
   "execution_count": 24,
   "metadata": {},
   "outputs": [
    {
     "data": {
      "text/plain": [
       "2"
      ]
     },
     "execution_count": 24,
     "metadata": {},
     "output_type": "execute_result"
    }
   ],
   "source": [
    "solution(5,[[4, 3], [4, 2], [3, 2], [1, 2], [2, 5]])"
   ]
  }
 ],
 "metadata": {
  "kernelspec": {
   "display_name": "Python 3",
   "language": "python",
   "name": "python3"
  },
  "language_info": {
   "codemirror_mode": {
    "name": "ipython",
    "version": 3
   },
   "file_extension": ".py",
   "mimetype": "text/x-python",
   "name": "python",
   "nbconvert_exporter": "python",
   "pygments_lexer": "ipython3",
   "version": "3.7.4"
  }
 },
 "nbformat": 4,
 "nbformat_minor": 2
}

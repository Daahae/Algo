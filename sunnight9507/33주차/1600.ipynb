{
 "cells": [
  {
   "cell_type": "markdown",
   "metadata": {},
   "source": [
    "1\n",
    "4 4\n",
    "0 0 0 0\n",
    "1 0 0 0\n",
    "0 0 1 0\n",
    "0 1 0 0"
   ]
  },
  {
   "cell_type": "code",
   "execution_count": 1,
   "metadata": {},
   "outputs": [
    {
     "name": "stdout",
     "output_type": "stream",
     "text": [
      "1\n",
      "4 4\n",
      "0 0 0 0\n",
      "1 0 0 0\n",
      "0 0 1 0\n",
      "0 1 0 0 \n"
     ]
    }
   ],
   "source": [
    "K = int(input())\n",
    "W, H = list(map(int, input().split()))\n",
    "lst = []\n",
    "for i in range(W):\n",
    "    lst.append(list(map(int, input().split())))"
   ]
  },
  {
   "cell_type": "code",
   "execution_count": 14,
   "metadata": {},
   "outputs": [
    {
     "name": "stdout",
     "output_type": "stream",
     "text": [
      "2\n",
      "1\n",
      "1\n",
      "2\n",
      "4\n",
      "5\n",
      "4\n",
      "5\n"
     ]
    }
   ],
   "source": [
    "end = [[H-1,W-1]]\n",
    "horse_move = [[-1,-2],[-2,-1],[-2,1],[-1,2],[1,-2],[2,-1],[1,2],[2,1]]\n",
    "tmp_ends = end\n",
    "for _ in range(K):\n",
    "    new_ends = []\n",
    "    for tmp_end in tmp_ends:\n",
    "        for tmp_horse_move in horse_move:\n",
    "            # print((tmp_end[0] + tmp_horse_move[0]))\n",
    "            if (tmp_end[0] + tmp_horse_move[0]) < 0 or (tmp_end[0] + tmp_horse_move[0]) >= H:\n",
    "                pass\n",
    "            elif tmp_end[1] + tmp_horse_move[1] < 0 or tmp_end[1] + tmp_horse_move[1] >= W:\n",
    "                pass\n",
    "            elif lst[tmp_end[0] + tmp_horse_move[0]][tmp_end[1] + tmp_horse_move[1]] == 1:\n",
    "                pass\n",
    "            else:\n",
    "                new_ends.append([tmp_end[0] + tmp_horse_move[0], tmp_end[1] + tmp_horse_move[1]])\n",
    "    \n",
    "    tmp_ends = new_ends"
   ]
  },
  {
   "cell_type": "code",
   "execution_count": 15,
   "metadata": {},
   "outputs": [
    {
     "data": {
      "text/plain": [
       "[[2, 1], [1, 2]]"
      ]
     },
     "execution_count": 15,
     "metadata": {},
     "output_type": "execute_result"
    }
   ],
   "source": [
    "tmp_ends"
   ]
  },
  {
   "cell_type": "markdown",
   "metadata": {},
   "source": [
    "- start 위치에서 tmp_ends 갈 수 있는지 확인 & 거리 확인 후 가장 짧은 거리 반환"
   ]
  }
 ],
 "metadata": {
  "kernelspec": {
   "display_name": "Python 3",
   "language": "python",
   "name": "python3"
  },
  "language_info": {
   "codemirror_mode": {
    "name": "ipython",
    "version": 3
   },
   "file_extension": ".py",
   "mimetype": "text/x-python",
   "name": "python",
   "nbconvert_exporter": "python",
   "pygments_lexer": "ipython3",
   "version": "3.7.3"
  }
 },
 "nbformat": 4,
 "nbformat_minor": 2
}

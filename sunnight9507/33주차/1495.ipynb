{
 "cells": [
  {
   "cell_type": "code",
   "execution_count": 1,
   "metadata": {},
   "outputs": [
    {
     "name": "stdout",
     "output_type": "stream",
     "text": [
      "3 5 10\n"
     ]
    }
   ],
   "source": [
    "N, S, M = list(map(int, input().split()))\n",
    "\n",
    "lst = list(map(int, input().split()))"
   ]
  },
  {
   "cell_type": "code",
   "execution_count": 14,
   "metadata": {},
   "outputs": [],
   "source": [
    "volumn = [0] * (M+1)\n",
    "\n",
    "volumn[S] = 1\n",
    "\n",
    "for i in lst:\n",
    "    new_volumn = [0] * (M+1)\n",
    "    for j in range(M+1):\n",
    "        if volumn[j] == 1:\n",
    "            if (j-i) >= 0:\n",
    "                new_volumn[j-i] = 1\n",
    "            if (j+i) <= M:\n",
    "                new_volumn[j+i] = 1\n",
    "    volumn = new_volumn"
   ]
  },
  {
   "cell_type": "code",
   "execution_count": 25,
   "metadata": {},
   "outputs": [
    {
     "name": "stdout",
     "output_type": "stream",
     "text": [
      "10\n"
     ]
    }
   ],
   "source": [
    "if sum(volumn) == 0:\n",
    "    print(-1)\n",
    "else:\n",
    "    for i in range(M,-1,-1):\n",
    "        if volumn[i] == 1:\n",
    "            print(i)\n",
    "            break"
   ]
  }
 ],
 "metadata": {
  "kernelspec": {
   "display_name": "Python 3",
   "language": "python",
   "name": "python3"
  },
  "language_info": {
   "codemirror_mode": {
    "name": "ipython",
    "version": 3
   },
   "file_extension": ".py",
   "mimetype": "text/x-python",
   "name": "python",
   "nbconvert_exporter": "python",
   "pygments_lexer": "ipython3",
   "version": "3.7.3"
  }
 },
 "nbformat": 4,
 "nbformat_minor": 2
}

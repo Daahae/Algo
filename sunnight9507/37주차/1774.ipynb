{
 "cells": [
  {
   "cell_type": "code",
   "execution_count": 1,
   "metadata": {},
   "outputs": [
    {
     "name": "stdout",
     "output_type": "stream",
     "text": [
      "4 1\n",
      "1 1\n",
      "3 1\n",
      "2 3\n",
      "4 3\n",
      "1 4\n"
     ]
    }
   ],
   "source": [
    "N, M = list(map(int, input().split()))\n",
    "\n",
    "N_lst = []\n",
    "for _ in range(N):\n",
    "    N_lst.append(list(map(int, input().split())))\n",
    "\n",
    "M_lst = []\n",
    "for _ in range(M):\n",
    "    M_lst.append(list(map(int, input().split())))"
   ]
  },
  {
   "cell_type": "code",
   "execution_count": 2,
   "metadata": {},
   "outputs": [
    {
     "data": {
      "text/plain": [
       "[[1, 1], [3, 1], [2, 3], [4, 3]]"
      ]
     },
     "execution_count": 2,
     "metadata": {},
     "output_type": "execute_result"
    }
   ],
   "source": [
    "N_lst"
   ]
  },
  {
   "cell_type": "code",
   "execution_count": 3,
   "metadata": {},
   "outputs": [
    {
     "data": {
      "text/plain": [
       "[[1, 4]]"
      ]
     },
     "execution_count": 3,
     "metadata": {},
     "output_type": "execute_result"
    }
   ],
   "source": [
    "M_lst"
   ]
  },
  {
   "cell_type": "code",
   "execution_count": 26,
   "metadata": {},
   "outputs": [],
   "source": [
    "lst = []\n",
    "\n",
    "# 각 간선들의 거리 구하기\n",
    "def calc(a, b):\n",
    "    return (((a[0] - b[0]) ** 2) + ((a[1] - b[1]) ** 2)) ** 0.5\n",
    "\n",
    "\n",
    "for i in range(len(N_lst)):\n",
    "    for j in range(i+1, len(N_lst)):\n",
    "        lst.append([i+1,j+1,calc(N_lst[i], N_lst[j])])\n",
    "\n",
    "# 거리 기준으로 정렬\n",
    "lst = sorted(lst, key = lambda x : x[2])\n",
    "\n",
    "# 가장 짧은 간선들부터 M_lst에 추가\n",
    "# 거리 누적 합하기"
   ]
  },
  {
   "cell_type": "code",
   "execution_count": 27,
   "metadata": {},
   "outputs": [
    {
     "data": {
      "text/plain": [
       "[[1, 2, 2.0],\n",
       " [3, 4, 2.0],\n",
       " [1, 3, 2.23606797749979],\n",
       " [2, 3, 2.23606797749979],\n",
       " [2, 4, 2.23606797749979],\n",
       " [1, 4, 3.605551275463989]]"
      ]
     },
     "execution_count": 27,
     "metadata": {},
     "output_type": "execute_result"
    }
   ],
   "source": [
    "lst"
   ]
  }
 ],
 "metadata": {
  "kernelspec": {
   "display_name": "Python 3",
   "language": "python",
   "name": "python3"
  },
  "language_info": {
   "codemirror_mode": {
    "name": "ipython",
    "version": 3
   },
   "file_extension": ".py",
   "mimetype": "text/x-python",
   "name": "python",
   "nbconvert_exporter": "python",
   "pygments_lexer": "ipython3",
   "version": "3.7.3"
  }
 },
 "nbformat": 4,
 "nbformat_minor": 2
}

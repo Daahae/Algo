{
 "cells": [
  {
   "cell_type": "code",
   "execution_count": 29,
   "metadata": {},
   "outputs": [],
   "source": [
    "def sol(numbers):\n",
    "    numbers = list(map(str, numbers))\n",
    "    \n",
    "    numbers = sorted(numbers)\n",
    "    \n",
    "    temp = ''\n",
    "    \n",
    "    print(numbers)\n",
    "    \n",
    "    for i in range(0,len(numbers)):\n",
    "        for j in range(i,len(numbers)):\n",
    "            if numbers[i] + numbers[j] > numbers[j] + numbers[i]:\n",
    "                continue\n",
    "            else:\n",
    "                temp = numbers[i]\n",
    "                numbers[i] = numbers[j]\n",
    "                numbers[j] = temp\n",
    "            \n",
    "    # 두 개 비교 \n",
    "    # 자릿수 하나씩 비교 \n",
    "    \n",
    "    ### **하나가 클때 남은 숫자들을 작은 숫자와 비교**\n",
    "\n",
    "    answer = ''\n",
    "    for i in numbers:\n",
    "        answer += i    \n",
    "    return answer"
   ]
  },
  {
   "cell_type": "code",
   "execution_count": 5,
   "metadata": {},
   "outputs": [
    {
     "name": "stdout",
     "output_type": "stream",
     "text": [
      "['3', '30', '34', '5', '9']\n"
     ]
    },
    {
     "data": {
      "text/plain": [
       "'9534330'"
      ]
     },
     "execution_count": 5,
     "metadata": {},
     "output_type": "execute_result"
    }
   ],
   "source": [
    "a = [3, 30, 34, 5, 9]\n",
    "\n",
    "solution(a)"
   ]
  },
  {
   "cell_type": "code",
   "execution_count": 20,
   "metadata": {},
   "outputs": [
    {
     "data": {
      "text/plain": [
       "True"
      ]
     },
     "execution_count": 20,
     "metadata": {},
     "output_type": "execute_result"
    }
   ],
   "source": [
    "'7' > '55'"
   ]
  },
  {
   "cell_type": "code",
   "execution_count": 79,
   "metadata": {},
   "outputs": [],
   "source": [
    "def compare(a, b):\n",
    "    if len(a) == len(b):\n",
    "        if a > b: return True\n",
    "        else: return False\n",
    "    elif len(a) > len(b):\n",
    "        if a[:len(b)] == b:\n",
    "            if compare(a[len(b):],b): return True\n",
    "            else: return False\n",
    "        else:\n",
    "            if a[:len(b)] > b: return True\n",
    "            else: return False\n",
    "    else:\n",
    "        if a == b[:len(a)]:\n",
    "            if compare(a,b[len(a):]): return True\n",
    "            else: return False\n",
    "        else:\n",
    "            if a[:len(b)] > b: return True\n",
    "            else: return False\n",
    "\n",
    "def int_to_str(numbers):\n",
    "    numbers = list(map(str, numbers))\n",
    "    \n",
    "    answer = ''\n",
    "    \n",
    "    if len(numbers) < 1:\n",
    "        return ''\n",
    "    elif len(numbers) == 1:\n",
    "        return numbers[0]\n",
    "    else:\n",
    "        left_lst = []\n",
    "        right_lst = []\n",
    "        num = numbers[0]\n",
    "        for i in range(1, len(numbers)):\n",
    "            if compare(num, numbers[i]):\n",
    "                left_lst.append(numbers[i])\n",
    "            else:\n",
    "                right_lst.append(numbers[i])\n",
    "        answer = int_to_str(right_lst) + num + int_to_str(left_lst)\n",
    "    \n",
    "    return answer\n",
    "            \n",
    "def solution(numbers):\n",
    "    \n",
    "    if sum(numbers) == 0: return 0\n",
    "    else: return int_to_str(numbers)"
   ]
  },
  {
   "cell_type": "code",
   "execution_count": 80,
   "metadata": {},
   "outputs": [
    {
     "data": {
      "text/plain": [
       "0"
      ]
     },
     "execution_count": 80,
     "metadata": {},
     "output_type": "execute_result"
    }
   ],
   "source": [
    "a = [0,0,0,0]\n",
    "# [12, 121]\t12121\n",
    "# [21, 212]\n",
    "\n",
    "solution(a)"
   ]
  },
  {
   "cell_type": "code",
   "execution_count": 66,
   "metadata": {},
   "outputs": [
    {
     "data": {
      "text/plain": [
       "1110000"
      ]
     },
     "execution_count": 66,
     "metadata": {},
     "output_type": "execute_result"
    }
   ],
   "source": [
    "int('1110000')"
   ]
  }
 ],
 "metadata": {
  "kernelspec": {
   "display_name": "Python 3",
   "language": "python",
   "name": "python3"
  },
  "language_info": {
   "codemirror_mode": {
    "name": "ipython",
    "version": 3
   },
   "file_extension": ".py",
   "mimetype": "text/x-python",
   "name": "python",
   "nbconvert_exporter": "python",
   "pygments_lexer": "ipython3",
   "version": "3.7.3"
  }
 },
 "nbformat": 4,
 "nbformat_minor": 2
}

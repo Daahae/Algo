{
 "cells": [
  {
   "cell_type": "code",
   "execution_count": 2,
   "metadata": {},
   "outputs": [
    {
     "name": "stdout",
     "output_type": "stream",
     "text": [
      "1\n",
      "1 2 0 0 0\n",
      "2 1 1 1 2\n",
      "1 1 1 1 1\n",
      "0 0 0 0 0\n",
      "2 1 2 1 2\n",
      "#1 5\n"
     ]
    }
   ],
   "source": [
    "def func(lst, N):\n",
    "    \n",
    "    result = 0\n",
    "    \n",
    "    # 1 : N\n",
    "    # 2 : S\n",
    "    check = 0\n",
    "    \n",
    "    # N극 다음으로 S극 있으면 count\n",
    "    for i in range(N):\n",
    "        check = 0\n",
    "        for j in range(N):\n",
    "            if lst[j][i] == 1 and check == 0:\n",
    "                check = 1\n",
    "            elif lst[j][i] == 2 and check == 1:\n",
    "                check = 0\n",
    "                result += 1\n",
    "                \n",
    "    return result\n",
    "\n",
    "if __name__ == \"__main__\":\n",
    "    for j in range(10):\n",
    "        len_test = int(input().strip())\n",
    "        lst = []\n",
    "        for i in range(100):\n",
    "            lst.append(list(map(int, input().strip().split())))\n",
    "        result = func(lst, 100)\n",
    "    print(\"#{} {}\".format(j+1, result))"
   ]
  }
 ],
 "metadata": {
  "kernelspec": {
   "display_name": "Python 3",
   "language": "python",
   "name": "python3"
  },
  "language_info": {
   "codemirror_mode": {
    "name": "ipython",
    "version": 3
   },
   "file_extension": ".py",
   "mimetype": "text/x-python",
   "name": "python",
   "nbconvert_exporter": "python",
   "pygments_lexer": "ipython3",
   "version": "3.7.3"
  }
 },
 "nbformat": 4,
 "nbformat_minor": 2
}

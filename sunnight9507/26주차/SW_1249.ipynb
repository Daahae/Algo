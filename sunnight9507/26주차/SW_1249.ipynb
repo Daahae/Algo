{
 "cells": [
  {
   "cell_type": "code",
   "execution_count": 29,
   "metadata": {},
   "outputs": [],
   "source": [
    "# Bottom up\n",
    "def func(lst, i, j):\n",
    "    if (i > len(lst)-1) or (j > len(lst)-1):\n",
    "        return 0\n",
    "    \n",
    "    elif (i == len(lst)-1) and (j == len(lst)-1):\n",
    "        return 0\n",
    "    \n",
    "    elif (i == len(lst)-1):\n",
    "        return sum(lst[i][j:])\n",
    "    \n",
    "    elif (j == len(lst)-1):\n",
    "        return sum([lst[k][j] for k in range(i,len(lst))])\n",
    "    \n",
    "    else:\n",
    "        return lst[i][j] + min(func(lst,i+1,j), func(lst,i,j+1))\n",
    "\n",
    "if __name__ == \"__main__\":\n",
    "    len_test = int(input().strip())\n",
    "    for i in range(len_test):\n",
    "        test_len = int(input().strip())\n",
    "        lst = []\n",
    "        for j in range(test_len):\n",
    "            lst.append(list(map(int, list(input()))))\n",
    "        if len(lst) == 1:\n",
    "            result = 1\n",
    "        else:\n",
    "            result = min(func(lst,1,0), func(lst,0,1)) + lst[0][0]\n",
    "        print(\"#{} {}\".format(i+1, result))"
   ]
  },
  {
   "cell_type": "code",
   "execution_count": 62,
   "metadata": {},
   "outputs": [
    {
     "name": "stdout",
     "output_type": "stream",
     "text": [
      "1\n",
      "4\n",
      "0100\n",
      "1110\n",
      "1011\n",
      "1010\n",
      "#1 2\n"
     ]
    }
   ],
   "source": [
    "# Top down\n",
    "def func(lst, i, j):\n",
    "    if i <= 0 and j <= 0:\n",
    "        return 0\n",
    "    \n",
    "    if i == 0:\n",
    "        return lst[i][j] + func(lst, i, j-1)\n",
    "    \n",
    "    if j == 0:\n",
    "        return lst[i][j] + func(lst, i-1, j)\n",
    "    \n",
    "    return lst[i][j] + min(func(lst, i-1, j), func(lst, i, j-1))\n",
    "\n",
    "if __name__ == \"__main__\":\n",
    "    len_test = int(input().strip())\n",
    "    for i in range(len_test):\n",
    "        test_len = int(input().strip())\n",
    "        lst = []\n",
    "        for j in range(test_len):\n",
    "            lst.append(list(map(int, list(input()))))\n",
    "        if len(lst) == 1:\n",
    "            result = 1\n",
    "        else:\n",
    "            result = func(lst, len(lst)-1, len(lst)-1)\n",
    "        print(\"#{} {}\".format(i+1, result))"
   ]
  }
 ],
 "metadata": {
  "kernelspec": {
   "display_name": "Python 3",
   "language": "python",
   "name": "python3"
  },
  "language_info": {
   "codemirror_mode": {
    "name": "ipython",
    "version": 3
   },
   "file_extension": ".py",
   "mimetype": "text/x-python",
   "name": "python",
   "nbconvert_exporter": "python",
   "pygments_lexer": "ipython3",
   "version": "3.7.3"
  }
 },
 "nbformat": 4,
 "nbformat_minor": 2
}

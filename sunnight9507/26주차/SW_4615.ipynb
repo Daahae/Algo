{
 "cells": [
  {
   "cell_type": "code",
   "execution_count": 10,
   "metadata": {},
   "outputs": [
    {
     "name": "stdout",
     "output_type": "stream",
     "text": [
      "1\n",
      "10 40 100 300\n",
      "0 0 2 9 1 5 0 0 0 0 0 0\n",
      "#1 110\n"
     ]
    }
   ],
   "source": [
    "def init(size):\n",
    "    # 1 : B\n",
    "    # 2 : W\n",
    "    # 21\n",
    "    # 12\n",
    "    game = [[0 for col in range(size)] for row in range(size)]\n",
    "    \n",
    "    idx = int(size/2)\n",
    "    game[idx][idx] = 2\n",
    "    game[idx-1][idx-1] = 2\n",
    "    game[idx-1][idx] = 1\n",
    "    game[idx][idx-1] = 1\n",
    "\n",
    "    return game\n",
    "\n",
    "def check(game,i,j,BW):\n",
    "    # 가로 왼쪽\n",
    "    \n",
    "    # 가로 오른쪽\n",
    "    \n",
    "    # 세로 위\n",
    "    \n",
    "    # 세로 아래\n",
    "    \n",
    "    # 대각선 위\n",
    "    \n",
    "    # 대각선 아래\n",
    "\n",
    "def func(test_case, lst):\n",
    "    # 1 : B\n",
    "    # 2 : W\n",
    "    game = init(test_case[0])\n",
    "    print(game)\n",
    "    for i in range(test_case[1]):\n",
    "        check(game, i[0]-1,i[1]-1,i[2])\n",
    "    \n",
    "    return 0\n",
    "\n",
    "if __name__ == \"__main__\":\n",
    "    len_test = int(input().strip())\n",
    "    for i in range(len_test):\n",
    "        test_case = list(map(int, input().strip().split()))\n",
    "        lst = []\n",
    "        for j in range(test_case[1]):\n",
    "            lst.append(list(map(int, input().strip().split())))\n",
    "        result = func(test_case, lst)"
   ]
  }
 ],
 "metadata": {
  "kernelspec": {
   "display_name": "Python 3",
   "language": "python",
   "name": "python3"
  },
  "language_info": {
   "codemirror_mode": {
    "name": "ipython",
    "version": 3
   },
   "file_extension": ".py",
   "mimetype": "text/x-python",
   "name": "python",
   "nbconvert_exporter": "python",
   "pygments_lexer": "ipython3",
   "version": "3.7.3"
  }
 },
 "nbformat": 4,
 "nbformat_minor": 2
}

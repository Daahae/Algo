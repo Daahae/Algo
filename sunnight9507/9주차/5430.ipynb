{
 "cells": [
  {
   "cell_type": "code",
   "execution_count": 3,
   "metadata": {},
   "outputs": [
    {
     "name": "stdout",
     "output_type": "stream",
     "text": [
      "4\n",
      "RDD\n",
      "4\n",
      "[1,2,3,4]\n",
      "DD\n",
      "1\n",
      "[42]\n",
      "RRD\n",
      "6\n",
      "[1,1,2,3,5,8]\n",
      "D\n",
      "0\n",
      "[]\n",
      "[2, 1]\n",
      "error\n",
      "[1, 2, 3, 5, 8]\n",
      "error\n"
     ]
    }
   ],
   "source": [
    "def AC(func, n, list):\n",
    "    #print(func, n, list)\n",
    "    \n",
    "    start_index = 0\n",
    "    end_index = len(list) - 1\n",
    "    \n",
    "    index = 1\n",
    "    \n",
    "    for i in range(len(func)):\n",
    "        if func[i] == 'R':\n",
    "            index *= -1\n",
    "        else:\n",
    "            if start_index >= end_index:\n",
    "                return 'error'\n",
    "            \n",
    "            if index == 1:\n",
    "                start_index += 1\n",
    "            else:\n",
    "                end_index -= 1\n",
    "    \n",
    "    result = []\n",
    "    if index == 1:\n",
    "        for i in range(start_index, end_index + 1):\n",
    "            result.append(int(list[i]))\n",
    "    else:\n",
    "        for i in range(end_index, start_index - 1,-1):\n",
    "            result.append(int(list[i]))\n",
    "            \n",
    "    return result\n",
    "\n",
    "len_testcase = int(input())\n",
    "\n",
    "result = []\n",
    "\n",
    "for i in range(len_testcase):\n",
    "    func = input()\n",
    "    n = int(input())\n",
    "    list = input()\n",
    "    result.append(AC(func, n, list[1:-1].split(',')))\n",
    "\n",
    "for i in range(len(result)):\n",
    "    print(result[i])"
   ]
  }
 ],
 "metadata": {
  "kernelspec": {
   "display_name": "Python 3",
   "language": "python",
   "name": "python3"
  },
  "language_info": {
   "codemirror_mode": {
    "name": "ipython",
    "version": 3
   },
   "file_extension": ".py",
   "mimetype": "text/x-python",
   "name": "python",
   "nbconvert_exporter": "python",
   "pygments_lexer": "ipython3",
   "version": "3.7.3"
  }
 },
 "nbformat": 4,
 "nbformat_minor": 2
}

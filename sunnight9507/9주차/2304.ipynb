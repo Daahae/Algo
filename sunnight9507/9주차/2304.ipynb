{
 "cells": [
  {
   "cell_type": "code",
   "execution_count": 21,
   "metadata": {},
   "outputs": [
    {
     "name": "stdout",
     "output_type": "stream",
     "text": [
      "7\n",
      "2 4\n",
      "11 4\n",
      "15 8\n",
      "4 6\n",
      "5 3\n",
      "8 10\n",
      "13 6\n",
      "98\n"
     ]
    }
   ],
   "source": [
    "col = [0]*1001\n",
    "N = int(input())\n",
    "col_range = [1001,0]\n",
    "max_c = 0\n",
    "max_col = 0\n",
    "max_index = 0\n",
    "\n",
    "for _ in range(N):\n",
    "    a, b = map(int, input().split())\n",
    "    if a < col_range[0]:\n",
    "        col_range[0] = a\n",
    "    if a > col_range[1]:\n",
    "        col_range[1] = a\n",
    "    if b > max_c:\n",
    "        max_c = b\n",
    "        max_index = a\n",
    "    col[a] = b\n",
    "\n",
    "#print(max_index, max_c)\n",
    "\n",
    "result = 0\n",
    "if max_index == col_range[1]:\n",
    "    for e in col[col_range[0]:col_range[1]+1]:\n",
    "        #print(e)\n",
    "        if max_col < e:\n",
    "            max_col = e\n",
    "        result += max_col\n",
    "elif max_index == col_range[0]:\n",
    "    for e in col[col_range[1]:col_range[0]-1:-1]:\n",
    "        #print(e)\n",
    "        if max_col < e:\n",
    "            max_col = e\n",
    "        result += max_col\n",
    "else:\n",
    "    for e in col[col_range[0]:max_index+1]:\n",
    "        #print(e)\n",
    "        if max_col < e:\n",
    "            max_col = e\n",
    "        result += max_col\n",
    "    max_col = 0\n",
    "    for e in col[col_range[1]:max_index:-1]:\n",
    "        #print(e)\n",
    "        if max_col < e:\n",
    "            max_col = e\n",
    "        result += max_col\n",
    "print(result)"
   ]
  }
 ],
 "metadata": {
  "kernelspec": {
   "display_name": "Python 3",
   "language": "python",
   "name": "python3"
  },
  "language_info": {
   "codemirror_mode": {
    "name": "ipython",
    "version": 3
   },
   "file_extension": ".py",
   "mimetype": "text/x-python",
   "name": "python",
   "nbconvert_exporter": "python",
   "pygments_lexer": "ipython3",
   "version": "3.7.3"
  }
 },
 "nbformat": 4,
 "nbformat_minor": 2
}

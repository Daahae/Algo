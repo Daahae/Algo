{
 "cells": [
  {
   "cell_type": "code",
   "execution_count": 46,
   "metadata": {},
   "outputs": [
    {
     "name": "stdout",
     "output_type": "stream",
     "text": [
      "6 3\n",
      "qqq\n",
      "qqqq\n",
      "qqqqq\n",
      "qqqq\n",
      "qqqqq\n",
      "qqq\n",
      "3 4\n",
      "3 5\n",
      "3 4\n",
      "4 5\n",
      "4 4\n",
      "4 5\n",
      "5 4\n",
      "5 5\n",
      "5 3\n",
      "4 5\n",
      "4 3\n",
      "5 3\n",
      "2\n"
     ]
    }
   ],
   "source": [
    "def func(N,K,names):\n",
    "    cnt = 0\n",
    "    for i in range(int(N)-1):\n",
    "        for j in range(int(K)):\n",
    "            if i + j + 1 >= len(names):\n",
    "                break\n",
    "            if names[i] == names[i+j+1]:\n",
    "                cnt += 1\n",
    "            print(names[i], names[i+j+1])\n",
    "    print(cnt)\n",
    "\n",
    "N, K = input().split()\n",
    "\n",
    "names = []\n",
    "for i in range(int(N)):\n",
    "    names.append(len(input()))\n",
    "\n",
    "func(N,K,names)"
   ]
  }
 ],
 "metadata": {
  "kernelspec": {
   "display_name": "Python 3",
   "language": "python",
   "name": "python3"
  },
  "language_info": {
   "codemirror_mode": {
    "name": "ipython",
    "version": 3
   },
   "file_extension": ".py",
   "mimetype": "text/x-python",
   "name": "python",
   "nbconvert_exporter": "python",
   "pygments_lexer": "ipython3",
   "version": "3.7.3"
  }
 },
 "nbformat": 4,
 "nbformat_minor": 2
}
